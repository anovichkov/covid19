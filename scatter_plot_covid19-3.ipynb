{
 "cells": [
  {
   "cell_type": "code",
   "execution_count": 1,
   "metadata": {},
   "outputs": [],
   "source": [
    "import numpy as np \n",
    "import pandas as pd\n",
    "import plotly.graph_objects as go\n",
    "import datetime\n",
    "from datetime import timedelta\n",
    "import requests"
   ]
  },
  {
   "cell_type": "code",
   "execution_count": 2,
   "metadata": {},
   "outputs": [],
   "source": [
    "import os\n",
    "from IPython.display import Image"
   ]
  },
  {
   "cell_type": "code",
   "execution_count": 3,
   "metadata": {},
   "outputs": [
    {
     "name": "stdout",
     "output_type": "stream",
     "text": [
      "04-11-2020\n",
      "04-10-2020\n"
     ]
    }
   ],
   "source": [
    "today = pd.to_datetime('today').strftime(\"%m-%d-%Y\")\n",
    "daybefore = (datetime.date.today() - timedelta(days=1)).strftime(\"%m-%d-%Y\")\n",
    "print(today)\n",
    "print(daybefore)"
   ]
  },
  {
   "cell_type": "code",
   "execution_count": 4,
   "metadata": {},
   "outputs": [
    {
     "name": "stdout",
     "output_type": "stream",
     "text": [
      "https://raw.githubusercontent.com/CSSEGISandData/COVID-19/master/csse_covid_19_data/csse_covid_19_daily_reports/04-11-2020.csv\n",
      "https://raw.githubusercontent.com/CSSEGISandData/COVID-19/master/csse_covid_19_data/csse_covid_19_daily_reports/04-10-2020.csv\n"
     ]
    }
   ],
   "source": [
    "url_today='https://raw.githubusercontent.com/CSSEGISandData/COVID-19/master/csse_covid_19_data/csse_covid_19_daily_reports/' + today + '.csv'\n",
    "url_daybefore='https://raw.githubusercontent.com/CSSEGISandData/COVID-19/master/csse_covid_19_data/csse_covid_19_daily_reports/' + daybefore + '.csv'\n",
    "print(url_today)\n",
    "print(url_daybefore)"
   ]
  },
  {
   "cell_type": "code",
   "execution_count": 5,
   "metadata": {},
   "outputs": [
    {
     "name": "stdout",
     "output_type": "stream",
     "text": [
      "https://raw.githubusercontent.com/CSSEGISandData/COVID-19/master/csse_covid_19_data/csse_covid_19_daily_reports/04-10-2020.csv\n",
      "10.04.2020\n",
      "20200410\n"
     ]
    }
   ],
   "source": [
    "request = requests.get(url_today)\n",
    "if request.status_code == 200:\n",
    "    url = url_today\n",
    "    date = pd.to_datetime('today').strftime('%d.%m.%Y')\n",
    "    date2 = datetime.date.today().strftime('%Y%m%d')\n",
    "else:\n",
    "    url = url_daybefore\n",
    "    date = (datetime.date.today() - timedelta(days=1)).strftime('%d.%m.%Y')\n",
    "    date2 = (datetime.date.today() - timedelta(days=1)).strftime('%Y%m%d')\n",
    "    \n",
    "print(url)\n",
    "print(date)\n",
    "print(date2)"
   ]
  },
  {
   "cell_type": "code",
   "execution_count": 6,
   "metadata": {},
   "outputs": [
    {
     "data": {
      "text/html": [
       "<div>\n",
       "<style scoped>\n",
       "    .dataframe tbody tr th:only-of-type {\n",
       "        vertical-align: middle;\n",
       "    }\n",
       "\n",
       "    .dataframe tbody tr th {\n",
       "        vertical-align: top;\n",
       "    }\n",
       "\n",
       "    .dataframe thead th {\n",
       "        text-align: right;\n",
       "    }\n",
       "</style>\n",
       "<table border=\"1\" class=\"dataframe\">\n",
       "  <thead>\n",
       "    <tr style=\"text-align: right;\">\n",
       "      <th></th>\n",
       "      <th>FIPS</th>\n",
       "      <th>Admin2</th>\n",
       "      <th>Province_State</th>\n",
       "      <th>Country_Region</th>\n",
       "      <th>Last_Update</th>\n",
       "      <th>Lat</th>\n",
       "      <th>Long_</th>\n",
       "      <th>Confirmed</th>\n",
       "      <th>Deaths</th>\n",
       "      <th>Recovered</th>\n",
       "      <th>Active</th>\n",
       "      <th>Combined_Key</th>\n",
       "    </tr>\n",
       "  </thead>\n",
       "  <tbody>\n",
       "    <tr>\n",
       "      <td>0</td>\n",
       "      <td>45001.0</td>\n",
       "      <td>Abbeville</td>\n",
       "      <td>South Carolina</td>\n",
       "      <td>US</td>\n",
       "      <td>2020-04-10 22:54:07</td>\n",
       "      <td>34.223334</td>\n",
       "      <td>-82.461707</td>\n",
       "      <td>7</td>\n",
       "      <td>0</td>\n",
       "      <td>0</td>\n",
       "      <td>0</td>\n",
       "      <td>Abbeville, South Carolina, US</td>\n",
       "    </tr>\n",
       "    <tr>\n",
       "      <td>1</td>\n",
       "      <td>22001.0</td>\n",
       "      <td>Acadia</td>\n",
       "      <td>Louisiana</td>\n",
       "      <td>US</td>\n",
       "      <td>2020-04-10 22:54:07</td>\n",
       "      <td>30.295065</td>\n",
       "      <td>-92.414197</td>\n",
       "      <td>94</td>\n",
       "      <td>4</td>\n",
       "      <td>0</td>\n",
       "      <td>0</td>\n",
       "      <td>Acadia, Louisiana, US</td>\n",
       "    </tr>\n",
       "    <tr>\n",
       "      <td>2</td>\n",
       "      <td>51001.0</td>\n",
       "      <td>Accomack</td>\n",
       "      <td>Virginia</td>\n",
       "      <td>US</td>\n",
       "      <td>2020-04-10 22:54:07</td>\n",
       "      <td>37.767072</td>\n",
       "      <td>-75.632346</td>\n",
       "      <td>12</td>\n",
       "      <td>0</td>\n",
       "      <td>0</td>\n",
       "      <td>0</td>\n",
       "      <td>Accomack, Virginia, US</td>\n",
       "    </tr>\n",
       "    <tr>\n",
       "      <td>3</td>\n",
       "      <td>16001.0</td>\n",
       "      <td>Ada</td>\n",
       "      <td>Idaho</td>\n",
       "      <td>US</td>\n",
       "      <td>2020-04-10 22:54:07</td>\n",
       "      <td>43.452658</td>\n",
       "      <td>-116.241552</td>\n",
       "      <td>495</td>\n",
       "      <td>6</td>\n",
       "      <td>0</td>\n",
       "      <td>0</td>\n",
       "      <td>Ada, Idaho, US</td>\n",
       "    </tr>\n",
       "    <tr>\n",
       "      <td>4</td>\n",
       "      <td>19001.0</td>\n",
       "      <td>Adair</td>\n",
       "      <td>Iowa</td>\n",
       "      <td>US</td>\n",
       "      <td>2020-04-10 22:54:07</td>\n",
       "      <td>41.330756</td>\n",
       "      <td>-94.471059</td>\n",
       "      <td>1</td>\n",
       "      <td>0</td>\n",
       "      <td>0</td>\n",
       "      <td>0</td>\n",
       "      <td>Adair, Iowa, US</td>\n",
       "    </tr>\n",
       "    <tr>\n",
       "      <td>...</td>\n",
       "      <td>...</td>\n",
       "      <td>...</td>\n",
       "      <td>...</td>\n",
       "      <td>...</td>\n",
       "      <td>...</td>\n",
       "      <td>...</td>\n",
       "      <td>...</td>\n",
       "      <td>...</td>\n",
       "      <td>...</td>\n",
       "      <td>...</td>\n",
       "      <td>...</td>\n",
       "      <td>...</td>\n",
       "    </tr>\n",
       "    <tr>\n",
       "      <td>2937</td>\n",
       "      <td>NaN</td>\n",
       "      <td>NaN</td>\n",
       "      <td>NaN</td>\n",
       "      <td>Western Sahara</td>\n",
       "      <td>2020-04-10 22:53:48</td>\n",
       "      <td>24.215500</td>\n",
       "      <td>-12.885800</td>\n",
       "      <td>4</td>\n",
       "      <td>0</td>\n",
       "      <td>0</td>\n",
       "      <td>4</td>\n",
       "      <td>,,Western Sahara</td>\n",
       "    </tr>\n",
       "    <tr>\n",
       "      <td>2938</td>\n",
       "      <td>NaN</td>\n",
       "      <td>NaN</td>\n",
       "      <td>NaN</td>\n",
       "      <td>Yemen</td>\n",
       "      <td>2020-04-10 22:53:48</td>\n",
       "      <td>15.552727</td>\n",
       "      <td>48.516388</td>\n",
       "      <td>1</td>\n",
       "      <td>0</td>\n",
       "      <td>0</td>\n",
       "      <td>1</td>\n",
       "      <td>Yemen</td>\n",
       "    </tr>\n",
       "    <tr>\n",
       "      <td>2939</td>\n",
       "      <td>NaN</td>\n",
       "      <td>NaN</td>\n",
       "      <td>NaN</td>\n",
       "      <td>Zambia</td>\n",
       "      <td>2020-04-10 22:53:48</td>\n",
       "      <td>-13.133897</td>\n",
       "      <td>27.849332</td>\n",
       "      <td>40</td>\n",
       "      <td>2</td>\n",
       "      <td>25</td>\n",
       "      <td>13</td>\n",
       "      <td>Zambia</td>\n",
       "    </tr>\n",
       "    <tr>\n",
       "      <td>2940</td>\n",
       "      <td>NaN</td>\n",
       "      <td>NaN</td>\n",
       "      <td>NaN</td>\n",
       "      <td>Zimbabwe</td>\n",
       "      <td>2020-04-10 22:53:48</td>\n",
       "      <td>-19.015438</td>\n",
       "      <td>29.154857</td>\n",
       "      <td>13</td>\n",
       "      <td>3</td>\n",
       "      <td>0</td>\n",
       "      <td>10</td>\n",
       "      <td>Zimbabwe</td>\n",
       "    </tr>\n",
       "    <tr>\n",
       "      <td>2941</td>\n",
       "      <td>NaN</td>\n",
       "      <td>unassigned</td>\n",
       "      <td>Utah</td>\n",
       "      <td>US</td>\n",
       "      <td>2020-04-10 22:54:07</td>\n",
       "      <td>NaN</td>\n",
       "      <td>NaN</td>\n",
       "      <td>0</td>\n",
       "      <td>4</td>\n",
       "      <td>0</td>\n",
       "      <td>0</td>\n",
       "      <td>unassigned, Utah, US</td>\n",
       "    </tr>\n",
       "  </tbody>\n",
       "</table>\n",
       "<p>2942 rows × 12 columns</p>\n",
       "</div>"
      ],
      "text/plain": [
       "         FIPS      Admin2  Province_State  Country_Region  \\\n",
       "0     45001.0   Abbeville  South Carolina              US   \n",
       "1     22001.0      Acadia       Louisiana              US   \n",
       "2     51001.0    Accomack        Virginia              US   \n",
       "3     16001.0         Ada           Idaho              US   \n",
       "4     19001.0       Adair            Iowa              US   \n",
       "...       ...         ...             ...             ...   \n",
       "2937      NaN         NaN             NaN  Western Sahara   \n",
       "2938      NaN         NaN             NaN           Yemen   \n",
       "2939      NaN         NaN             NaN          Zambia   \n",
       "2940      NaN         NaN             NaN        Zimbabwe   \n",
       "2941      NaN  unassigned            Utah              US   \n",
       "\n",
       "              Last_Update        Lat       Long_  Confirmed  Deaths  \\\n",
       "0     2020-04-10 22:54:07  34.223334  -82.461707          7       0   \n",
       "1     2020-04-10 22:54:07  30.295065  -92.414197         94       4   \n",
       "2     2020-04-10 22:54:07  37.767072  -75.632346         12       0   \n",
       "3     2020-04-10 22:54:07  43.452658 -116.241552        495       6   \n",
       "4     2020-04-10 22:54:07  41.330756  -94.471059          1       0   \n",
       "...                   ...        ...         ...        ...     ...   \n",
       "2937  2020-04-10 22:53:48  24.215500  -12.885800          4       0   \n",
       "2938  2020-04-10 22:53:48  15.552727   48.516388          1       0   \n",
       "2939  2020-04-10 22:53:48 -13.133897   27.849332         40       2   \n",
       "2940  2020-04-10 22:53:48 -19.015438   29.154857         13       3   \n",
       "2941  2020-04-10 22:54:07        NaN         NaN          0       4   \n",
       "\n",
       "      Recovered  Active                   Combined_Key  \n",
       "0             0       0  Abbeville, South Carolina, US  \n",
       "1             0       0          Acadia, Louisiana, US  \n",
       "2             0       0         Accomack, Virginia, US  \n",
       "3             0       0                 Ada, Idaho, US  \n",
       "4             0       0                Adair, Iowa, US  \n",
       "...         ...     ...                            ...  \n",
       "2937          0       4               ,,Western Sahara  \n",
       "2938          0       1                          Yemen  \n",
       "2939         25      13                         Zambia  \n",
       "2940          0      10                       Zimbabwe  \n",
       "2941          0       0           unassigned, Utah, US  \n",
       "\n",
       "[2942 rows x 12 columns]"
      ]
     },
     "execution_count": 6,
     "metadata": {},
     "output_type": "execute_result"
    }
   ],
   "source": [
    "world = pd.read_csv(url)\n",
    "world"
   ]
  },
  {
   "cell_type": "code",
   "execution_count": 7,
   "metadata": {},
   "outputs": [
    {
     "data": {
      "text/html": [
       "<div>\n",
       "<style scoped>\n",
       "    .dataframe tbody tr th:only-of-type {\n",
       "        vertical-align: middle;\n",
       "    }\n",
       "\n",
       "    .dataframe tbody tr th {\n",
       "        vertical-align: top;\n",
       "    }\n",
       "\n",
       "    .dataframe thead th {\n",
       "        text-align: right;\n",
       "    }\n",
       "</style>\n",
       "<table border=\"1\" class=\"dataframe\">\n",
       "  <thead>\n",
       "    <tr style=\"text-align: right;\">\n",
       "      <th></th>\n",
       "      <th>Confirmed</th>\n",
       "      <th>Deaths</th>\n",
       "      <th>Recovered</th>\n",
       "      <th>Active</th>\n",
       "    </tr>\n",
       "    <tr>\n",
       "      <th>Country_Region</th>\n",
       "      <th></th>\n",
       "      <th></th>\n",
       "      <th></th>\n",
       "      <th></th>\n",
       "    </tr>\n",
       "  </thead>\n",
       "  <tbody>\n",
       "    <tr>\n",
       "      <td>US</td>\n",
       "      <td>496535</td>\n",
       "      <td>18586</td>\n",
       "      <td>28790</td>\n",
       "      <td>0</td>\n",
       "    </tr>\n",
       "    <tr>\n",
       "      <td>Spain</td>\n",
       "      <td>158273</td>\n",
       "      <td>16081</td>\n",
       "      <td>55668</td>\n",
       "      <td>86524</td>\n",
       "    </tr>\n",
       "    <tr>\n",
       "      <td>Italy</td>\n",
       "      <td>147577</td>\n",
       "      <td>18849</td>\n",
       "      <td>30455</td>\n",
       "      <td>98273</td>\n",
       "    </tr>\n",
       "    <tr>\n",
       "      <td>France</td>\n",
       "      <td>125931</td>\n",
       "      <td>13215</td>\n",
       "      <td>25195</td>\n",
       "      <td>87521</td>\n",
       "    </tr>\n",
       "    <tr>\n",
       "      <td>Germany</td>\n",
       "      <td>122171</td>\n",
       "      <td>2767</td>\n",
       "      <td>53913</td>\n",
       "      <td>65491</td>\n",
       "    </tr>\n",
       "    <tr>\n",
       "      <td>...</td>\n",
       "      <td>...</td>\n",
       "      <td>...</td>\n",
       "      <td>...</td>\n",
       "      <td>...</td>\n",
       "    </tr>\n",
       "    <tr>\n",
       "      <td>Western Sahara</td>\n",
       "      <td>4</td>\n",
       "      <td>0</td>\n",
       "      <td>0</td>\n",
       "      <td>4</td>\n",
       "    </tr>\n",
       "    <tr>\n",
       "      <td>Burundi</td>\n",
       "      <td>3</td>\n",
       "      <td>0</td>\n",
       "      <td>0</td>\n",
       "      <td>3</td>\n",
       "    </tr>\n",
       "    <tr>\n",
       "      <td>Timor-Leste</td>\n",
       "      <td>2</td>\n",
       "      <td>0</td>\n",
       "      <td>1</td>\n",
       "      <td>1</td>\n",
       "    </tr>\n",
       "    <tr>\n",
       "      <td>Papua New Guinea</td>\n",
       "      <td>2</td>\n",
       "      <td>0</td>\n",
       "      <td>0</td>\n",
       "      <td>2</td>\n",
       "    </tr>\n",
       "    <tr>\n",
       "      <td>Yemen</td>\n",
       "      <td>1</td>\n",
       "      <td>0</td>\n",
       "      <td>0</td>\n",
       "      <td>1</td>\n",
       "    </tr>\n",
       "  </tbody>\n",
       "</table>\n",
       "<p>185 rows × 4 columns</p>\n",
       "</div>"
      ],
      "text/plain": [
       "                  Confirmed  Deaths  Recovered  Active\n",
       "Country_Region                                        \n",
       "US                   496535   18586      28790       0\n",
       "Spain                158273   16081      55668   86524\n",
       "Italy                147577   18849      30455   98273\n",
       "France               125931   13215      25195   87521\n",
       "Germany              122171    2767      53913   65491\n",
       "...                     ...     ...        ...     ...\n",
       "Western Sahara            4       0          0       4\n",
       "Burundi                   3       0          0       3\n",
       "Timor-Leste               2       0          1       1\n",
       "Papua New Guinea          2       0          0       2\n",
       "Yemen                     1       0          0       1\n",
       "\n",
       "[185 rows x 4 columns]"
      ]
     },
     "execution_count": 7,
     "metadata": {},
     "output_type": "execute_result"
    }
   ],
   "source": [
    "data = world.groupby('Country_Region')['Confirmed','Deaths','Recovered','Active'].sum().sort_values(by=['Confirmed'], ascending=False)\n",
    "data"
   ]
  },
  {
   "cell_type": "code",
   "execution_count": 8,
   "metadata": {},
   "outputs": [],
   "source": [
    "#data.to_csv (r'death.csv', index = True, header=True)"
   ]
  },
  {
   "cell_type": "code",
   "execution_count": 9,
   "metadata": {},
   "outputs": [
    {
     "data": {
      "text/html": [
       "<div>\n",
       "<style scoped>\n",
       "    .dataframe tbody tr th:only-of-type {\n",
       "        vertical-align: middle;\n",
       "    }\n",
       "\n",
       "    .dataframe tbody tr th {\n",
       "        vertical-align: top;\n",
       "    }\n",
       "\n",
       "    .dataframe thead th {\n",
       "        text-align: right;\n",
       "    }\n",
       "</style>\n",
       "<table border=\"1\" class=\"dataframe\">\n",
       "  <thead>\n",
       "    <tr style=\"text-align: right;\">\n",
       "      <th></th>\n",
       "      <th>translate</th>\n",
       "    </tr>\n",
       "    <tr>\n",
       "      <th>Country_Region</th>\n",
       "      <th></th>\n",
       "    </tr>\n",
       "  </thead>\n",
       "  <tbody>\n",
       "    <tr>\n",
       "      <td>US</td>\n",
       "      <td>США</td>\n",
       "    </tr>\n",
       "    <tr>\n",
       "      <td>Spain</td>\n",
       "      <td>Испания</td>\n",
       "    </tr>\n",
       "    <tr>\n",
       "      <td>Italy</td>\n",
       "      <td>Италия</td>\n",
       "    </tr>\n",
       "    <tr>\n",
       "      <td>France</td>\n",
       "      <td>Франция</td>\n",
       "    </tr>\n",
       "    <tr>\n",
       "      <td>Germany</td>\n",
       "      <td>Германия</td>\n",
       "    </tr>\n",
       "    <tr>\n",
       "      <td>...</td>\n",
       "      <td>...</td>\n",
       "    </tr>\n",
       "    <tr>\n",
       "      <td>Gambia</td>\n",
       "      <td>Гамбия</td>\n",
       "    </tr>\n",
       "    <tr>\n",
       "      <td>Burundi</td>\n",
       "      <td>Бурунди</td>\n",
       "    </tr>\n",
       "    <tr>\n",
       "      <td>South Sudan</td>\n",
       "      <td>Южный Судан</td>\n",
       "    </tr>\n",
       "    <tr>\n",
       "      <td>Papua New Guinea</td>\n",
       "      <td>Папуа-Новая Гвинея</td>\n",
       "    </tr>\n",
       "    <tr>\n",
       "      <td>Timor-Leste</td>\n",
       "      <td>Восточный Тимор</td>\n",
       "    </tr>\n",
       "  </tbody>\n",
       "</table>\n",
       "<p>184 rows × 1 columns</p>\n",
       "</div>"
      ],
      "text/plain": [
       "                           translate\n",
       "Country_Region                      \n",
       "US                               США\n",
       "Spain                        Испания\n",
       "Italy                         Италия\n",
       "France                       Франция\n",
       "Germany                     Германия\n",
       "...                              ...\n",
       "Gambia                        Гамбия\n",
       "Burundi                      Бурунди\n",
       "South Sudan              Южный Судан\n",
       "Papua New Guinea  Папуа-Новая Гвинея\n",
       "Timor-Leste          Восточный Тимор\n",
       "\n",
       "[184 rows x 1 columns]"
      ]
     },
     "execution_count": 9,
     "metadata": {},
     "output_type": "execute_result"
    }
   ],
   "source": [
    "translate = pd.read_csv('translate.csv')\n",
    "for i in range(len(translate['translate'])):\n",
    "    translate['translate'][i] = translate['translate'][i][7:]\n",
    "    \n",
    "translate = translate.set_index('Country_Region')\n",
    "translate"
   ]
  },
  {
   "cell_type": "code",
   "execution_count": 10,
   "metadata": {},
   "outputs": [
    {
     "data": {
      "text/html": [
       "<div>\n",
       "<style scoped>\n",
       "    .dataframe tbody tr th:only-of-type {\n",
       "        vertical-align: middle;\n",
       "    }\n",
       "\n",
       "    .dataframe tbody tr th {\n",
       "        vertical-align: top;\n",
       "    }\n",
       "\n",
       "    .dataframe thead th {\n",
       "        text-align: right;\n",
       "    }\n",
       "</style>\n",
       "<table border=\"1\" class=\"dataframe\">\n",
       "  <thead>\n",
       "    <tr style=\"text-align: right;\">\n",
       "      <th></th>\n",
       "      <th>Confirmed</th>\n",
       "      <th>Deaths</th>\n",
       "      <th>Recovered</th>\n",
       "      <th>Active</th>\n",
       "      <th>translate</th>\n",
       "    </tr>\n",
       "    <tr>\n",
       "      <th>Country_Region</th>\n",
       "      <th></th>\n",
       "      <th></th>\n",
       "      <th></th>\n",
       "      <th></th>\n",
       "      <th></th>\n",
       "    </tr>\n",
       "  </thead>\n",
       "  <tbody>\n",
       "    <tr>\n",
       "      <td>US</td>\n",
       "      <td>496535</td>\n",
       "      <td>18586</td>\n",
       "      <td>28790</td>\n",
       "      <td>0</td>\n",
       "      <td>США</td>\n",
       "    </tr>\n",
       "    <tr>\n",
       "      <td>Spain</td>\n",
       "      <td>158273</td>\n",
       "      <td>16081</td>\n",
       "      <td>55668</td>\n",
       "      <td>86524</td>\n",
       "      <td>Испания</td>\n",
       "    </tr>\n",
       "    <tr>\n",
       "      <td>Italy</td>\n",
       "      <td>147577</td>\n",
       "      <td>18849</td>\n",
       "      <td>30455</td>\n",
       "      <td>98273</td>\n",
       "      <td>Италия</td>\n",
       "    </tr>\n",
       "    <tr>\n",
       "      <td>France</td>\n",
       "      <td>125931</td>\n",
       "      <td>13215</td>\n",
       "      <td>25195</td>\n",
       "      <td>87521</td>\n",
       "      <td>Франция</td>\n",
       "    </tr>\n",
       "    <tr>\n",
       "      <td>Germany</td>\n",
       "      <td>122171</td>\n",
       "      <td>2767</td>\n",
       "      <td>53913</td>\n",
       "      <td>65491</td>\n",
       "      <td>Германия</td>\n",
       "    </tr>\n",
       "    <tr>\n",
       "      <td>...</td>\n",
       "      <td>...</td>\n",
       "      <td>...</td>\n",
       "      <td>...</td>\n",
       "      <td>...</td>\n",
       "      <td>...</td>\n",
       "    </tr>\n",
       "    <tr>\n",
       "      <td>South Sudan</td>\n",
       "      <td>4</td>\n",
       "      <td>0</td>\n",
       "      <td>0</td>\n",
       "      <td>4</td>\n",
       "      <td>Южный Судан</td>\n",
       "    </tr>\n",
       "    <tr>\n",
       "      <td>Western Sahara</td>\n",
       "      <td>4</td>\n",
       "      <td>0</td>\n",
       "      <td>0</td>\n",
       "      <td>4</td>\n",
       "      <td>Западная Сахара</td>\n",
       "    </tr>\n",
       "    <tr>\n",
       "      <td>Burundi</td>\n",
       "      <td>3</td>\n",
       "      <td>0</td>\n",
       "      <td>0</td>\n",
       "      <td>3</td>\n",
       "      <td>Бурунди</td>\n",
       "    </tr>\n",
       "    <tr>\n",
       "      <td>Timor-Leste</td>\n",
       "      <td>2</td>\n",
       "      <td>0</td>\n",
       "      <td>1</td>\n",
       "      <td>1</td>\n",
       "      <td>Восточный Тимор</td>\n",
       "    </tr>\n",
       "    <tr>\n",
       "      <td>Papua New Guinea</td>\n",
       "      <td>2</td>\n",
       "      <td>0</td>\n",
       "      <td>0</td>\n",
       "      <td>2</td>\n",
       "      <td>Папуа-Новая Гвинея</td>\n",
       "    </tr>\n",
       "  </tbody>\n",
       "</table>\n",
       "<p>184 rows × 5 columns</p>\n",
       "</div>"
      ],
      "text/plain": [
       "                  Confirmed  Deaths  Recovered  Active           translate\n",
       "Country_Region                                                            \n",
       "US                   496535   18586      28790       0                 США\n",
       "Spain                158273   16081      55668   86524             Испания\n",
       "Italy                147577   18849      30455   98273              Италия\n",
       "France               125931   13215      25195   87521             Франция\n",
       "Germany              122171    2767      53913   65491            Германия\n",
       "...                     ...     ...        ...     ...                 ...\n",
       "South Sudan               4       0          0       4         Южный Судан\n",
       "Western Sahara            4       0          0       4     Западная Сахара\n",
       "Burundi                   3       0          0       3             Бурунди\n",
       "Timor-Leste               2       0          1       1     Восточный Тимор\n",
       "Papua New Guinea          2       0          0       2  Папуа-Новая Гвинея\n",
       "\n",
       "[184 rows x 5 columns]"
      ]
     },
     "execution_count": 10,
     "metadata": {},
     "output_type": "execute_result"
    }
   ],
   "source": [
    "data = pd.concat([data, translate], axis=1, join='inner')\n",
    "data"
   ]
  },
  {
   "cell_type": "code",
   "execution_count": 11,
   "metadata": {},
   "outputs": [
    {
     "data": {
      "text/html": [
       "<div>\n",
       "<style scoped>\n",
       "    .dataframe tbody tr th:only-of-type {\n",
       "        vertical-align: middle;\n",
       "    }\n",
       "\n",
       "    .dataframe tbody tr th {\n",
       "        vertical-align: top;\n",
       "    }\n",
       "\n",
       "    .dataframe thead th {\n",
       "        text-align: right;\n",
       "    }\n",
       "</style>\n",
       "<table border=\"1\" class=\"dataframe\">\n",
       "  <thead>\n",
       "    <tr style=\"text-align: right;\">\n",
       "      <th></th>\n",
       "      <th>Confirmed</th>\n",
       "      <th>Deaths</th>\n",
       "      <th>Recovered</th>\n",
       "      <th>Active</th>\n",
       "      <th>translate</th>\n",
       "    </tr>\n",
       "    <tr>\n",
       "      <th>Country_Region</th>\n",
       "      <th></th>\n",
       "      <th></th>\n",
       "      <th></th>\n",
       "      <th></th>\n",
       "      <th></th>\n",
       "    </tr>\n",
       "  </thead>\n",
       "  <tbody>\n",
       "    <tr>\n",
       "      <td>US</td>\n",
       "      <td>496535</td>\n",
       "      <td>18586</td>\n",
       "      <td>28790</td>\n",
       "      <td>0</td>\n",
       "      <td>США</td>\n",
       "    </tr>\n",
       "    <tr>\n",
       "      <td>Spain</td>\n",
       "      <td>158273</td>\n",
       "      <td>16081</td>\n",
       "      <td>55668</td>\n",
       "      <td>86524</td>\n",
       "      <td>Испания</td>\n",
       "    </tr>\n",
       "    <tr>\n",
       "      <td>Italy</td>\n",
       "      <td>147577</td>\n",
       "      <td>18849</td>\n",
       "      <td>30455</td>\n",
       "      <td>98273</td>\n",
       "      <td>Италия</td>\n",
       "    </tr>\n",
       "    <tr>\n",
       "      <td>France</td>\n",
       "      <td>125931</td>\n",
       "      <td>13215</td>\n",
       "      <td>25195</td>\n",
       "      <td>87521</td>\n",
       "      <td>Франция</td>\n",
       "    </tr>\n",
       "    <tr>\n",
       "      <td>Germany</td>\n",
       "      <td>122171</td>\n",
       "      <td>2767</td>\n",
       "      <td>53913</td>\n",
       "      <td>65491</td>\n",
       "      <td>Германия</td>\n",
       "    </tr>\n",
       "    <tr>\n",
       "      <td>China</td>\n",
       "      <td>82941</td>\n",
       "      <td>3340</td>\n",
       "      <td>77791</td>\n",
       "      <td>1810</td>\n",
       "      <td>Китай</td>\n",
       "    </tr>\n",
       "    <tr>\n",
       "      <td>United Kingdom</td>\n",
       "      <td>74605</td>\n",
       "      <td>8974</td>\n",
       "      <td>588</td>\n",
       "      <td>65043</td>\n",
       "      <td>Великобритания</td>\n",
       "    </tr>\n",
       "    <tr>\n",
       "      <td>Iran</td>\n",
       "      <td>68192</td>\n",
       "      <td>4232</td>\n",
       "      <td>35465</td>\n",
       "      <td>28495</td>\n",
       "      <td>Иран</td>\n",
       "    </tr>\n",
       "    <tr>\n",
       "      <td>Turkey</td>\n",
       "      <td>47029</td>\n",
       "      <td>1006</td>\n",
       "      <td>2423</td>\n",
       "      <td>43600</td>\n",
       "      <td>Турция</td>\n",
       "    </tr>\n",
       "    <tr>\n",
       "      <td>Belgium</td>\n",
       "      <td>26667</td>\n",
       "      <td>3019</td>\n",
       "      <td>5568</td>\n",
       "      <td>18080</td>\n",
       "      <td>Бельгия</td>\n",
       "    </tr>\n",
       "  </tbody>\n",
       "</table>\n",
       "</div>"
      ],
      "text/plain": [
       "                Confirmed  Deaths  Recovered  Active       translate\n",
       "Country_Region                                                      \n",
       "US                 496535   18586      28790       0             США\n",
       "Spain              158273   16081      55668   86524         Испания\n",
       "Italy              147577   18849      30455   98273          Италия\n",
       "France             125931   13215      25195   87521         Франция\n",
       "Germany            122171    2767      53913   65491        Германия\n",
       "China               82941    3340      77791    1810           Китай\n",
       "United Kingdom      74605    8974        588   65043  Великобритания\n",
       "Iran                68192    4232      35465   28495            Иран\n",
       "Turkey              47029    1006       2423   43600          Турция\n",
       "Belgium             26667    3019       5568   18080         Бельгия"
      ]
     },
     "execution_count": 11,
     "metadata": {},
     "output_type": "execute_result"
    }
   ],
   "source": [
    "top = data[:10]\n",
    "top"
   ]
  },
  {
   "cell_type": "code",
   "execution_count": 12,
   "metadata": {},
   "outputs": [
    {
     "data": {
      "text/html": [
       "<div>\n",
       "<style scoped>\n",
       "    .dataframe tbody tr th:only-of-type {\n",
       "        vertical-align: middle;\n",
       "    }\n",
       "\n",
       "    .dataframe tbody tr th {\n",
       "        vertical-align: top;\n",
       "    }\n",
       "\n",
       "    .dataframe thead th {\n",
       "        text-align: right;\n",
       "    }\n",
       "</style>\n",
       "<table border=\"1\" class=\"dataframe\">\n",
       "  <thead>\n",
       "    <tr style=\"text-align: right;\">\n",
       "      <th></th>\n",
       "      <th>Confirmed</th>\n",
       "      <th>Deaths</th>\n",
       "      <th>Recovered</th>\n",
       "      <th>Active</th>\n",
       "      <th>translate</th>\n",
       "    </tr>\n",
       "    <tr>\n",
       "      <th>Country_Region</th>\n",
       "      <th></th>\n",
       "      <th></th>\n",
       "      <th></th>\n",
       "      <th></th>\n",
       "      <th></th>\n",
       "    </tr>\n",
       "  </thead>\n",
       "  <tbody>\n",
       "    <tr>\n",
       "      <td>Netherlands</td>\n",
       "      <td>23249</td>\n",
       "      <td>2520</td>\n",
       "      <td>287</td>\n",
       "      <td>20442</td>\n",
       "      <td>Нидерланды</td>\n",
       "    </tr>\n",
       "    <tr>\n",
       "      <td>Canada</td>\n",
       "      <td>22059</td>\n",
       "      <td>557</td>\n",
       "      <td>5855</td>\n",
       "      <td>0</td>\n",
       "      <td>Канада</td>\n",
       "    </tr>\n",
       "    <tr>\n",
       "      <td>Brazil</td>\n",
       "      <td>19638</td>\n",
       "      <td>1057</td>\n",
       "      <td>173</td>\n",
       "      <td>18408</td>\n",
       "      <td>Бразилия</td>\n",
       "    </tr>\n",
       "    <tr>\n",
       "      <td>Portugal</td>\n",
       "      <td>15472</td>\n",
       "      <td>435</td>\n",
       "      <td>233</td>\n",
       "      <td>14804</td>\n",
       "      <td>Португалия</td>\n",
       "    </tr>\n",
       "    <tr>\n",
       "      <td>Austria</td>\n",
       "      <td>13555</td>\n",
       "      <td>319</td>\n",
       "      <td>6064</td>\n",
       "      <td>7172</td>\n",
       "      <td>Австрия</td>\n",
       "    </tr>\n",
       "    <tr>\n",
       "      <td>...</td>\n",
       "      <td>...</td>\n",
       "      <td>...</td>\n",
       "      <td>...</td>\n",
       "      <td>...</td>\n",
       "      <td>...</td>\n",
       "    </tr>\n",
       "    <tr>\n",
       "      <td>South Sudan</td>\n",
       "      <td>4</td>\n",
       "      <td>0</td>\n",
       "      <td>0</td>\n",
       "      <td>4</td>\n",
       "      <td>Южный Судан</td>\n",
       "    </tr>\n",
       "    <tr>\n",
       "      <td>Western Sahara</td>\n",
       "      <td>4</td>\n",
       "      <td>0</td>\n",
       "      <td>0</td>\n",
       "      <td>4</td>\n",
       "      <td>Западная Сахара</td>\n",
       "    </tr>\n",
       "    <tr>\n",
       "      <td>Burundi</td>\n",
       "      <td>3</td>\n",
       "      <td>0</td>\n",
       "      <td>0</td>\n",
       "      <td>3</td>\n",
       "      <td>Бурунди</td>\n",
       "    </tr>\n",
       "    <tr>\n",
       "      <td>Timor-Leste</td>\n",
       "      <td>2</td>\n",
       "      <td>0</td>\n",
       "      <td>1</td>\n",
       "      <td>1</td>\n",
       "      <td>Восточный Тимор</td>\n",
       "    </tr>\n",
       "    <tr>\n",
       "      <td>Papua New Guinea</td>\n",
       "      <td>2</td>\n",
       "      <td>0</td>\n",
       "      <td>0</td>\n",
       "      <td>2</td>\n",
       "      <td>Папуа-Новая Гвинея</td>\n",
       "    </tr>\n",
       "  </tbody>\n",
       "</table>\n",
       "<p>173 rows × 5 columns</p>\n",
       "</div>"
      ],
      "text/plain": [
       "                  Confirmed  Deaths  Recovered  Active           translate\n",
       "Country_Region                                                            \n",
       "Netherlands           23249    2520        287   20442          Нидерланды\n",
       "Canada                22059     557       5855       0              Канада\n",
       "Brazil                19638    1057        173   18408            Бразилия\n",
       "Portugal              15472     435        233   14804          Португалия\n",
       "Austria               13555     319       6064    7172             Австрия\n",
       "...                     ...     ...        ...     ...                 ...\n",
       "South Sudan               4       0          0       4         Южный Судан\n",
       "Western Sahara            4       0          0       4     Западная Сахара\n",
       "Burundi                   3       0          0       3             Бурунди\n",
       "Timor-Leste               2       0          1       1     Восточный Тимор\n",
       "Papua New Guinea          2       0          0       2  Папуа-Новая Гвинея\n",
       "\n",
       "[173 rows x 5 columns]"
      ]
     },
     "execution_count": 12,
     "metadata": {},
     "output_type": "execute_result"
    }
   ],
   "source": [
    "others = data[11:]\n",
    "others"
   ]
  },
  {
   "cell_type": "code",
   "execution_count": 13,
   "metadata": {},
   "outputs": [
    {
     "data": {
      "text/html": [
       "<div>\n",
       "<style scoped>\n",
       "    .dataframe tbody tr th:only-of-type {\n",
       "        vertical-align: middle;\n",
       "    }\n",
       "\n",
       "    .dataframe tbody tr th {\n",
       "        vertical-align: top;\n",
       "    }\n",
       "\n",
       "    .dataframe thead th {\n",
       "        text-align: right;\n",
       "    }\n",
       "</style>\n",
       "<table border=\"1\" class=\"dataframe\">\n",
       "  <thead>\n",
       "    <tr style=\"text-align: right;\">\n",
       "      <th></th>\n",
       "      <th>Confirmed</th>\n",
       "      <th>Deaths</th>\n",
       "      <th>Recovered</th>\n",
       "      <th>Active</th>\n",
       "      <th>translate</th>\n",
       "    </tr>\n",
       "  </thead>\n",
       "  <tbody>\n",
       "    <tr>\n",
       "      <td>Russia</td>\n",
       "      <td>11917</td>\n",
       "      <td>94</td>\n",
       "      <td>795</td>\n",
       "      <td>11028</td>\n",
       "      <td>Россия</td>\n",
       "    </tr>\n",
       "  </tbody>\n",
       "</table>\n",
       "</div>"
      ],
      "text/plain": [
       "       Confirmed Deaths Recovered Active translate\n",
       "Russia     11917     94       795  11028    Россия"
      ]
     },
     "execution_count": 13,
     "metadata": {},
     "output_type": "execute_result"
    }
   ],
   "source": [
    "russia = pd.DataFrame(data.loc['Russia']).T\n",
    "russia"
   ]
  },
  {
   "cell_type": "code",
   "execution_count": 18,
   "metadata": {
    "scrolled": false
   },
   "outputs": [
    {
     "data": {
      "application/vnd.plotly.v1+json": {
       "config": {
        "plotlyServerURL": "https://plot.ly"
       },
       "data": [
        {
         "marker": {
          "color": "rgba(255,0,0,1)"
         },
         "mode": "markers+text",
         "name": "Top-10",
         "text": [
          "США",
          "Испания",
          "Италия",
          "Франция",
          "Германия",
          "Китай",
          "Великобритания",
          "Иран",
          "Турция",
          "Бельгия"
         ],
         "textposition": "middle right",
         "type": "scatter",
         "x": [
          18586,
          16081,
          18849,
          13215,
          2767,
          3340,
          8974,
          4232,
          1006,
          3019
         ],
         "y": [
          28790,
          55668,
          30455,
          25195,
          53913,
          77791,
          588,
          35465,
          2423,
          5568
         ]
        },
        {
         "marker": {
          "color": "rgba(200,200,200, 1)"
         },
         "mode": "markers",
         "name": "Other world",
         "text": [
          "Нидерланды",
          "Канада",
          "Бразилия",
          "Португалия",
          "Австрия",
          "Россия",
          "Южная Корея",
          "Израиль",
          "Швеция",
          "Ирландия",
          "Индия",
          "Эквадор",
          "Чили",
          "Норвегия",
          "Австралия",
          "Дания",
          "Польша",
          "Перу",
          "Чехия",
          "Япония",
          "Румыния",
          "Пакистан",
          "Малайзия",
          "Филиппины",
          "Саудовская Аравия",
          "Индонезия",
          "Мексика",
          "Объединенные Арабские Эмираты",
          "Люксембург",
          "Сербия",
          "Финляндия",
          "Панама",
          "Доминиканская Республика",
          "Катар",
          "Колумбия",
          "Таиланд",
          "Украина",
          "Сингапур",
          "Греция",
          "Южная Африка",
          "Беларусь",
          "Аргентина",
          "Египет",
          "Алжир",
          "Исландия",
          "Хорватия",
          "Марокко",
          "Молдова",
          "Новая Зеландия",
          "Ирак",
          "Эстония",
          "Венгрия",
          "Словения",
          "Литва",
          "Кувейт",
          "Азербайджан",
          "Армения",
          "Бахрейн",
          "Босния и Герцеговина",
          "Камерун",
          "Казахстан",
          "Словакия",
          "Алмазная принцесса",
          "Северная Македония",
          "Тунис",
          "Болгария",
          "Узбекистан",
          "Латвия",
          "Ливан",
          "Андорра",
          "Кипр",
          "Куба",
          "Коста-Рика",
          "Афганистан",
          "Оман",
          "Уругвай",
          "Кот-д'Ивуар",
          "Буркина-Фасо",
          "Нигер",
          "Бангладеш",
          "Албания",
          "Тайвань *",
          "Гондурас",
          "Гана",
          "Иордания",
          "Мальта",
          "Сан-Марино",
          "Маврикий",
          "Нигерия",
          "Кыргызстан",
          "Боливия",
          "Западный берег и сектор Газа",
          "Сенегал",
          "Вьетнам",
          "Черногория",
          "Косово",
          "Грузия",
          "Конго (Киншаса)",
          "Гвинея",
          "Шри-Ланка",
          "Кения",
          "Венесуэла",
          "Джибути",
          "Бруней",
          "Парагвай",
          "Гватемала",
          "Камбоджа",
          "Руанда",
          "Сальвадор",
          "Тринидад и Тобаго",
          "Мадагаскар",
          "Монако",
          "Мали",
          "Лихтенштейн",
          "Того",
          "Барбадос",
          "Эфиопия",
          "Ямайка",
          "Конго (Браззавиль)",
          "Уганда",
          "Габон",
          "Багамские о-ва",
          "Замбия",
          "Гайана",
          "Либерия",
          "Гвинея-Бисау",
          "Бенин",
          "Эритрея",
          "Танзания",
          "Гаити",
          "Бирма",
          "Ливия",
          "Сомали",
          "Мозамбик",
          "Антигуа и Барбуда",
          "Ангола",
          "Сирия",
          "Мальдивские о-ва",
          "Экваториальная Гвинея",
          "Судан",
          "Монголия",
          "Доминика",
          "Лаос",
          "Фиджи",
          "Намибия",
          "Сент-Люсия",
          "Гренада",
          "Зимбабве",
          "Ботсвана",
          "Eswatini",
          "Сент-Винсент и Гренадины",
          "Сент-Китс и Невис",
          "Сейшелы",
          "Чад",
          "Суринам",
          "Белиз",
          "Непал",
          "MS Зандам",
          "Малави",
          "Центрально-Африканская Республика",
          "Святой Престол",
          "Сьерра-Леоне",
          "Никарагуа",
          "Мавритания",
          "Кабо-Верде",
          "Бутан",
          "Сан-Томе и Принсипи",
          "Гамбия",
          "Южный Судан",
          "Западная Сахара",
          "Бурунди",
          "Восточный Тимор",
          "Папуа-Новая Гвинея"
         ],
         "type": "scatter",
         "x": [
          2520,
          557,
          1057,
          435,
          319,
          94,
          208,
          95,
          870,
          287,
          246,
          297,
          65,
          113,
          54,
          247,
          181,
          169,
          119,
          99,
          270,
          66,
          70,
          221,
          47,
          306,
          194,
          16,
          54,
          71,
          48,
          66,
          126,
          6,
          80,
          33,
          69,
          7,
          92,
          24,
          19,
          82,
          135,
          256,
          7,
          21,
          107,
          29,
          2,
          70,
          24,
          77,
          45,
          22,
          1,
          10,
          12,
          6,
          36,
          12,
          10,
          2,
          11,
          32,
          25,
          25,
          3,
          3,
          20,
          26,
          10,
          15,
          3,
          15,
          3,
          7,
          3,
          24,
          11,
          27,
          23,
          6,
          23,
          6,
          7,
          2,
          34,
          9,
          7,
          5,
          19,
          2,
          2,
          0,
          2,
          7,
          3,
          20,
          0,
          7,
          7,
          9,
          1,
          1,
          6,
          3,
          0,
          0,
          6,
          8,
          0,
          1,
          7,
          1,
          3,
          4,
          3,
          4,
          5,
          0,
          1,
          8,
          2,
          6,
          5,
          0,
          1,
          0,
          3,
          2,
          3,
          1,
          1,
          0,
          2,
          2,
          2,
          0,
          0,
          2,
          0,
          0,
          0,
          0,
          0,
          0,
          0,
          3,
          1,
          0,
          0,
          0,
          0,
          0,
          1,
          2,
          0,
          2,
          1,
          0,
          0,
          0,
          1,
          1,
          1,
          0,
          0,
          1,
          0,
          0,
          0,
          0,
          0
         ],
         "y": [
          287,
          5855,
          173,
          233,
          6064,
          795,
          7117,
          1183,
          381,
          25,
          774,
          368,
          1571,
          32,
          1793,
          1929,
          318,
          1569,
          346,
          685,
          729,
          727,
          1830,
          140,
          685,
          282,
          633,
          418,
          500,
          0,
          300,
          16,
          98,
          227,
          197,
          1013,
          61,
          492,
          269,
          410,
          169,
          375,
          384,
          405,
          751,
          231,
          122,
          56,
          373,
          550,
          93,
          112,
          137,
          54,
          123,
          159,
          149,
          539,
          129,
          98,
          64,
          23,
          619,
          41,
          25,
          54,
          42,
          16,
          76,
          71,
          58,
          51,
          42,
          32,
          109,
          206,
          52,
          146,
          41,
          33,
          182,
          91,
          7,
          4,
          170,
          16,
          50,
          23,
          58,
          35,
          2,
          45,
          137,
          144,
          4,
          52,
          54,
          13,
          15,
          54,
          22,
          84,
          36,
          99,
          18,
          17,
          72,
          7,
          15,
          1,
          11,
          5,
          22,
          55,
          25,
          11,
          4,
          13,
          5,
          0,
          1,
          5,
          25,
          8,
          3,
          0,
          5,
          0,
          5,
          0,
          2,
          8,
          1,
          2,
          0,
          2,
          4,
          13,
          3,
          2,
          4,
          5,
          0,
          0,
          3,
          1,
          0,
          0,
          0,
          7,
          1,
          0,
          0,
          2,
          4,
          0,
          1,
          0,
          0,
          0,
          2,
          0,
          0,
          2,
          1,
          2,
          0,
          2,
          0,
          0,
          0,
          1,
          0
         ]
        },
        {
         "marker": {
          "color": "rgba(0,0,255,1)"
         },
         "mode": "markers+text",
         "name": "Russia",
         "text": [
          "Россия"
         ],
         "textposition": "middle right",
         "type": "scatter",
         "x": [
          94
         ],
         "y": [
          795
         ]
        }
       ],
       "layout": {
        "annotations": [
         {
          "showarrow": false,
          "text": "© Алексей Новичков, dataviz.ru. Источник: Johns Hopkins CSSE. Дата: 10.04.2020",
          "x": 0,
          "xanchor": "left",
          "xshift": -50,
          "y": 0,
          "yshift": -70
         }
        ],
        "font": {
         "color": "rgb(0,0,0)",
         "family": "Navigo",
         "size": 12
        },
        "height": 800,
        "margin": {
         "b": 120,
         "l": 70,
         "r": 70,
         "t": 100
        },
        "paper_bgcolor": "white",
        "showlegend": false,
        "template": {
         "data": {
          "bar": [
           {
            "error_x": {
             "color": "#2a3f5f"
            },
            "error_y": {
             "color": "#2a3f5f"
            },
            "marker": {
             "line": {
              "color": "white",
              "width": 0.5
             }
            },
            "type": "bar"
           }
          ],
          "barpolar": [
           {
            "marker": {
             "line": {
              "color": "white",
              "width": 0.5
             }
            },
            "type": "barpolar"
           }
          ],
          "carpet": [
           {
            "aaxis": {
             "endlinecolor": "#2a3f5f",
             "gridcolor": "#C8D4E3",
             "linecolor": "#C8D4E3",
             "minorgridcolor": "#C8D4E3",
             "startlinecolor": "#2a3f5f"
            },
            "baxis": {
             "endlinecolor": "#2a3f5f",
             "gridcolor": "#C8D4E3",
             "linecolor": "#C8D4E3",
             "minorgridcolor": "#C8D4E3",
             "startlinecolor": "#2a3f5f"
            },
            "type": "carpet"
           }
          ],
          "choropleth": [
           {
            "colorbar": {
             "outlinewidth": 0,
             "ticks": ""
            },
            "type": "choropleth"
           }
          ],
          "contour": [
           {
            "colorbar": {
             "outlinewidth": 0,
             "ticks": ""
            },
            "colorscale": [
             [
              0,
              "#0d0887"
             ],
             [
              0.1111111111111111,
              "#46039f"
             ],
             [
              0.2222222222222222,
              "#7201a8"
             ],
             [
              0.3333333333333333,
              "#9c179e"
             ],
             [
              0.4444444444444444,
              "#bd3786"
             ],
             [
              0.5555555555555556,
              "#d8576b"
             ],
             [
              0.6666666666666666,
              "#ed7953"
             ],
             [
              0.7777777777777778,
              "#fb9f3a"
             ],
             [
              0.8888888888888888,
              "#fdca26"
             ],
             [
              1,
              "#f0f921"
             ]
            ],
            "type": "contour"
           }
          ],
          "contourcarpet": [
           {
            "colorbar": {
             "outlinewidth": 0,
             "ticks": ""
            },
            "type": "contourcarpet"
           }
          ],
          "heatmap": [
           {
            "colorbar": {
             "outlinewidth": 0,
             "ticks": ""
            },
            "colorscale": [
             [
              0,
              "#0d0887"
             ],
             [
              0.1111111111111111,
              "#46039f"
             ],
             [
              0.2222222222222222,
              "#7201a8"
             ],
             [
              0.3333333333333333,
              "#9c179e"
             ],
             [
              0.4444444444444444,
              "#bd3786"
             ],
             [
              0.5555555555555556,
              "#d8576b"
             ],
             [
              0.6666666666666666,
              "#ed7953"
             ],
             [
              0.7777777777777778,
              "#fb9f3a"
             ],
             [
              0.8888888888888888,
              "#fdca26"
             ],
             [
              1,
              "#f0f921"
             ]
            ],
            "type": "heatmap"
           }
          ],
          "heatmapgl": [
           {
            "colorbar": {
             "outlinewidth": 0,
             "ticks": ""
            },
            "colorscale": [
             [
              0,
              "#0d0887"
             ],
             [
              0.1111111111111111,
              "#46039f"
             ],
             [
              0.2222222222222222,
              "#7201a8"
             ],
             [
              0.3333333333333333,
              "#9c179e"
             ],
             [
              0.4444444444444444,
              "#bd3786"
             ],
             [
              0.5555555555555556,
              "#d8576b"
             ],
             [
              0.6666666666666666,
              "#ed7953"
             ],
             [
              0.7777777777777778,
              "#fb9f3a"
             ],
             [
              0.8888888888888888,
              "#fdca26"
             ],
             [
              1,
              "#f0f921"
             ]
            ],
            "type": "heatmapgl"
           }
          ],
          "histogram": [
           {
            "marker": {
             "colorbar": {
              "outlinewidth": 0,
              "ticks": ""
             }
            },
            "type": "histogram"
           }
          ],
          "histogram2d": [
           {
            "colorbar": {
             "outlinewidth": 0,
             "ticks": ""
            },
            "colorscale": [
             [
              0,
              "#0d0887"
             ],
             [
              0.1111111111111111,
              "#46039f"
             ],
             [
              0.2222222222222222,
              "#7201a8"
             ],
             [
              0.3333333333333333,
              "#9c179e"
             ],
             [
              0.4444444444444444,
              "#bd3786"
             ],
             [
              0.5555555555555556,
              "#d8576b"
             ],
             [
              0.6666666666666666,
              "#ed7953"
             ],
             [
              0.7777777777777778,
              "#fb9f3a"
             ],
             [
              0.8888888888888888,
              "#fdca26"
             ],
             [
              1,
              "#f0f921"
             ]
            ],
            "type": "histogram2d"
           }
          ],
          "histogram2dcontour": [
           {
            "colorbar": {
             "outlinewidth": 0,
             "ticks": ""
            },
            "colorscale": [
             [
              0,
              "#0d0887"
             ],
             [
              0.1111111111111111,
              "#46039f"
             ],
             [
              0.2222222222222222,
              "#7201a8"
             ],
             [
              0.3333333333333333,
              "#9c179e"
             ],
             [
              0.4444444444444444,
              "#bd3786"
             ],
             [
              0.5555555555555556,
              "#d8576b"
             ],
             [
              0.6666666666666666,
              "#ed7953"
             ],
             [
              0.7777777777777778,
              "#fb9f3a"
             ],
             [
              0.8888888888888888,
              "#fdca26"
             ],
             [
              1,
              "#f0f921"
             ]
            ],
            "type": "histogram2dcontour"
           }
          ],
          "mesh3d": [
           {
            "colorbar": {
             "outlinewidth": 0,
             "ticks": ""
            },
            "type": "mesh3d"
           }
          ],
          "parcoords": [
           {
            "line": {
             "colorbar": {
              "outlinewidth": 0,
              "ticks": ""
             }
            },
            "type": "parcoords"
           }
          ],
          "pie": [
           {
            "automargin": true,
            "type": "pie"
           }
          ],
          "scatter": [
           {
            "marker": {
             "colorbar": {
              "outlinewidth": 0,
              "ticks": ""
             }
            },
            "type": "scatter"
           }
          ],
          "scatter3d": [
           {
            "line": {
             "colorbar": {
              "outlinewidth": 0,
              "ticks": ""
             }
            },
            "marker": {
             "colorbar": {
              "outlinewidth": 0,
              "ticks": ""
             }
            },
            "type": "scatter3d"
           }
          ],
          "scattercarpet": [
           {
            "marker": {
             "colorbar": {
              "outlinewidth": 0,
              "ticks": ""
             }
            },
            "type": "scattercarpet"
           }
          ],
          "scattergeo": [
           {
            "marker": {
             "colorbar": {
              "outlinewidth": 0,
              "ticks": ""
             }
            },
            "type": "scattergeo"
           }
          ],
          "scattergl": [
           {
            "marker": {
             "colorbar": {
              "outlinewidth": 0,
              "ticks": ""
             }
            },
            "type": "scattergl"
           }
          ],
          "scattermapbox": [
           {
            "marker": {
             "colorbar": {
              "outlinewidth": 0,
              "ticks": ""
             }
            },
            "type": "scattermapbox"
           }
          ],
          "scatterpolar": [
           {
            "marker": {
             "colorbar": {
              "outlinewidth": 0,
              "ticks": ""
             }
            },
            "type": "scatterpolar"
           }
          ],
          "scatterpolargl": [
           {
            "marker": {
             "colorbar": {
              "outlinewidth": 0,
              "ticks": ""
             }
            },
            "type": "scatterpolargl"
           }
          ],
          "scatterternary": [
           {
            "marker": {
             "colorbar": {
              "outlinewidth": 0,
              "ticks": ""
             }
            },
            "type": "scatterternary"
           }
          ],
          "surface": [
           {
            "colorbar": {
             "outlinewidth": 0,
             "ticks": ""
            },
            "colorscale": [
             [
              0,
              "#0d0887"
             ],
             [
              0.1111111111111111,
              "#46039f"
             ],
             [
              0.2222222222222222,
              "#7201a8"
             ],
             [
              0.3333333333333333,
              "#9c179e"
             ],
             [
              0.4444444444444444,
              "#bd3786"
             ],
             [
              0.5555555555555556,
              "#d8576b"
             ],
             [
              0.6666666666666666,
              "#ed7953"
             ],
             [
              0.7777777777777778,
              "#fb9f3a"
             ],
             [
              0.8888888888888888,
              "#fdca26"
             ],
             [
              1,
              "#f0f921"
             ]
            ],
            "type": "surface"
           }
          ],
          "table": [
           {
            "cells": {
             "fill": {
              "color": "#EBF0F8"
             },
             "line": {
              "color": "white"
             }
            },
            "header": {
             "fill": {
              "color": "#C8D4E3"
             },
             "line": {
              "color": "white"
             }
            },
            "type": "table"
           }
          ]
         },
         "layout": {
          "annotationdefaults": {
           "arrowcolor": "#2a3f5f",
           "arrowhead": 0,
           "arrowwidth": 1
          },
          "coloraxis": {
           "colorbar": {
            "outlinewidth": 0,
            "ticks": ""
           }
          },
          "colorscale": {
           "diverging": [
            [
             0,
             "#8e0152"
            ],
            [
             0.1,
             "#c51b7d"
            ],
            [
             0.2,
             "#de77ae"
            ],
            [
             0.3,
             "#f1b6da"
            ],
            [
             0.4,
             "#fde0ef"
            ],
            [
             0.5,
             "#f7f7f7"
            ],
            [
             0.6,
             "#e6f5d0"
            ],
            [
             0.7,
             "#b8e186"
            ],
            [
             0.8,
             "#7fbc41"
            ],
            [
             0.9,
             "#4d9221"
            ],
            [
             1,
             "#276419"
            ]
           ],
           "sequential": [
            [
             0,
             "#0d0887"
            ],
            [
             0.1111111111111111,
             "#46039f"
            ],
            [
             0.2222222222222222,
             "#7201a8"
            ],
            [
             0.3333333333333333,
             "#9c179e"
            ],
            [
             0.4444444444444444,
             "#bd3786"
            ],
            [
             0.5555555555555556,
             "#d8576b"
            ],
            [
             0.6666666666666666,
             "#ed7953"
            ],
            [
             0.7777777777777778,
             "#fb9f3a"
            ],
            [
             0.8888888888888888,
             "#fdca26"
            ],
            [
             1,
             "#f0f921"
            ]
           ],
           "sequentialminus": [
            [
             0,
             "#0d0887"
            ],
            [
             0.1111111111111111,
             "#46039f"
            ],
            [
             0.2222222222222222,
             "#7201a8"
            ],
            [
             0.3333333333333333,
             "#9c179e"
            ],
            [
             0.4444444444444444,
             "#bd3786"
            ],
            [
             0.5555555555555556,
             "#d8576b"
            ],
            [
             0.6666666666666666,
             "#ed7953"
            ],
            [
             0.7777777777777778,
             "#fb9f3a"
            ],
            [
             0.8888888888888888,
             "#fdca26"
            ],
            [
             1,
             "#f0f921"
            ]
           ]
          },
          "colorway": [
           "#636efa",
           "#EF553B",
           "#00cc96",
           "#ab63fa",
           "#FFA15A",
           "#19d3f3",
           "#FF6692",
           "#B6E880",
           "#FF97FF",
           "#FECB52"
          ],
          "font": {
           "color": "#2a3f5f"
          },
          "geo": {
           "bgcolor": "white",
           "lakecolor": "white",
           "landcolor": "white",
           "showlakes": true,
           "showland": true,
           "subunitcolor": "#C8D4E3"
          },
          "hoverlabel": {
           "align": "left"
          },
          "hovermode": "closest",
          "mapbox": {
           "style": "light"
          },
          "paper_bgcolor": "white",
          "plot_bgcolor": "white",
          "polar": {
           "angularaxis": {
            "gridcolor": "#EBF0F8",
            "linecolor": "#EBF0F8",
            "ticks": ""
           },
           "bgcolor": "white",
           "radialaxis": {
            "gridcolor": "#EBF0F8",
            "linecolor": "#EBF0F8",
            "ticks": ""
           }
          },
          "scene": {
           "xaxis": {
            "backgroundcolor": "white",
            "gridcolor": "#DFE8F3",
            "gridwidth": 2,
            "linecolor": "#EBF0F8",
            "showbackground": true,
            "ticks": "",
            "zerolinecolor": "#EBF0F8"
           },
           "yaxis": {
            "backgroundcolor": "white",
            "gridcolor": "#DFE8F3",
            "gridwidth": 2,
            "linecolor": "#EBF0F8",
            "showbackground": true,
            "ticks": "",
            "zerolinecolor": "#EBF0F8"
           },
           "zaxis": {
            "backgroundcolor": "white",
            "gridcolor": "#DFE8F3",
            "gridwidth": 2,
            "linecolor": "#EBF0F8",
            "showbackground": true,
            "ticks": "",
            "zerolinecolor": "#EBF0F8"
           }
          },
          "shapedefaults": {
           "line": {
            "color": "#2a3f5f"
           }
          },
          "ternary": {
           "aaxis": {
            "gridcolor": "#DFE8F3",
            "linecolor": "#A2B1C6",
            "ticks": ""
           },
           "baxis": {
            "gridcolor": "#DFE8F3",
            "linecolor": "#A2B1C6",
            "ticks": ""
           },
           "bgcolor": "white",
           "caxis": {
            "gridcolor": "#DFE8F3",
            "linecolor": "#A2B1C6",
            "ticks": ""
           }
          },
          "title": {
           "x": 0.05
          },
          "xaxis": {
           "automargin": true,
           "gridcolor": "#EBF0F8",
           "linecolor": "#EBF0F8",
           "ticks": "",
           "title": {
            "standoff": 15
           },
           "zerolinecolor": "#EBF0F8",
           "zerolinewidth": 2
          },
          "yaxis": {
           "automargin": true,
           "gridcolor": "#EBF0F8",
           "linecolor": "#EBF0F8",
           "ticks": "",
           "title": {
            "standoff": 15
           },
           "zerolinecolor": "#EBF0F8",
           "zerolinewidth": 2
          }
         }
        },
        "title": {
         "font": {
          "color": "rgb(0,0,0)",
          "family": "Navigo",
          "size": 28
         },
         "text": "Количество умерших и выздоровевших от COVID-19",
         "x": 0.03,
         "xanchor": "left",
         "y": 0.955,
         "yanchor": "top"
        },
        "width": 800,
        "xaxis": {
         "autorange": false,
         "gridcolor": "rgba(230,230,230,1)",
         "linecolor": "rgba(200,200,200,1)",
         "linewidth": 1,
         "range": [
          0,
          25000
         ],
         "showgrid": true,
         "showline": true,
         "tickcolor": "rgba(200,200,200,1)",
         "tickfont": {
          "color": "rgba(100,100,100,1)",
          "size": 12
         },
         "ticks": "outside",
         "ticktext": [
          "0",
          "5",
          "10",
          "15",
          "20",
          "25"
         ],
         "tickvals": [
          0,
          5000,
          10000,
          15000,
          20000,
          25000
         ],
         "title": {
          "standoff": 5,
          "text": "Умершие (тыс.чел.)"
         },
         "type": "linear"
        },
        "yaxis": {
         "autorange": false,
         "gridcolor": "rgba(230,230,230,1)",
         "linecolor": "rgba(200,200,200,1)",
         "linewidth": 1,
         "range": [
          0,
          80000
         ],
         "showgrid": true,
         "showline": true,
         "tickcolor": "rgba(200,200,200,1)",
         "tickfont": {
          "color": "rgba(100,100,100,1)",
          "size": 12
         },
         "ticks": "outside",
         "ticktext": [
          "0",
          "20",
          "40",
          "60",
          "80"
         ],
         "tickvals": [
          0,
          20000,
          40000,
          60000,
          80000
         ],
         "title": {
          "standoff": 5,
          "text": "Выздоровевшие (тыс.чел.)"
         },
         "type": "linear"
        }
       }
      },
      "text/html": [
       "<div>\n",
       "        \n",
       "        \n",
       "            <div id=\"604b5d6f-3084-47a9-9e36-d0cbd347dcca\" class=\"plotly-graph-div\" style=\"height:800px; width:800px;\"></div>\n",
       "            <script type=\"text/javascript\">\n",
       "                require([\"plotly\"], function(Plotly) {\n",
       "                    window.PLOTLYENV=window.PLOTLYENV || {};\n",
       "                    \n",
       "                if (document.getElementById(\"604b5d6f-3084-47a9-9e36-d0cbd347dcca\")) {\n",
       "                    Plotly.newPlot(\n",
       "                        '604b5d6f-3084-47a9-9e36-d0cbd347dcca',\n",
       "                        [{\"marker\": {\"color\": \"rgba(255,0,0,1)\"}, \"mode\": \"markers+text\", \"name\": \"Top-10\", \"text\": [\"\\u0421\\u0428\\u0410\", \"\\u0418\\u0441\\u043f\\u0430\\u043d\\u0438\\u044f\", \"\\u0418\\u0442\\u0430\\u043b\\u0438\\u044f\", \"\\u0424\\u0440\\u0430\\u043d\\u0446\\u0438\\u044f\", \"\\u0413\\u0435\\u0440\\u043c\\u0430\\u043d\\u0438\\u044f\", \"\\u041a\\u0438\\u0442\\u0430\\u0439\", \"\\u0412\\u0435\\u043b\\u0438\\u043a\\u043e\\u0431\\u0440\\u0438\\u0442\\u0430\\u043d\\u0438\\u044f\", \"\\u0418\\u0440\\u0430\\u043d\", \"\\u0422\\u0443\\u0440\\u0446\\u0438\\u044f\", \"\\u0411\\u0435\\u043b\\u044c\\u0433\\u0438\\u044f\"], \"textposition\": \"middle right\", \"type\": \"scatter\", \"x\": [18586, 16081, 18849, 13215, 2767, 3340, 8974, 4232, 1006, 3019], \"y\": [28790, 55668, 30455, 25195, 53913, 77791, 588, 35465, 2423, 5568]}, {\"marker\": {\"color\": \"rgba(200,200,200, 1)\"}, \"mode\": \"markers\", \"name\": \"Other world\", \"text\": [\"\\u041d\\u0438\\u0434\\u0435\\u0440\\u043b\\u0430\\u043d\\u0434\\u044b\", \"\\u041a\\u0430\\u043d\\u0430\\u0434\\u0430\", \"\\u0411\\u0440\\u0430\\u0437\\u0438\\u043b\\u0438\\u044f\", \"\\u041f\\u043e\\u0440\\u0442\\u0443\\u0433\\u0430\\u043b\\u0438\\u044f\", \"\\u0410\\u0432\\u0441\\u0442\\u0440\\u0438\\u044f\", \"\\u0420\\u043e\\u0441\\u0441\\u0438\\u044f\", \"\\u042e\\u0436\\u043d\\u0430\\u044f \\u041a\\u043e\\u0440\\u0435\\u044f\", \"\\u0418\\u0437\\u0440\\u0430\\u0438\\u043b\\u044c\", \"\\u0428\\u0432\\u0435\\u0446\\u0438\\u044f\", \"\\u0418\\u0440\\u043b\\u0430\\u043d\\u0434\\u0438\\u044f\", \"\\u0418\\u043d\\u0434\\u0438\\u044f\", \"\\u042d\\u043a\\u0432\\u0430\\u0434\\u043e\\u0440\", \"\\u0427\\u0438\\u043b\\u0438\", \"\\u041d\\u043e\\u0440\\u0432\\u0435\\u0433\\u0438\\u044f\", \"\\u0410\\u0432\\u0441\\u0442\\u0440\\u0430\\u043b\\u0438\\u044f\", \"\\u0414\\u0430\\u043d\\u0438\\u044f\", \"\\u041f\\u043e\\u043b\\u044c\\u0448\\u0430\", \"\\u041f\\u0435\\u0440\\u0443\", \"\\u0427\\u0435\\u0445\\u0438\\u044f\", \"\\u042f\\u043f\\u043e\\u043d\\u0438\\u044f\", \"\\u0420\\u0443\\u043c\\u044b\\u043d\\u0438\\u044f\", \"\\u041f\\u0430\\u043a\\u0438\\u0441\\u0442\\u0430\\u043d\", \"\\u041c\\u0430\\u043b\\u0430\\u0439\\u0437\\u0438\\u044f\", \"\\u0424\\u0438\\u043b\\u0438\\u043f\\u043f\\u0438\\u043d\\u044b\", \"\\u0421\\u0430\\u0443\\u0434\\u043e\\u0432\\u0441\\u043a\\u0430\\u044f \\u0410\\u0440\\u0430\\u0432\\u0438\\u044f\", \"\\u0418\\u043d\\u0434\\u043e\\u043d\\u0435\\u0437\\u0438\\u044f\", \"\\u041c\\u0435\\u043a\\u0441\\u0438\\u043a\\u0430\", \"\\u041e\\u0431\\u044a\\u0435\\u0434\\u0438\\u043d\\u0435\\u043d\\u043d\\u044b\\u0435 \\u0410\\u0440\\u0430\\u0431\\u0441\\u043a\\u0438\\u0435 \\u042d\\u043c\\u0438\\u0440\\u0430\\u0442\\u044b\", \"\\u041b\\u044e\\u043a\\u0441\\u0435\\u043c\\u0431\\u0443\\u0440\\u0433\", \"\\u0421\\u0435\\u0440\\u0431\\u0438\\u044f\", \"\\u0424\\u0438\\u043d\\u043b\\u044f\\u043d\\u0434\\u0438\\u044f\", \"\\u041f\\u0430\\u043d\\u0430\\u043c\\u0430\", \"\\u0414\\u043e\\u043c\\u0438\\u043d\\u0438\\u043a\\u0430\\u043d\\u0441\\u043a\\u0430\\u044f \\u0420\\u0435\\u0441\\u043f\\u0443\\u0431\\u043b\\u0438\\u043a\\u0430\", \"\\u041a\\u0430\\u0442\\u0430\\u0440\", \"\\u041a\\u043e\\u043b\\u0443\\u043c\\u0431\\u0438\\u044f\", \"\\u0422\\u0430\\u0438\\u043b\\u0430\\u043d\\u0434\", \"\\u0423\\u043a\\u0440\\u0430\\u0438\\u043d\\u0430\", \"\\u0421\\u0438\\u043d\\u0433\\u0430\\u043f\\u0443\\u0440\", \"\\u0413\\u0440\\u0435\\u0446\\u0438\\u044f\", \"\\u042e\\u0436\\u043d\\u0430\\u044f \\u0410\\u0444\\u0440\\u0438\\u043a\\u0430\", \"\\u0411\\u0435\\u043b\\u0430\\u0440\\u0443\\u0441\\u044c\", \"\\u0410\\u0440\\u0433\\u0435\\u043d\\u0442\\u0438\\u043d\\u0430\", \"\\u0415\\u0433\\u0438\\u043f\\u0435\\u0442\", \"\\u0410\\u043b\\u0436\\u0438\\u0440\", \"\\u0418\\u0441\\u043b\\u0430\\u043d\\u0434\\u0438\\u044f\", \"\\u0425\\u043e\\u0440\\u0432\\u0430\\u0442\\u0438\\u044f\", \"\\u041c\\u0430\\u0440\\u043e\\u043a\\u043a\\u043e\", \"\\u041c\\u043e\\u043b\\u0434\\u043e\\u0432\\u0430\", \"\\u041d\\u043e\\u0432\\u0430\\u044f \\u0417\\u0435\\u043b\\u0430\\u043d\\u0434\\u0438\\u044f\", \"\\u0418\\u0440\\u0430\\u043a\", \"\\u042d\\u0441\\u0442\\u043e\\u043d\\u0438\\u044f\", \"\\u0412\\u0435\\u043d\\u0433\\u0440\\u0438\\u044f\", \"\\u0421\\u043b\\u043e\\u0432\\u0435\\u043d\\u0438\\u044f\", \"\\u041b\\u0438\\u0442\\u0432\\u0430\", \"\\u041a\\u0443\\u0432\\u0435\\u0439\\u0442\", \"\\u0410\\u0437\\u0435\\u0440\\u0431\\u0430\\u0439\\u0434\\u0436\\u0430\\u043d\", \"\\u0410\\u0440\\u043c\\u0435\\u043d\\u0438\\u044f\", \"\\u0411\\u0430\\u0445\\u0440\\u0435\\u0439\\u043d\", \"\\u0411\\u043e\\u0441\\u043d\\u0438\\u044f \\u0438 \\u0413\\u0435\\u0440\\u0446\\u0435\\u0433\\u043e\\u0432\\u0438\\u043d\\u0430\", \"\\u041a\\u0430\\u043c\\u0435\\u0440\\u0443\\u043d\", \"\\u041a\\u0430\\u0437\\u0430\\u0445\\u0441\\u0442\\u0430\\u043d\", \"\\u0421\\u043b\\u043e\\u0432\\u0430\\u043a\\u0438\\u044f\", \"\\u0410\\u043b\\u043c\\u0430\\u0437\\u043d\\u0430\\u044f \\u043f\\u0440\\u0438\\u043d\\u0446\\u0435\\u0441\\u0441\\u0430\", \"\\u0421\\u0435\\u0432\\u0435\\u0440\\u043d\\u0430\\u044f \\u041c\\u0430\\u043a\\u0435\\u0434\\u043e\\u043d\\u0438\\u044f\", \"\\u0422\\u0443\\u043d\\u0438\\u0441\", \"\\u0411\\u043e\\u043b\\u0433\\u0430\\u0440\\u0438\\u044f\", \"\\u0423\\u0437\\u0431\\u0435\\u043a\\u0438\\u0441\\u0442\\u0430\\u043d\", \"\\u041b\\u0430\\u0442\\u0432\\u0438\\u044f\", \"\\u041b\\u0438\\u0432\\u0430\\u043d\", \"\\u0410\\u043d\\u0434\\u043e\\u0440\\u0440\\u0430\", \"\\u041a\\u0438\\u043f\\u0440\", \"\\u041a\\u0443\\u0431\\u0430\", \"\\u041a\\u043e\\u0441\\u0442\\u0430-\\u0420\\u0438\\u043a\\u0430\", \"\\u0410\\u0444\\u0433\\u0430\\u043d\\u0438\\u0441\\u0442\\u0430\\u043d\", \"\\u041e\\u043c\\u0430\\u043d\", \"\\u0423\\u0440\\u0443\\u0433\\u0432\\u0430\\u0439\", \"\\u041a\\u043e\\u0442-\\u0434'\\u0418\\u0432\\u0443\\u0430\\u0440\", \"\\u0411\\u0443\\u0440\\u043a\\u0438\\u043d\\u0430-\\u0424\\u0430\\u0441\\u043e\", \"\\u041d\\u0438\\u0433\\u0435\\u0440\", \"\\u0411\\u0430\\u043d\\u0433\\u043b\\u0430\\u0434\\u0435\\u0448\", \"\\u0410\\u043b\\u0431\\u0430\\u043d\\u0438\\u044f\", \"\\u0422\\u0430\\u0439\\u0432\\u0430\\u043d\\u044c *\", \"\\u0413\\u043e\\u043d\\u0434\\u0443\\u0440\\u0430\\u0441\", \"\\u0413\\u0430\\u043d\\u0430\", \"\\u0418\\u043e\\u0440\\u0434\\u0430\\u043d\\u0438\\u044f\", \"\\u041c\\u0430\\u043b\\u044c\\u0442\\u0430\", \"\\u0421\\u0430\\u043d-\\u041c\\u0430\\u0440\\u0438\\u043d\\u043e\", \"\\u041c\\u0430\\u0432\\u0440\\u0438\\u043a\\u0438\\u0439\", \"\\u041d\\u0438\\u0433\\u0435\\u0440\\u0438\\u044f\", \"\\u041a\\u044b\\u0440\\u0433\\u044b\\u0437\\u0441\\u0442\\u0430\\u043d\", \"\\u0411\\u043e\\u043b\\u0438\\u0432\\u0438\\u044f\", \"\\u0417\\u0430\\u043f\\u0430\\u0434\\u043d\\u044b\\u0439 \\u0431\\u0435\\u0440\\u0435\\u0433 \\u0438 \\u0441\\u0435\\u043a\\u0442\\u043e\\u0440 \\u0413\\u0430\\u0437\\u0430\", \"\\u0421\\u0435\\u043d\\u0435\\u0433\\u0430\\u043b\", \"\\u0412\\u044c\\u0435\\u0442\\u043d\\u0430\\u043c\", \"\\u0427\\u0435\\u0440\\u043d\\u043e\\u0433\\u043e\\u0440\\u0438\\u044f\", \"\\u041a\\u043e\\u0441\\u043e\\u0432\\u043e\", \"\\u0413\\u0440\\u0443\\u0437\\u0438\\u044f\", \"\\u041a\\u043e\\u043d\\u0433\\u043e (\\u041a\\u0438\\u043d\\u0448\\u0430\\u0441\\u0430)\", \"\\u0413\\u0432\\u0438\\u043d\\u0435\\u044f\", \"\\u0428\\u0440\\u0438-\\u041b\\u0430\\u043d\\u043a\\u0430\", \"\\u041a\\u0435\\u043d\\u0438\\u044f\", \"\\u0412\\u0435\\u043d\\u0435\\u0441\\u0443\\u044d\\u043b\\u0430\", \"\\u0414\\u0436\\u0438\\u0431\\u0443\\u0442\\u0438\", \"\\u0411\\u0440\\u0443\\u043d\\u0435\\u0439\", \"\\u041f\\u0430\\u0440\\u0430\\u0433\\u0432\\u0430\\u0439\", \"\\u0413\\u0432\\u0430\\u0442\\u0435\\u043c\\u0430\\u043b\\u0430\", \"\\u041a\\u0430\\u043c\\u0431\\u043e\\u0434\\u0436\\u0430\", \"\\u0420\\u0443\\u0430\\u043d\\u0434\\u0430\", \"\\u0421\\u0430\\u043b\\u044c\\u0432\\u0430\\u0434\\u043e\\u0440\", \"\\u0422\\u0440\\u0438\\u043d\\u0438\\u0434\\u0430\\u0434 \\u0438 \\u0422\\u043e\\u0431\\u0430\\u0433\\u043e\", \"\\u041c\\u0430\\u0434\\u0430\\u0433\\u0430\\u0441\\u043a\\u0430\\u0440\", \"\\u041c\\u043e\\u043d\\u0430\\u043a\\u043e\", \"\\u041c\\u0430\\u043b\\u0438\", \"\\u041b\\u0438\\u0445\\u0442\\u0435\\u043d\\u0448\\u0442\\u0435\\u0439\\u043d\", \"\\u0422\\u043e\\u0433\\u043e\", \"\\u0411\\u0430\\u0440\\u0431\\u0430\\u0434\\u043e\\u0441\", \"\\u042d\\u0444\\u0438\\u043e\\u043f\\u0438\\u044f\", \"\\u042f\\u043c\\u0430\\u0439\\u043a\\u0430\", \"\\u041a\\u043e\\u043d\\u0433\\u043e (\\u0411\\u0440\\u0430\\u0437\\u0437\\u0430\\u0432\\u0438\\u043b\\u044c)\", \"\\u0423\\u0433\\u0430\\u043d\\u0434\\u0430\", \"\\u0413\\u0430\\u0431\\u043e\\u043d\", \"\\u0411\\u0430\\u0433\\u0430\\u043c\\u0441\\u043a\\u0438\\u0435 \\u043e-\\u0432\\u0430\", \"\\u0417\\u0430\\u043c\\u0431\\u0438\\u044f\", \"\\u0413\\u0430\\u0439\\u0430\\u043d\\u0430\", \"\\u041b\\u0438\\u0431\\u0435\\u0440\\u0438\\u044f\", \"\\u0413\\u0432\\u0438\\u043d\\u0435\\u044f-\\u0411\\u0438\\u0441\\u0430\\u0443\", \"\\u0411\\u0435\\u043d\\u0438\\u043d\", \"\\u042d\\u0440\\u0438\\u0442\\u0440\\u0435\\u044f\", \"\\u0422\\u0430\\u043d\\u0437\\u0430\\u043d\\u0438\\u044f\", \"\\u0413\\u0430\\u0438\\u0442\\u0438\", \"\\u0411\\u0438\\u0440\\u043c\\u0430\", \"\\u041b\\u0438\\u0432\\u0438\\u044f\", \"\\u0421\\u043e\\u043c\\u0430\\u043b\\u0438\", \"\\u041c\\u043e\\u0437\\u0430\\u043c\\u0431\\u0438\\u043a\", \"\\u0410\\u043d\\u0442\\u0438\\u0433\\u0443\\u0430 \\u0438 \\u0411\\u0430\\u0440\\u0431\\u0443\\u0434\\u0430\", \"\\u0410\\u043d\\u0433\\u043e\\u043b\\u0430\", \"\\u0421\\u0438\\u0440\\u0438\\u044f\", \"\\u041c\\u0430\\u043b\\u044c\\u0434\\u0438\\u0432\\u0441\\u043a\\u0438\\u0435 \\u043e-\\u0432\\u0430\", \"\\u042d\\u043a\\u0432\\u0430\\u0442\\u043e\\u0440\\u0438\\u0430\\u043b\\u044c\\u043d\\u0430\\u044f \\u0413\\u0432\\u0438\\u043d\\u0435\\u044f\", \"\\u0421\\u0443\\u0434\\u0430\\u043d\", \"\\u041c\\u043e\\u043d\\u0433\\u043e\\u043b\\u0438\\u044f\", \"\\u0414\\u043e\\u043c\\u0438\\u043d\\u0438\\u043a\\u0430\", \"\\u041b\\u0430\\u043e\\u0441\", \"\\u0424\\u0438\\u0434\\u0436\\u0438\", \"\\u041d\\u0430\\u043c\\u0438\\u0431\\u0438\\u044f\", \"\\u0421\\u0435\\u043d\\u0442-\\u041b\\u044e\\u0441\\u0438\\u044f\", \"\\u0413\\u0440\\u0435\\u043d\\u0430\\u0434\\u0430\", \"\\u0417\\u0438\\u043c\\u0431\\u0430\\u0431\\u0432\\u0435\", \"\\u0411\\u043e\\u0442\\u0441\\u0432\\u0430\\u043d\\u0430\", \"Eswatini\", \"\\u0421\\u0435\\u043d\\u0442-\\u0412\\u0438\\u043d\\u0441\\u0435\\u043d\\u0442 \\u0438 \\u0413\\u0440\\u0435\\u043d\\u0430\\u0434\\u0438\\u043d\\u044b\", \"\\u0421\\u0435\\u043d\\u0442-\\u041a\\u0438\\u0442\\u0441 \\u0438 \\u041d\\u0435\\u0432\\u0438\\u0441\", \"\\u0421\\u0435\\u0439\\u0448\\u0435\\u043b\\u044b\", \"\\u0427\\u0430\\u0434\", \"\\u0421\\u0443\\u0440\\u0438\\u043d\\u0430\\u043c\", \"\\u0411\\u0435\\u043b\\u0438\\u0437\", \"\\u041d\\u0435\\u043f\\u0430\\u043b\", \"MS \\u0417\\u0430\\u043d\\u0434\\u0430\\u043c\", \"\\u041c\\u0430\\u043b\\u0430\\u0432\\u0438\", \"\\u0426\\u0435\\u043d\\u0442\\u0440\\u0430\\u043b\\u044c\\u043d\\u043e-\\u0410\\u0444\\u0440\\u0438\\u043a\\u0430\\u043d\\u0441\\u043a\\u0430\\u044f \\u0420\\u0435\\u0441\\u043f\\u0443\\u0431\\u043b\\u0438\\u043a\\u0430\", \"\\u0421\\u0432\\u044f\\u0442\\u043e\\u0439 \\u041f\\u0440\\u0435\\u0441\\u0442\\u043e\\u043b\", \"\\u0421\\u044c\\u0435\\u0440\\u0440\\u0430-\\u041b\\u0435\\u043e\\u043d\\u0435\", \"\\u041d\\u0438\\u043a\\u0430\\u0440\\u0430\\u0433\\u0443\\u0430\", \"\\u041c\\u0430\\u0432\\u0440\\u0438\\u0442\\u0430\\u043d\\u0438\\u044f\", \"\\u041a\\u0430\\u0431\\u043e-\\u0412\\u0435\\u0440\\u0434\\u0435\", \"\\u0411\\u0443\\u0442\\u0430\\u043d\", \"\\u0421\\u0430\\u043d-\\u0422\\u043e\\u043c\\u0435 \\u0438 \\u041f\\u0440\\u0438\\u043d\\u0441\\u0438\\u043f\\u0438\", \"\\u0413\\u0430\\u043c\\u0431\\u0438\\u044f\", \"\\u042e\\u0436\\u043d\\u044b\\u0439 \\u0421\\u0443\\u0434\\u0430\\u043d\", \"\\u0417\\u0430\\u043f\\u0430\\u0434\\u043d\\u0430\\u044f \\u0421\\u0430\\u0445\\u0430\\u0440\\u0430\", \"\\u0411\\u0443\\u0440\\u0443\\u043d\\u0434\\u0438\", \"\\u0412\\u043e\\u0441\\u0442\\u043e\\u0447\\u043d\\u044b\\u0439 \\u0422\\u0438\\u043c\\u043e\\u0440\", \"\\u041f\\u0430\\u043f\\u0443\\u0430-\\u041d\\u043e\\u0432\\u0430\\u044f \\u0413\\u0432\\u0438\\u043d\\u0435\\u044f\"], \"type\": \"scatter\", \"x\": [2520, 557, 1057, 435, 319, 94, 208, 95, 870, 287, 246, 297, 65, 113, 54, 247, 181, 169, 119, 99, 270, 66, 70, 221, 47, 306, 194, 16, 54, 71, 48, 66, 126, 6, 80, 33, 69, 7, 92, 24, 19, 82, 135, 256, 7, 21, 107, 29, 2, 70, 24, 77, 45, 22, 1, 10, 12, 6, 36, 12, 10, 2, 11, 32, 25, 25, 3, 3, 20, 26, 10, 15, 3, 15, 3, 7, 3, 24, 11, 27, 23, 6, 23, 6, 7, 2, 34, 9, 7, 5, 19, 2, 2, 0, 2, 7, 3, 20, 0, 7, 7, 9, 1, 1, 6, 3, 0, 0, 6, 8, 0, 1, 7, 1, 3, 4, 3, 4, 5, 0, 1, 8, 2, 6, 5, 0, 1, 0, 3, 2, 3, 1, 1, 0, 2, 2, 2, 0, 0, 2, 0, 0, 0, 0, 0, 0, 0, 3, 1, 0, 0, 0, 0, 0, 1, 2, 0, 2, 1, 0, 0, 0, 1, 1, 1, 0, 0, 1, 0, 0, 0, 0, 0], \"y\": [287, 5855, 173, 233, 6064, 795, 7117, 1183, 381, 25, 774, 368, 1571, 32, 1793, 1929, 318, 1569, 346, 685, 729, 727, 1830, 140, 685, 282, 633, 418, 500, 0, 300, 16, 98, 227, 197, 1013, 61, 492, 269, 410, 169, 375, 384, 405, 751, 231, 122, 56, 373, 550, 93, 112, 137, 54, 123, 159, 149, 539, 129, 98, 64, 23, 619, 41, 25, 54, 42, 16, 76, 71, 58, 51, 42, 32, 109, 206, 52, 146, 41, 33, 182, 91, 7, 4, 170, 16, 50, 23, 58, 35, 2, 45, 137, 144, 4, 52, 54, 13, 15, 54, 22, 84, 36, 99, 18, 17, 72, 7, 15, 1, 11, 5, 22, 55, 25, 11, 4, 13, 5, 0, 1, 5, 25, 8, 3, 0, 5, 0, 5, 0, 2, 8, 1, 2, 0, 2, 4, 13, 3, 2, 4, 5, 0, 0, 3, 1, 0, 0, 0, 7, 1, 0, 0, 2, 4, 0, 1, 0, 0, 0, 2, 0, 0, 2, 1, 2, 0, 2, 0, 0, 0, 1, 0]}, {\"marker\": {\"color\": \"rgba(0,0,255,1)\"}, \"mode\": \"markers+text\", \"name\": \"Russia\", \"text\": [\"\\u0420\\u043e\\u0441\\u0441\\u0438\\u044f\"], \"textposition\": \"middle right\", \"type\": \"scatter\", \"x\": [94], \"y\": [795]}],\n",
       "                        {\"annotations\": [{\"showarrow\": false, \"text\": \"\\u00a9 \\u0410\\u043b\\u0435\\u043a\\u0441\\u0435\\u0439 \\u041d\\u043e\\u0432\\u0438\\u0447\\u043a\\u043e\\u0432, dataviz.ru. \\u0418\\u0441\\u0442\\u043e\\u0447\\u043d\\u0438\\u043a: Johns Hopkins CSSE. \\u0414\\u0430\\u0442\\u0430: 10.04.2020\", \"x\": 0, \"xanchor\": \"left\", \"xshift\": -50, \"y\": 0, \"yshift\": -70}], \"font\": {\"color\": \"rgb(0,0,0)\", \"family\": \"Navigo\", \"size\": 12}, \"height\": 800, \"margin\": {\"b\": 120, \"l\": 70, \"r\": 70, \"t\": 100}, \"paper_bgcolor\": \"white\", \"showlegend\": false, \"template\": {\"data\": {\"bar\": [{\"error_x\": {\"color\": \"#2a3f5f\"}, \"error_y\": {\"color\": \"#2a3f5f\"}, \"marker\": {\"line\": {\"color\": \"white\", \"width\": 0.5}}, \"type\": \"bar\"}], \"barpolar\": [{\"marker\": {\"line\": {\"color\": \"white\", \"width\": 0.5}}, \"type\": \"barpolar\"}], \"carpet\": [{\"aaxis\": {\"endlinecolor\": \"#2a3f5f\", \"gridcolor\": \"#C8D4E3\", \"linecolor\": \"#C8D4E3\", \"minorgridcolor\": \"#C8D4E3\", \"startlinecolor\": \"#2a3f5f\"}, \"baxis\": {\"endlinecolor\": \"#2a3f5f\", \"gridcolor\": \"#C8D4E3\", \"linecolor\": \"#C8D4E3\", \"minorgridcolor\": \"#C8D4E3\", \"startlinecolor\": \"#2a3f5f\"}, \"type\": \"carpet\"}], \"choropleth\": [{\"colorbar\": {\"outlinewidth\": 0, \"ticks\": \"\"}, \"type\": \"choropleth\"}], \"contour\": [{\"colorbar\": {\"outlinewidth\": 0, \"ticks\": \"\"}, \"colorscale\": [[0.0, \"#0d0887\"], [0.1111111111111111, \"#46039f\"], [0.2222222222222222, \"#7201a8\"], [0.3333333333333333, \"#9c179e\"], [0.4444444444444444, \"#bd3786\"], [0.5555555555555556, \"#d8576b\"], [0.6666666666666666, \"#ed7953\"], [0.7777777777777778, \"#fb9f3a\"], [0.8888888888888888, \"#fdca26\"], [1.0, \"#f0f921\"]], \"type\": \"contour\"}], \"contourcarpet\": [{\"colorbar\": {\"outlinewidth\": 0, \"ticks\": \"\"}, \"type\": \"contourcarpet\"}], \"heatmap\": [{\"colorbar\": {\"outlinewidth\": 0, \"ticks\": \"\"}, \"colorscale\": [[0.0, \"#0d0887\"], [0.1111111111111111, \"#46039f\"], [0.2222222222222222, \"#7201a8\"], [0.3333333333333333, \"#9c179e\"], [0.4444444444444444, \"#bd3786\"], [0.5555555555555556, \"#d8576b\"], [0.6666666666666666, \"#ed7953\"], [0.7777777777777778, \"#fb9f3a\"], [0.8888888888888888, \"#fdca26\"], [1.0, \"#f0f921\"]], \"type\": \"heatmap\"}], \"heatmapgl\": [{\"colorbar\": {\"outlinewidth\": 0, \"ticks\": \"\"}, \"colorscale\": [[0.0, \"#0d0887\"], [0.1111111111111111, \"#46039f\"], [0.2222222222222222, \"#7201a8\"], [0.3333333333333333, \"#9c179e\"], [0.4444444444444444, \"#bd3786\"], [0.5555555555555556, \"#d8576b\"], [0.6666666666666666, \"#ed7953\"], [0.7777777777777778, \"#fb9f3a\"], [0.8888888888888888, \"#fdca26\"], [1.0, \"#f0f921\"]], \"type\": \"heatmapgl\"}], \"histogram\": [{\"marker\": {\"colorbar\": {\"outlinewidth\": 0, \"ticks\": \"\"}}, \"type\": \"histogram\"}], \"histogram2d\": [{\"colorbar\": {\"outlinewidth\": 0, \"ticks\": \"\"}, \"colorscale\": [[0.0, \"#0d0887\"], [0.1111111111111111, \"#46039f\"], [0.2222222222222222, \"#7201a8\"], [0.3333333333333333, \"#9c179e\"], [0.4444444444444444, \"#bd3786\"], [0.5555555555555556, \"#d8576b\"], [0.6666666666666666, \"#ed7953\"], [0.7777777777777778, \"#fb9f3a\"], [0.8888888888888888, \"#fdca26\"], [1.0, \"#f0f921\"]], \"type\": \"histogram2d\"}], \"histogram2dcontour\": [{\"colorbar\": {\"outlinewidth\": 0, \"ticks\": \"\"}, \"colorscale\": [[0.0, \"#0d0887\"], [0.1111111111111111, \"#46039f\"], [0.2222222222222222, \"#7201a8\"], [0.3333333333333333, \"#9c179e\"], [0.4444444444444444, \"#bd3786\"], [0.5555555555555556, \"#d8576b\"], [0.6666666666666666, \"#ed7953\"], [0.7777777777777778, \"#fb9f3a\"], [0.8888888888888888, \"#fdca26\"], [1.0, \"#f0f921\"]], \"type\": \"histogram2dcontour\"}], \"mesh3d\": [{\"colorbar\": {\"outlinewidth\": 0, \"ticks\": \"\"}, \"type\": \"mesh3d\"}], \"parcoords\": [{\"line\": {\"colorbar\": {\"outlinewidth\": 0, \"ticks\": \"\"}}, \"type\": \"parcoords\"}], \"pie\": [{\"automargin\": true, \"type\": \"pie\"}], \"scatter\": [{\"marker\": {\"colorbar\": {\"outlinewidth\": 0, \"ticks\": \"\"}}, \"type\": \"scatter\"}], \"scatter3d\": [{\"line\": {\"colorbar\": {\"outlinewidth\": 0, \"ticks\": \"\"}}, \"marker\": {\"colorbar\": {\"outlinewidth\": 0, \"ticks\": \"\"}}, \"type\": \"scatter3d\"}], \"scattercarpet\": [{\"marker\": {\"colorbar\": {\"outlinewidth\": 0, \"ticks\": \"\"}}, \"type\": \"scattercarpet\"}], \"scattergeo\": [{\"marker\": {\"colorbar\": {\"outlinewidth\": 0, \"ticks\": \"\"}}, \"type\": \"scattergeo\"}], \"scattergl\": [{\"marker\": {\"colorbar\": {\"outlinewidth\": 0, \"ticks\": \"\"}}, \"type\": \"scattergl\"}], \"scattermapbox\": [{\"marker\": {\"colorbar\": {\"outlinewidth\": 0, \"ticks\": \"\"}}, \"type\": \"scattermapbox\"}], \"scatterpolar\": [{\"marker\": {\"colorbar\": {\"outlinewidth\": 0, \"ticks\": \"\"}}, \"type\": \"scatterpolar\"}], \"scatterpolargl\": [{\"marker\": {\"colorbar\": {\"outlinewidth\": 0, \"ticks\": \"\"}}, \"type\": \"scatterpolargl\"}], \"scatterternary\": [{\"marker\": {\"colorbar\": {\"outlinewidth\": 0, \"ticks\": \"\"}}, \"type\": \"scatterternary\"}], \"surface\": [{\"colorbar\": {\"outlinewidth\": 0, \"ticks\": \"\"}, \"colorscale\": [[0.0, \"#0d0887\"], [0.1111111111111111, \"#46039f\"], [0.2222222222222222, \"#7201a8\"], [0.3333333333333333, \"#9c179e\"], [0.4444444444444444, \"#bd3786\"], [0.5555555555555556, \"#d8576b\"], [0.6666666666666666, \"#ed7953\"], [0.7777777777777778, \"#fb9f3a\"], [0.8888888888888888, \"#fdca26\"], [1.0, \"#f0f921\"]], \"type\": \"surface\"}], \"table\": [{\"cells\": {\"fill\": {\"color\": \"#EBF0F8\"}, \"line\": {\"color\": \"white\"}}, \"header\": {\"fill\": {\"color\": \"#C8D4E3\"}, \"line\": {\"color\": \"white\"}}, \"type\": \"table\"}]}, \"layout\": {\"annotationdefaults\": {\"arrowcolor\": \"#2a3f5f\", \"arrowhead\": 0, \"arrowwidth\": 1}, \"coloraxis\": {\"colorbar\": {\"outlinewidth\": 0, \"ticks\": \"\"}}, \"colorscale\": {\"diverging\": [[0, \"#8e0152\"], [0.1, \"#c51b7d\"], [0.2, \"#de77ae\"], [0.3, \"#f1b6da\"], [0.4, \"#fde0ef\"], [0.5, \"#f7f7f7\"], [0.6, \"#e6f5d0\"], [0.7, \"#b8e186\"], [0.8, \"#7fbc41\"], [0.9, \"#4d9221\"], [1, \"#276419\"]], \"sequential\": [[0.0, \"#0d0887\"], [0.1111111111111111, \"#46039f\"], [0.2222222222222222, \"#7201a8\"], [0.3333333333333333, \"#9c179e\"], [0.4444444444444444, \"#bd3786\"], [0.5555555555555556, \"#d8576b\"], [0.6666666666666666, \"#ed7953\"], [0.7777777777777778, \"#fb9f3a\"], [0.8888888888888888, \"#fdca26\"], [1.0, \"#f0f921\"]], \"sequentialminus\": [[0.0, \"#0d0887\"], [0.1111111111111111, \"#46039f\"], [0.2222222222222222, \"#7201a8\"], [0.3333333333333333, \"#9c179e\"], [0.4444444444444444, \"#bd3786\"], [0.5555555555555556, \"#d8576b\"], [0.6666666666666666, \"#ed7953\"], [0.7777777777777778, \"#fb9f3a\"], [0.8888888888888888, \"#fdca26\"], [1.0, \"#f0f921\"]]}, \"colorway\": [\"#636efa\", \"#EF553B\", \"#00cc96\", \"#ab63fa\", \"#FFA15A\", \"#19d3f3\", \"#FF6692\", \"#B6E880\", \"#FF97FF\", \"#FECB52\"], \"font\": {\"color\": \"#2a3f5f\"}, \"geo\": {\"bgcolor\": \"white\", \"lakecolor\": \"white\", \"landcolor\": \"white\", \"showlakes\": true, \"showland\": true, \"subunitcolor\": \"#C8D4E3\"}, \"hoverlabel\": {\"align\": \"left\"}, \"hovermode\": \"closest\", \"mapbox\": {\"style\": \"light\"}, \"paper_bgcolor\": \"white\", \"plot_bgcolor\": \"white\", \"polar\": {\"angularaxis\": {\"gridcolor\": \"#EBF0F8\", \"linecolor\": \"#EBF0F8\", \"ticks\": \"\"}, \"bgcolor\": \"white\", \"radialaxis\": {\"gridcolor\": \"#EBF0F8\", \"linecolor\": \"#EBF0F8\", \"ticks\": \"\"}}, \"scene\": {\"xaxis\": {\"backgroundcolor\": \"white\", \"gridcolor\": \"#DFE8F3\", \"gridwidth\": 2, \"linecolor\": \"#EBF0F8\", \"showbackground\": true, \"ticks\": \"\", \"zerolinecolor\": \"#EBF0F8\"}, \"yaxis\": {\"backgroundcolor\": \"white\", \"gridcolor\": \"#DFE8F3\", \"gridwidth\": 2, \"linecolor\": \"#EBF0F8\", \"showbackground\": true, \"ticks\": \"\", \"zerolinecolor\": \"#EBF0F8\"}, \"zaxis\": {\"backgroundcolor\": \"white\", \"gridcolor\": \"#DFE8F3\", \"gridwidth\": 2, \"linecolor\": \"#EBF0F8\", \"showbackground\": true, \"ticks\": \"\", \"zerolinecolor\": \"#EBF0F8\"}}, \"shapedefaults\": {\"line\": {\"color\": \"#2a3f5f\"}}, \"ternary\": {\"aaxis\": {\"gridcolor\": \"#DFE8F3\", \"linecolor\": \"#A2B1C6\", \"ticks\": \"\"}, \"baxis\": {\"gridcolor\": \"#DFE8F3\", \"linecolor\": \"#A2B1C6\", \"ticks\": \"\"}, \"bgcolor\": \"white\", \"caxis\": {\"gridcolor\": \"#DFE8F3\", \"linecolor\": \"#A2B1C6\", \"ticks\": \"\"}}, \"title\": {\"x\": 0.05}, \"xaxis\": {\"automargin\": true, \"gridcolor\": \"#EBF0F8\", \"linecolor\": \"#EBF0F8\", \"ticks\": \"\", \"title\": {\"standoff\": 15}, \"zerolinecolor\": \"#EBF0F8\", \"zerolinewidth\": 2}, \"yaxis\": {\"automargin\": true, \"gridcolor\": \"#EBF0F8\", \"linecolor\": \"#EBF0F8\", \"ticks\": \"\", \"title\": {\"standoff\": 15}, \"zerolinecolor\": \"#EBF0F8\", \"zerolinewidth\": 2}}}, \"title\": {\"font\": {\"color\": \"rgb(0,0,0)\", \"family\": \"Navigo\", \"size\": 28}, \"text\": \"\\u041a\\u043e\\u043b\\u0438\\u0447\\u0435\\u0441\\u0442\\u0432\\u043e \\u0443\\u043c\\u0435\\u0440\\u0448\\u0438\\u0445 \\u0438 \\u0432\\u044b\\u0437\\u0434\\u043e\\u0440\\u043e\\u0432\\u0435\\u0432\\u0448\\u0438\\u0445 \\u043e\\u0442 COVID-19\", \"x\": 0.03, \"xanchor\": \"left\", \"y\": 0.955, \"yanchor\": \"top\"}, \"width\": 800, \"xaxis\": {\"autorange\": false, \"gridcolor\": \"rgba(230,230,230,1)\", \"linecolor\": \"rgba(200,200,200,1)\", \"linewidth\": 1, \"range\": [0, 25000], \"showgrid\": true, \"showline\": true, \"tickcolor\": \"rgba(200,200,200,1)\", \"tickfont\": {\"color\": \"rgba(100,100,100,1)\", \"size\": 12}, \"ticks\": \"outside\", \"ticktext\": [\"0\", \"5\", \"10\", \"15\", \"20\", \"25\"], \"tickvals\": [0, 5000, 10000, 15000, 20000, 25000], \"title\": {\"standoff\": 5, \"text\": \"\\u0423\\u043c\\u0435\\u0440\\u0448\\u0438\\u0435 (\\u0442\\u044b\\u0441.\\u0447\\u0435\\u043b.)\"}, \"type\": \"linear\"}, \"yaxis\": {\"autorange\": false, \"gridcolor\": \"rgba(230,230,230,1)\", \"linecolor\": \"rgba(200,200,200,1)\", \"linewidth\": 1, \"range\": [0, 80000], \"showgrid\": true, \"showline\": true, \"tickcolor\": \"rgba(200,200,200,1)\", \"tickfont\": {\"color\": \"rgba(100,100,100,1)\", \"size\": 12}, \"ticks\": \"outside\", \"ticktext\": [\"0\", \"20\", \"40\", \"60\", \"80\"], \"tickvals\": [0, 20000, 40000, 60000, 80000], \"title\": {\"standoff\": 5, \"text\": \"\\u0412\\u044b\\u0437\\u0434\\u043e\\u0440\\u043e\\u0432\\u0435\\u0432\\u0448\\u0438\\u0435 (\\u0442\\u044b\\u0441.\\u0447\\u0435\\u043b.)\"}, \"type\": \"linear\"}},\n",
       "                        {\"responsive\": true}\n",
       "                    ).then(function(){\n",
       "                            \n",
       "var gd = document.getElementById('604b5d6f-3084-47a9-9e36-d0cbd347dcca');\n",
       "var x = new MutationObserver(function (mutations, observer) {{\n",
       "        var display = window.getComputedStyle(gd).display;\n",
       "        if (!display || display === 'none') {{\n",
       "            console.log([gd, 'removed!']);\n",
       "            Plotly.purge(gd);\n",
       "            observer.disconnect();\n",
       "        }}\n",
       "}});\n",
       "\n",
       "// Listen for the removal of the full notebook cells\n",
       "var notebookContainer = gd.closest('#notebook-container');\n",
       "if (notebookContainer) {{\n",
       "    x.observe(notebookContainer, {childList: true});\n",
       "}}\n",
       "\n",
       "// Listen for the clearing of the current output cell\n",
       "var outputEl = gd.closest('.output');\n",
       "if (outputEl) {{\n",
       "    x.observe(outputEl, {childList: true});\n",
       "}}\n",
       "\n",
       "                        })\n",
       "                };\n",
       "                });\n",
       "            </script>\n",
       "        </div>"
      ]
     },
     "metadata": {},
     "output_type": "display_data"
    }
   ],
   "source": [
    "fig = go.Figure()\n",
    "\n",
    "\n",
    "fig.add_trace(go.Scatter(x = top['Deaths'], y = top['Recovered'],\n",
    "                         mode = 'markers+text',\n",
    "                         text = top['translate'],\n",
    "                         textposition = 'middle right',\n",
    "                         marker_color = 'rgba(255,0,0,1)',\n",
    "                         name = 'Top-10'\n",
    "                        ))\n",
    "\n",
    "fig.add_trace(go.Scatter(x = others['Deaths'], y = others['Recovered'],\n",
    "                         mode = 'markers',\n",
    "                         text = others['translate'],\n",
    "                         marker_color = 'rgba(200,200,200, 1)',\n",
    "                         name = 'Other world'\n",
    "                        ))\n",
    "\n",
    "fig.add_trace(go.Scatter(x = russia['Deaths'], y = russia['Recovered'],\n",
    "                         mode = 'markers+text',\n",
    "                         text = russia['translate'],\n",
    "                         textposition = 'middle right',\n",
    "                         marker_color = 'rgba(0,0,255,1)',\n",
    "                         name = 'Russia'\n",
    "                        ))\n",
    "\n",
    "fig.update_layout(\n",
    "    template = 'plotly_white',\n",
    "    font = {'family': 'Navigo',\n",
    "            'color': 'rgb(0,0,0)',\n",
    "            'size': 12\n",
    "           },\n",
    "    width=800, height=800,\n",
    "    xaxis=dict(\n",
    "        autorange=False,\n",
    "        range=[0, 25000],\n",
    "        type='linear'\n",
    "    ),\n",
    "        yaxis=dict(\n",
    "        autorange=False,\n",
    "        range=[0, 80000],\n",
    "        type='linear'\n",
    "    ),\n",
    "    title={\n",
    "    'text': \"Количество умерших и выздоровевших от COVID-19\",        \n",
    "    'y':.955,        \n",
    "    'x':.03,        \n",
    "    'font':{\n",
    "            'family': 'Navigo',\n",
    "            'size': 28,\n",
    "            'color': 'rgb(0,0,0)'},\n",
    "        'xanchor': 'left',\n",
    "        'yanchor': 'top'},\n",
    "    xaxis_title=\"Умершие (тыс.чел.)\",\n",
    "    yaxis_title=\"Выздоровевшие (тыс.чел.)\",\n",
    "    showlegend=False,\n",
    "    margin=dict(\n",
    "        b=120,\n",
    "        l=70,\n",
    "        t=100,\n",
    "        r=70\n",
    "    ),\n",
    "    paper_bgcolor = 'white',\n",
    "    annotations=[dict(\n",
    "            showarrow=False,\n",
    "            x=0,\n",
    "            y=0,\n",
    "            text=\"© Алексей Новичков, dataviz.ru. Источник: Johns Hopkins CSSE. Дата: \" + date,\n",
    "            xanchor=\"left\",\n",
    "            xshift=-50,\n",
    "            yshift=-70,        \n",
    "            )]\n",
    ")\n",
    "\n",
    "fig.update_xaxes(\n",
    "    ticktext=['0','5', '10', '15', '20','25'],\n",
    "    tickvals=[0, 5000, 10000, 15000, 20000,25000],\n",
    "    tickfont=dict(color='rgba(100,100,100,1)', \n",
    "                  size=12,\n",
    "                 ),\n",
    "    ticks=\"outside\",\n",
    "    tickcolor='rgba(200,200,200,1)',\n",
    "    showline=True, \n",
    "    linewidth=1, \n",
    "    linecolor='rgba(200,200,200,1)',\n",
    "    showgrid=True,\n",
    "    title_standoff = 5,\n",
    "    gridcolor='rgba(230,230,230,1)'\n",
    ")\n",
    "\n",
    "fig.update_yaxes(\n",
    "    ticktext=['0', '20', '40', '60', '80'],\n",
    "    tickvals=[0, 20000, 40000, 60000, 80000],\n",
    "    tickfont=dict(color='rgba(100,100,100,1)', \n",
    "                  size=12),    \n",
    "    ticks=\"outside\",\n",
    "    tickcolor= 'rgba(200,200,200,1)',    \n",
    "    showline=True, \n",
    "    linewidth=1, \n",
    "    linecolor='rgba(200,200,200,1)',\n",
    "    showgrid=True,\n",
    "    title_standoff = 5,\n",
    "    gridcolor='rgba(230,230,230,1)'\n",
    ")\n",
    "\n",
    "fig.show()"
   ]
  },
  {
   "cell_type": "code",
   "execution_count": 19,
   "metadata": {},
   "outputs": [
    {
     "data": {
      "image/png": "[encoded data removed]",
      "text/plain": [
       "<IPython.core.display.Image object>"
      ]
     },
     "execution_count": 19,
     "metadata": {},
     "output_type": "execute_result"
    }
   ],
   "source": [
    "fig.write_image(\"images/covid19-Confirmedanddeath-\"+ date2 +\".png\", scale = 3)\n",
    "img_bytes = fig.to_image(format=\"png\")\n",
    "from IPython.display import Image\n",
    "Image(img_bytes)"
   ]
  },
  {
   "cell_type": "code",
   "execution_count": null,
   "metadata": {},
   "outputs": [],
   "source": []
  }
 ],
 "metadata": {
  "kernelspec": {
   "display_name": "Python 3",
   "language": "python",
   "name": "python3"
  },
  "language_info": {
   "codemirror_mode": {
    "name": "ipython",
    "version": 3
   },
   "file_extension": ".py",
   "mimetype": "text/x-python",
   "name": "python",
   "nbconvert_exporter": "python",
   "pygments_lexer": "ipython3",
   "version": "3.7.4"
  }
 },
 "nbformat": 4,
 "nbformat_minor": 2
}
