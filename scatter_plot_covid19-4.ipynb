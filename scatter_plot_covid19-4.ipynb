{
 "cells": [
  {
   "cell_type": "code",
   "execution_count": 1,
   "metadata": {},
   "outputs": [],
   "source": [
    "import numpy as np \n",
    "import pandas as pd\n",
    "import plotly.graph_objects as go\n",
    "import datetime\n",
    "from datetime import timedelta\n",
    "import requests"
   ]
  },
  {
   "cell_type": "code",
   "execution_count": 2,
   "metadata": {},
   "outputs": [],
   "source": [
    "import os\n",
    "from IPython.display import Image"
   ]
  },
  {
   "cell_type": "code",
   "execution_count": 3,
   "metadata": {},
   "outputs": [
    {
     "output_type": "stream",
     "name": "stdout",
     "text": "04-19-2020\n04-18-2020\n"
    }
   ],
   "source": [
    "today = pd.to_datetime('today').strftime(\"%m-%d-%Y\")\n",
    "daybefore = (datetime.date.today() - timedelta(days=1)).strftime(\"%m-%d-%Y\")\n",
    "print(today)\n",
    "print(daybefore)"
   ]
  },
  {
   "cell_type": "code",
   "execution_count": 4,
   "metadata": {},
   "outputs": [
    {
     "output_type": "stream",
     "name": "stdout",
     "text": "https://raw.githubusercontent.com/CSSEGISandData/COVID-19/master/csse_covid_19_data/csse_covid_19_daily_reports/04-19-2020.csv\nhttps://raw.githubusercontent.com/CSSEGISandData/COVID-19/master/csse_covid_19_data/csse_covid_19_daily_reports/04-18-2020.csv\n"
    }
   ],
   "source": [
    "url_today='https://raw.githubusercontent.com/CSSEGISandData/COVID-19/master/csse_covid_19_data/csse_covid_19_daily_reports/' + today + '.csv'\n",
    "url_daybefore='https://raw.githubusercontent.com/CSSEGISandData/COVID-19/master/csse_covid_19_data/csse_covid_19_daily_reports/' + daybefore + '.csv'\n",
    "print(url_today)\n",
    "print(url_daybefore)"
   ]
  },
  {
   "cell_type": "code",
   "execution_count": 5,
   "metadata": {},
   "outputs": [
    {
     "output_type": "stream",
     "name": "stdout",
     "text": "https://raw.githubusercontent.com/CSSEGISandData/COVID-19/master/csse_covid_19_data/csse_covid_19_daily_reports/04-18-2020.csv\n18.04.2020\n20200418\n"
    }
   ],
   "source": [
    "request = requests.get(url_today)\n",
    "if request.status_code == 200:\n",
    "    url = url_today\n",
    "    date = pd.to_datetime('today').strftime('%d.%m.%Y')\n",
    "    date2 = datetime.date.today().strftime('%Y%m%d')\n",
    "else:\n",
    "    url = url_daybefore\n",
    "    date = (datetime.date.today() - timedelta(days=1)).strftime('%d.%m.%Y')\n",
    "    date2 = (datetime.date.today() - timedelta(days=1)).strftime('%Y%m%d')\n",
    "    \n",
    "print(url)\n",
    "print(date)\n",
    "print(date2)"
   ]
  },
  {
   "cell_type": "code",
   "execution_count": 6,
   "metadata": {},
   "outputs": [
    {
     "output_type": "execute_result",
     "data": {
      "text/plain": "         FIPS     Admin2  Province_State      Country_Region  \\\n0     45001.0  Abbeville  South Carolina                  US   \n1     22001.0     Acadia       Louisiana                  US   \n2     51001.0   Accomack        Virginia                  US   \n3     16001.0        Ada           Idaho                  US   \n4     19001.0      Adair            Iowa                  US   \n...       ...        ...             ...                 ...   \n3048      NaN        NaN             NaN  West Bank and Gaza   \n3049      NaN        NaN             NaN      Western Sahara   \n3050      NaN        NaN             NaN               Yemen   \n3051      NaN        NaN             NaN              Zambia   \n3052      NaN        NaN             NaN            Zimbabwe   \n\n              Last_Update        Lat       Long_  Confirmed  Deaths  \\\n0     2020-04-18 22:32:47  34.223334  -82.461707         15       0   \n1     2020-04-18 22:32:47  30.295065  -92.414197        110       7   \n2     2020-04-18 22:32:47  37.767072  -75.632346         33       0   \n3     2020-04-18 22:32:47  43.452658 -116.241552        593       9   \n4     2020-04-18 22:32:47  41.330756  -94.471059          1       0   \n...                   ...        ...         ...        ...     ...   \n3048  2020-04-18 22:32:28  31.952200   35.233200        418       2   \n3049  2020-04-18 22:32:28  24.215500  -12.885800          6       0   \n3050  2020-04-18 22:32:28  15.552727   48.516388          1       0   \n3051  2020-04-18 22:32:28 -13.133897   27.849332         57       2   \n3052  2020-04-18 22:32:28 -19.015438   29.154857         25       3   \n\n      Recovered  Active                   Combined_Key  \n0             0      15  Abbeville, South Carolina, US  \n1             0     103          Acadia, Louisiana, US  \n2             0      33         Accomack, Virginia, US  \n3             0     584                 Ada, Idaho, US  \n4             0       1                Adair, Iowa, US  \n...         ...     ...                            ...  \n3048         69     347             West Bank and Gaza  \n3049          0       6                 Western Sahara  \n3050          0       1                          Yemen  \n3051         33      22                         Zambia  \n3052          2      20                       Zimbabwe  \n\n[3053 rows x 12 columns]",
      "text/html": "<div>\n<style scoped>\n    .dataframe tbody tr th:only-of-type {\n        vertical-align: middle;\n    }\n\n    .dataframe tbody tr th {\n        vertical-align: top;\n    }\n\n    .dataframe thead th {\n        text-align: right;\n    }\n</style>\n<table border=\"1\" class=\"dataframe\">\n  <thead>\n    <tr style=\"text-align: right;\">\n      <th></th>\n      <th>FIPS</th>\n      <th>Admin2</th>\n      <th>Province_State</th>\n      <th>Country_Region</th>\n      <th>Last_Update</th>\n      <th>Lat</th>\n      <th>Long_</th>\n      <th>Confirmed</th>\n      <th>Deaths</th>\n      <th>Recovered</th>\n      <th>Active</th>\n      <th>Combined_Key</th>\n    </tr>\n  </thead>\n  <tbody>\n    <tr>\n      <th>0</th>\n      <td>45001.0</td>\n      <td>Abbeville</td>\n      <td>South Carolina</td>\n      <td>US</td>\n      <td>2020-04-18 22:32:47</td>\n      <td>34.223334</td>\n      <td>-82.461707</td>\n      <td>15</td>\n      <td>0</td>\n      <td>0</td>\n      <td>15</td>\n      <td>Abbeville, South Carolina, US</td>\n    </tr>\n    <tr>\n      <th>1</th>\n      <td>22001.0</td>\n      <td>Acadia</td>\n      <td>Louisiana</td>\n      <td>US</td>\n      <td>2020-04-18 22:32:47</td>\n      <td>30.295065</td>\n      <td>-92.414197</td>\n      <td>110</td>\n      <td>7</td>\n      <td>0</td>\n      <td>103</td>\n      <td>Acadia, Louisiana, US</td>\n    </tr>\n    <tr>\n      <th>2</th>\n      <td>51001.0</td>\n      <td>Accomack</td>\n      <td>Virginia</td>\n      <td>US</td>\n      <td>2020-04-18 22:32:47</td>\n      <td>37.767072</td>\n      <td>-75.632346</td>\n      <td>33</td>\n      <td>0</td>\n      <td>0</td>\n      <td>33</td>\n      <td>Accomack, Virginia, US</td>\n    </tr>\n    <tr>\n      <th>3</th>\n      <td>16001.0</td>\n      <td>Ada</td>\n      <td>Idaho</td>\n      <td>US</td>\n      <td>2020-04-18 22:32:47</td>\n      <td>43.452658</td>\n      <td>-116.241552</td>\n      <td>593</td>\n      <td>9</td>\n      <td>0</td>\n      <td>584</td>\n      <td>Ada, Idaho, US</td>\n    </tr>\n    <tr>\n      <th>4</th>\n      <td>19001.0</td>\n      <td>Adair</td>\n      <td>Iowa</td>\n      <td>US</td>\n      <td>2020-04-18 22:32:47</td>\n      <td>41.330756</td>\n      <td>-94.471059</td>\n      <td>1</td>\n      <td>0</td>\n      <td>0</td>\n      <td>1</td>\n      <td>Adair, Iowa, US</td>\n    </tr>\n    <tr>\n      <th>...</th>\n      <td>...</td>\n      <td>...</td>\n      <td>...</td>\n      <td>...</td>\n      <td>...</td>\n      <td>...</td>\n      <td>...</td>\n      <td>...</td>\n      <td>...</td>\n      <td>...</td>\n      <td>...</td>\n      <td>...</td>\n    </tr>\n    <tr>\n      <th>3048</th>\n      <td>NaN</td>\n      <td>NaN</td>\n      <td>NaN</td>\n      <td>West Bank and Gaza</td>\n      <td>2020-04-18 22:32:28</td>\n      <td>31.952200</td>\n      <td>35.233200</td>\n      <td>418</td>\n      <td>2</td>\n      <td>69</td>\n      <td>347</td>\n      <td>West Bank and Gaza</td>\n    </tr>\n    <tr>\n      <th>3049</th>\n      <td>NaN</td>\n      <td>NaN</td>\n      <td>NaN</td>\n      <td>Western Sahara</td>\n      <td>2020-04-18 22:32:28</td>\n      <td>24.215500</td>\n      <td>-12.885800</td>\n      <td>6</td>\n      <td>0</td>\n      <td>0</td>\n      <td>6</td>\n      <td>Western Sahara</td>\n    </tr>\n    <tr>\n      <th>3050</th>\n      <td>NaN</td>\n      <td>NaN</td>\n      <td>NaN</td>\n      <td>Yemen</td>\n      <td>2020-04-18 22:32:28</td>\n      <td>15.552727</td>\n      <td>48.516388</td>\n      <td>1</td>\n      <td>0</td>\n      <td>0</td>\n      <td>1</td>\n      <td>Yemen</td>\n    </tr>\n    <tr>\n      <th>3051</th>\n      <td>NaN</td>\n      <td>NaN</td>\n      <td>NaN</td>\n      <td>Zambia</td>\n      <td>2020-04-18 22:32:28</td>\n      <td>-13.133897</td>\n      <td>27.849332</td>\n      <td>57</td>\n      <td>2</td>\n      <td>33</td>\n      <td>22</td>\n      <td>Zambia</td>\n    </tr>\n    <tr>\n      <th>3052</th>\n      <td>NaN</td>\n      <td>NaN</td>\n      <td>NaN</td>\n      <td>Zimbabwe</td>\n      <td>2020-04-18 22:32:28</td>\n      <td>-19.015438</td>\n      <td>29.154857</td>\n      <td>25</td>\n      <td>3</td>\n      <td>2</td>\n      <td>20</td>\n      <td>Zimbabwe</td>\n    </tr>\n  </tbody>\n</table>\n<p>3053 rows × 12 columns</p>\n</div>"
     },
     "metadata": {},
     "execution_count": 6
    }
   ],
   "source": [
    "world = pd.read_csv(url)\n",
    "world"
   ]
  },
  {
   "cell_type": "code",
   "execution_count": 7,
   "metadata": {},
   "outputs": [
    {
     "output_type": "execute_result",
     "data": {
      "text/plain": "                       Confirmed  Deaths  Recovered  Active\nCountry_Region                                             \nUS                        732197   38664      64840  628693\nSpain                     191726   20043      74797   96886\nItaly                     175925   23227      44927  107771\nFrance                    149149   19345      36587   93217\nGermany                   143342    4459      85400   53483\n...                          ...     ...        ...     ...\nBhutan                         5       0          2       3\nBurundi                        5       1          0       4\nSao Tome and Principe          4       0          0       4\nSouth Sudan                    4       0          0       4\nYemen                          1       0          0       1\n\n[185 rows x 4 columns]",
      "text/html": "<div>\n<style scoped>\n    .dataframe tbody tr th:only-of-type {\n        vertical-align: middle;\n    }\n\n    .dataframe tbody tr th {\n        vertical-align: top;\n    }\n\n    .dataframe thead th {\n        text-align: right;\n    }\n</style>\n<table border=\"1\" class=\"dataframe\">\n  <thead>\n    <tr style=\"text-align: right;\">\n      <th></th>\n      <th>Confirmed</th>\n      <th>Deaths</th>\n      <th>Recovered</th>\n      <th>Active</th>\n    </tr>\n    <tr>\n      <th>Country_Region</th>\n      <th></th>\n      <th></th>\n      <th></th>\n      <th></th>\n    </tr>\n  </thead>\n  <tbody>\n    <tr>\n      <th>US</th>\n      <td>732197</td>\n      <td>38664</td>\n      <td>64840</td>\n      <td>628693</td>\n    </tr>\n    <tr>\n      <th>Spain</th>\n      <td>191726</td>\n      <td>20043</td>\n      <td>74797</td>\n      <td>96886</td>\n    </tr>\n    <tr>\n      <th>Italy</th>\n      <td>175925</td>\n      <td>23227</td>\n      <td>44927</td>\n      <td>107771</td>\n    </tr>\n    <tr>\n      <th>France</th>\n      <td>149149</td>\n      <td>19345</td>\n      <td>36587</td>\n      <td>93217</td>\n    </tr>\n    <tr>\n      <th>Germany</th>\n      <td>143342</td>\n      <td>4459</td>\n      <td>85400</td>\n      <td>53483</td>\n    </tr>\n    <tr>\n      <th>...</th>\n      <td>...</td>\n      <td>...</td>\n      <td>...</td>\n      <td>...</td>\n    </tr>\n    <tr>\n      <th>Bhutan</th>\n      <td>5</td>\n      <td>0</td>\n      <td>2</td>\n      <td>3</td>\n    </tr>\n    <tr>\n      <th>Burundi</th>\n      <td>5</td>\n      <td>1</td>\n      <td>0</td>\n      <td>4</td>\n    </tr>\n    <tr>\n      <th>Sao Tome and Principe</th>\n      <td>4</td>\n      <td>0</td>\n      <td>0</td>\n      <td>4</td>\n    </tr>\n    <tr>\n      <th>South Sudan</th>\n      <td>4</td>\n      <td>0</td>\n      <td>0</td>\n      <td>4</td>\n    </tr>\n    <tr>\n      <th>Yemen</th>\n      <td>1</td>\n      <td>0</td>\n      <td>0</td>\n      <td>1</td>\n    </tr>\n  </tbody>\n</table>\n<p>185 rows × 4 columns</p>\n</div>"
     },
     "metadata": {},
     "execution_count": 7
    }
   ],
   "source": [
    "data = world.groupby('Country_Region')['Confirmed','Deaths','Recovered','Active'].sum().sort_values(by=['Confirmed'], ascending=False)\n",
    "data"
   ]
  },
  {
   "cell_type": "code",
   "execution_count": 8,
   "metadata": {},
   "outputs": [],
   "source": [
    "#data.to_csv (r'death.csv', index = True, header=True)"
   ]
  },
  {
   "cell_type": "code",
   "execution_count": 9,
   "metadata": {},
   "outputs": [
    {
     "output_type": "execute_result",
     "data": {
      "text/plain": "                           translate\nCountry_Region                      \nUS                               США\nSpain                        Испания\nItaly                         Италия\nFrance                       Франция\nGermany                     Германия\n...                              ...\nGambia                        Гамбия\nBurundi                      Бурунди\nSouth Sudan              Южный Судан\nPapua New Guinea  Папуа-Новая Гвинея\nTimor-Leste          Восточный Тимор\n\n[184 rows x 1 columns]",
      "text/html": "<div>\n<style scoped>\n    .dataframe tbody tr th:only-of-type {\n        vertical-align: middle;\n    }\n\n    .dataframe tbody tr th {\n        vertical-align: top;\n    }\n\n    .dataframe thead th {\n        text-align: right;\n    }\n</style>\n<table border=\"1\" class=\"dataframe\">\n  <thead>\n    <tr style=\"text-align: right;\">\n      <th></th>\n      <th>translate</th>\n    </tr>\n    <tr>\n      <th>Country_Region</th>\n      <th></th>\n    </tr>\n  </thead>\n  <tbody>\n    <tr>\n      <th>US</th>\n      <td>США</td>\n    </tr>\n    <tr>\n      <th>Spain</th>\n      <td>Испания</td>\n    </tr>\n    <tr>\n      <th>Italy</th>\n      <td>Италия</td>\n    </tr>\n    <tr>\n      <th>France</th>\n      <td>Франция</td>\n    </tr>\n    <tr>\n      <th>Germany</th>\n      <td>Германия</td>\n    </tr>\n    <tr>\n      <th>...</th>\n      <td>...</td>\n    </tr>\n    <tr>\n      <th>Gambia</th>\n      <td>Гамбия</td>\n    </tr>\n    <tr>\n      <th>Burundi</th>\n      <td>Бурунди</td>\n    </tr>\n    <tr>\n      <th>South Sudan</th>\n      <td>Южный Судан</td>\n    </tr>\n    <tr>\n      <th>Papua New Guinea</th>\n      <td>Папуа-Новая Гвинея</td>\n    </tr>\n    <tr>\n      <th>Timor-Leste</th>\n      <td>Восточный Тимор</td>\n    </tr>\n  </tbody>\n</table>\n<p>184 rows × 1 columns</p>\n</div>"
     },
     "metadata": {},
     "execution_count": 9
    }
   ],
   "source": [
    "translate = pd.read_csv('translate.csv')\n",
    "for i in range(len(translate['translate'])):\n",
    "    translate['translate'][i] = translate['translate'][i][7:]\n",
    "    \n",
    "translate = translate.set_index('Country_Region')\n",
    "translate"
   ]
  },
  {
   "cell_type": "code",
   "execution_count": 10,
   "metadata": {},
   "outputs": [
    {
     "output_type": "execute_result",
     "data": {
      "text/plain": "                       Confirmed  Deaths  Recovered  Active  \\\nCountry_Region                                                \nUS                        732197   38664      64840  628693   \nSpain                     191726   20043      74797   96886   \nItaly                     175925   23227      44927  107771   \nFrance                    149149   19345      36587   93217   \nGermany                   143342    4459      85400   53483   \n...                          ...     ...        ...     ...   \nWestern Sahara                 6       0          0       6   \nBhutan                         5       0          2       3   \nBurundi                        5       1          0       4   \nSao Tome and Principe          4       0          0       4   \nSouth Sudan                    4       0          0       4   \n\n                                 translate  \nCountry_Region                              \nUS                                     США  \nSpain                              Испания  \nItaly                               Италия  \nFrance                             Франция  \nGermany                           Германия  \n...                                    ...  \nWestern Sahara             Западная Сахара  \nBhutan                               Бутан  \nBurundi                            Бурунди  \nSao Tome and Principe  Сан-Томе и Принсипи  \nSouth Sudan                    Южный Судан  \n\n[184 rows x 5 columns]",
      "text/html": "<div>\n<style scoped>\n    .dataframe tbody tr th:only-of-type {\n        vertical-align: middle;\n    }\n\n    .dataframe tbody tr th {\n        vertical-align: top;\n    }\n\n    .dataframe thead th {\n        text-align: right;\n    }\n</style>\n<table border=\"1\" class=\"dataframe\">\n  <thead>\n    <tr style=\"text-align: right;\">\n      <th></th>\n      <th>Confirmed</th>\n      <th>Deaths</th>\n      <th>Recovered</th>\n      <th>Active</th>\n      <th>translate</th>\n    </tr>\n    <tr>\n      <th>Country_Region</th>\n      <th></th>\n      <th></th>\n      <th></th>\n      <th></th>\n      <th></th>\n    </tr>\n  </thead>\n  <tbody>\n    <tr>\n      <th>US</th>\n      <td>732197</td>\n      <td>38664</td>\n      <td>64840</td>\n      <td>628693</td>\n      <td>США</td>\n    </tr>\n    <tr>\n      <th>Spain</th>\n      <td>191726</td>\n      <td>20043</td>\n      <td>74797</td>\n      <td>96886</td>\n      <td>Испания</td>\n    </tr>\n    <tr>\n      <th>Italy</th>\n      <td>175925</td>\n      <td>23227</td>\n      <td>44927</td>\n      <td>107771</td>\n      <td>Италия</td>\n    </tr>\n    <tr>\n      <th>France</th>\n      <td>149149</td>\n      <td>19345</td>\n      <td>36587</td>\n      <td>93217</td>\n      <td>Франция</td>\n    </tr>\n    <tr>\n      <th>Germany</th>\n      <td>143342</td>\n      <td>4459</td>\n      <td>85400</td>\n      <td>53483</td>\n      <td>Германия</td>\n    </tr>\n    <tr>\n      <th>...</th>\n      <td>...</td>\n      <td>...</td>\n      <td>...</td>\n      <td>...</td>\n      <td>...</td>\n    </tr>\n    <tr>\n      <th>Western Sahara</th>\n      <td>6</td>\n      <td>0</td>\n      <td>0</td>\n      <td>6</td>\n      <td>Западная Сахара</td>\n    </tr>\n    <tr>\n      <th>Bhutan</th>\n      <td>5</td>\n      <td>0</td>\n      <td>2</td>\n      <td>3</td>\n      <td>Бутан</td>\n    </tr>\n    <tr>\n      <th>Burundi</th>\n      <td>5</td>\n      <td>1</td>\n      <td>0</td>\n      <td>4</td>\n      <td>Бурунди</td>\n    </tr>\n    <tr>\n      <th>Sao Tome and Principe</th>\n      <td>4</td>\n      <td>0</td>\n      <td>0</td>\n      <td>4</td>\n      <td>Сан-Томе и Принсипи</td>\n    </tr>\n    <tr>\n      <th>South Sudan</th>\n      <td>4</td>\n      <td>0</td>\n      <td>0</td>\n      <td>4</td>\n      <td>Южный Судан</td>\n    </tr>\n  </tbody>\n</table>\n<p>184 rows × 5 columns</p>\n</div>"
     },
     "metadata": {},
     "execution_count": 10
    }
   ],
   "source": [
    "data = pd.concat([data, translate], axis=1, join='inner')\n",
    "data"
   ]
  },
  {
   "cell_type": "code",
   "execution_count": 11,
   "metadata": {},
   "outputs": [
    {
     "output_type": "execute_result",
     "data": {
      "text/plain": "                Confirmed  Deaths  Recovered  Active       translate\nCountry_Region                                                      \nUS                 732197   38664      64840  628693             США\nSpain              191726   20043      74797   96886         Испания\nItaly              175925   23227      44927  107771          Италия\nFrance             149149   19345      36587   93217         Франция\nGermany            143342    4459      85400   53483        Германия\nUnited Kingdom     115314   15498        414   99402  Великобритания\nChina               83787    4636      77614    1537           Китай\nTurkey              82329    1890      10453   69986          Турция\nIran                80868    5031      55987   19850            Иран\nBelgium             37183    5453       8348   23382         Бельгия",
      "text/html": "<div>\n<style scoped>\n    .dataframe tbody tr th:only-of-type {\n        vertical-align: middle;\n    }\n\n    .dataframe tbody tr th {\n        vertical-align: top;\n    }\n\n    .dataframe thead th {\n        text-align: right;\n    }\n</style>\n<table border=\"1\" class=\"dataframe\">\n  <thead>\n    <tr style=\"text-align: right;\">\n      <th></th>\n      <th>Confirmed</th>\n      <th>Deaths</th>\n      <th>Recovered</th>\n      <th>Active</th>\n      <th>translate</th>\n    </tr>\n    <tr>\n      <th>Country_Region</th>\n      <th></th>\n      <th></th>\n      <th></th>\n      <th></th>\n      <th></th>\n    </tr>\n  </thead>\n  <tbody>\n    <tr>\n      <th>US</th>\n      <td>732197</td>\n      <td>38664</td>\n      <td>64840</td>\n      <td>628693</td>\n      <td>США</td>\n    </tr>\n    <tr>\n      <th>Spain</th>\n      <td>191726</td>\n      <td>20043</td>\n      <td>74797</td>\n      <td>96886</td>\n      <td>Испания</td>\n    </tr>\n    <tr>\n      <th>Italy</th>\n      <td>175925</td>\n      <td>23227</td>\n      <td>44927</td>\n      <td>107771</td>\n      <td>Италия</td>\n    </tr>\n    <tr>\n      <th>France</th>\n      <td>149149</td>\n      <td>19345</td>\n      <td>36587</td>\n      <td>93217</td>\n      <td>Франция</td>\n    </tr>\n    <tr>\n      <th>Germany</th>\n      <td>143342</td>\n      <td>4459</td>\n      <td>85400</td>\n      <td>53483</td>\n      <td>Германия</td>\n    </tr>\n    <tr>\n      <th>United Kingdom</th>\n      <td>115314</td>\n      <td>15498</td>\n      <td>414</td>\n      <td>99402</td>\n      <td>Великобритания</td>\n    </tr>\n    <tr>\n      <th>China</th>\n      <td>83787</td>\n      <td>4636</td>\n      <td>77614</td>\n      <td>1537</td>\n      <td>Китай</td>\n    </tr>\n    <tr>\n      <th>Turkey</th>\n      <td>82329</td>\n      <td>1890</td>\n      <td>10453</td>\n      <td>69986</td>\n      <td>Турция</td>\n    </tr>\n    <tr>\n      <th>Iran</th>\n      <td>80868</td>\n      <td>5031</td>\n      <td>55987</td>\n      <td>19850</td>\n      <td>Иран</td>\n    </tr>\n    <tr>\n      <th>Belgium</th>\n      <td>37183</td>\n      <td>5453</td>\n      <td>8348</td>\n      <td>23382</td>\n      <td>Бельгия</td>\n    </tr>\n  </tbody>\n</table>\n</div>"
     },
     "metadata": {},
     "execution_count": 11
    }
   ],
   "source": [
    "top = data[:10]\n",
    "top"
   ]
  },
  {
   "cell_type": "code",
   "execution_count": 12,
   "metadata": {},
   "outputs": [
    {
     "output_type": "execute_result",
     "data": {
      "text/plain": "                       Confirmed  Deaths  Recovered  Active  \\\nCountry_Region                                                \nBrazil                     36658    2354      14026   20278   \nCanada                     34356    1400      10964   21992   \nNetherlands                31766    3613        317   27836   \nSwitzerland                27404    1368      17100    8936   \nPortugal                   19685     687        610   18388   \n...                          ...     ...        ...     ...   \nWestern Sahara                 6       0          0       6   \nBhutan                         5       0          2       3   \nBurundi                        5       1          0       4   \nSao Tome and Principe          4       0          0       4   \nSouth Sudan                    4       0          0       4   \n\n                                 translate  \nCountry_Region                              \nBrazil                            Бразилия  \nCanada                              Канада  \nNetherlands                     Нидерланды  \nSwitzerland                      Швейцария  \nPortugal                        Португалия  \n...                                    ...  \nWestern Sahara             Западная Сахара  \nBhutan                               Бутан  \nBurundi                            Бурунди  \nSao Tome and Principe  Сан-Томе и Принсипи  \nSouth Sudan                    Южный Судан  \n\n[173 rows x 5 columns]",
      "text/html": "<div>\n<style scoped>\n    .dataframe tbody tr th:only-of-type {\n        vertical-align: middle;\n    }\n\n    .dataframe tbody tr th {\n        vertical-align: top;\n    }\n\n    .dataframe thead th {\n        text-align: right;\n    }\n</style>\n<table border=\"1\" class=\"dataframe\">\n  <thead>\n    <tr style=\"text-align: right;\">\n      <th></th>\n      <th>Confirmed</th>\n      <th>Deaths</th>\n      <th>Recovered</th>\n      <th>Active</th>\n      <th>translate</th>\n    </tr>\n    <tr>\n      <th>Country_Region</th>\n      <th></th>\n      <th></th>\n      <th></th>\n      <th></th>\n      <th></th>\n    </tr>\n  </thead>\n  <tbody>\n    <tr>\n      <th>Brazil</th>\n      <td>36658</td>\n      <td>2354</td>\n      <td>14026</td>\n      <td>20278</td>\n      <td>Бразилия</td>\n    </tr>\n    <tr>\n      <th>Canada</th>\n      <td>34356</td>\n      <td>1400</td>\n      <td>10964</td>\n      <td>21992</td>\n      <td>Канада</td>\n    </tr>\n    <tr>\n      <th>Netherlands</th>\n      <td>31766</td>\n      <td>3613</td>\n      <td>317</td>\n      <td>27836</td>\n      <td>Нидерланды</td>\n    </tr>\n    <tr>\n      <th>Switzerland</th>\n      <td>27404</td>\n      <td>1368</td>\n      <td>17100</td>\n      <td>8936</td>\n      <td>Швейцария</td>\n    </tr>\n    <tr>\n      <th>Portugal</th>\n      <td>19685</td>\n      <td>687</td>\n      <td>610</td>\n      <td>18388</td>\n      <td>Португалия</td>\n    </tr>\n    <tr>\n      <th>...</th>\n      <td>...</td>\n      <td>...</td>\n      <td>...</td>\n      <td>...</td>\n      <td>...</td>\n    </tr>\n    <tr>\n      <th>Western Sahara</th>\n      <td>6</td>\n      <td>0</td>\n      <td>0</td>\n      <td>6</td>\n      <td>Западная Сахара</td>\n    </tr>\n    <tr>\n      <th>Bhutan</th>\n      <td>5</td>\n      <td>0</td>\n      <td>2</td>\n      <td>3</td>\n      <td>Бутан</td>\n    </tr>\n    <tr>\n      <th>Burundi</th>\n      <td>5</td>\n      <td>1</td>\n      <td>0</td>\n      <td>4</td>\n      <td>Бурунди</td>\n    </tr>\n    <tr>\n      <th>Sao Tome and Principe</th>\n      <td>4</td>\n      <td>0</td>\n      <td>0</td>\n      <td>4</td>\n      <td>Сан-Томе и Принсипи</td>\n    </tr>\n    <tr>\n      <th>South Sudan</th>\n      <td>4</td>\n      <td>0</td>\n      <td>0</td>\n      <td>4</td>\n      <td>Южный Судан</td>\n    </tr>\n  </tbody>\n</table>\n<p>173 rows × 5 columns</p>\n</div>"
     },
     "metadata": {},
     "execution_count": 12
    }
   ],
   "source": [
    "others = data[11:]\n",
    "others"
   ]
  },
  {
   "cell_type": "code",
   "execution_count": 13,
   "metadata": {},
   "outputs": [
    {
     "output_type": "execute_result",
     "data": {
      "text/plain": "       Confirmed Deaths Recovered Active translate\nRussia     36793    313      3057  33423    Россия",
      "text/html": "<div>\n<style scoped>\n    .dataframe tbody tr th:only-of-type {\n        vertical-align: middle;\n    }\n\n    .dataframe tbody tr th {\n        vertical-align: top;\n    }\n\n    .dataframe thead th {\n        text-align: right;\n    }\n</style>\n<table border=\"1\" class=\"dataframe\">\n  <thead>\n    <tr style=\"text-align: right;\">\n      <th></th>\n      <th>Confirmed</th>\n      <th>Deaths</th>\n      <th>Recovered</th>\n      <th>Active</th>\n      <th>translate</th>\n    </tr>\n  </thead>\n  <tbody>\n    <tr>\n      <th>Russia</th>\n      <td>36793</td>\n      <td>313</td>\n      <td>3057</td>\n      <td>33423</td>\n      <td>Россия</td>\n    </tr>\n  </tbody>\n</table>\n</div>"
     },
     "metadata": {},
     "execution_count": 13
    }
   ],
   "source": [
    "russia = pd.DataFrame(data.loc['Russia']).T\n",
    "russia"
   ]
  },
  {
   "cell_type": "code",
   "execution_count": 14,
   "metadata": {},
   "outputs": [
    {
     "output_type": "display_data",
     "data": {
      "application/vnd.plotly.v1+json": {
       "config": {
        "plotlyServerURL": "https://plot.ly"
       },
       "data": [
        {
         "marker": {
          "color": "rgba(255,0,0,1)"
         },
         "mode": "markers+text",
         "name": "Top-10",
         "text": [
          "США",
          "Испания",
          "Италия",
          "Франция",
          "Германия",
          "Великобритания",
          "Китай",
          "Турция",
          "Иран",
          "Бельгия"
         ],
         "textposition": "middle right",
         "type": "scatter",
         "x": [
          38664,
          20043,
          23227,
          19345,
          4459,
          15498,
          4636,
          1890,
          5031,
          5453
         ],
         "y": [
          64840,
          74797,
          44927,
          36587,
          85400,
          414,
          77614,
          10453,
          55987,
          8348
         ]
        },
        {
         "marker": {
          "color": "rgba(0,0,255,1)"
         },
         "mode": "markers+text",
         "name": "Russia",
         "text": [
          "Россия"
         ],
         "textposition": "middle right",
         "type": "scatter",
         "x": [
          313
         ],
         "y": [
          3057
         ]
        }
       ],
       "layout": {
        "annotations": [
         {
          "showarrow": false,
          "text": "© Алексей Новичков, dataviz.ru. Источник: Johns Hopkins CSSE. Дата: 18.04.2020",
          "x": 0,
          "xanchor": "left",
          "xshift": -50,
          "y": 0,
          "yshift": -70
         }
        ],
        "font": {
         "color": "rgb(0,0,0)",
         "family": "Navigo",
         "size": 12
        },
        "height": 800,
        "margin": {
         "b": 120,
         "l": 70,
         "r": 70,
         "t": 100
        },
        "paper_bgcolor": "white",
        "showlegend": false,
        "template": {
         "data": {
          "bar": [
           {
            "error_x": {
             "color": "#2a3f5f"
            },
            "error_y": {
             "color": "#2a3f5f"
            },
            "marker": {
             "line": {
              "color": "white",
              "width": 0.5
             }
            },
            "type": "bar"
           }
          ],
          "barpolar": [
           {
            "marker": {
             "line": {
              "color": "white",
              "width": 0.5
             }
            },
            "type": "barpolar"
           }
          ],
          "carpet": [
           {
            "aaxis": {
             "endlinecolor": "#2a3f5f",
             "gridcolor": "#C8D4E3",
             "linecolor": "#C8D4E3",
             "minorgridcolor": "#C8D4E3",
             "startlinecolor": "#2a3f5f"
            },
            "baxis": {
             "endlinecolor": "#2a3f5f",
             "gridcolor": "#C8D4E3",
             "linecolor": "#C8D4E3",
             "minorgridcolor": "#C8D4E3",
             "startlinecolor": "#2a3f5f"
            },
            "type": "carpet"
           }
          ],
          "choropleth": [
           {
            "colorbar": {
             "outlinewidth": 0,
             "ticks": ""
            },
            "type": "choropleth"
           }
          ],
          "contour": [
           {
            "colorbar": {
             "outlinewidth": 0,
             "ticks": ""
            },
            "colorscale": [
             [
              0,
              "#0d0887"
             ],
             [
              0.1111111111111111,
              "#46039f"
             ],
             [
              0.2222222222222222,
              "#7201a8"
             ],
             [
              0.3333333333333333,
              "#9c179e"
             ],
             [
              0.4444444444444444,
              "#bd3786"
             ],
             [
              0.5555555555555556,
              "#d8576b"
             ],
             [
              0.6666666666666666,
              "#ed7953"
             ],
             [
              0.7777777777777778,
              "#fb9f3a"
             ],
             [
              0.8888888888888888,
              "#fdca26"
             ],
             [
              1,
              "#f0f921"
             ]
            ],
            "type": "contour"
           }
          ],
          "contourcarpet": [
           {
            "colorbar": {
             "outlinewidth": 0,
             "ticks": ""
            },
            "type": "contourcarpet"
           }
          ],
          "heatmap": [
           {
            "colorbar": {
             "outlinewidth": 0,
             "ticks": ""
            },
            "colorscale": [
             [
              0,
              "#0d0887"
             ],
             [
              0.1111111111111111,
              "#46039f"
             ],
             [
              0.2222222222222222,
              "#7201a8"
             ],
             [
              0.3333333333333333,
              "#9c179e"
             ],
             [
              0.4444444444444444,
              "#bd3786"
             ],
             [
              0.5555555555555556,
              "#d8576b"
             ],
             [
              0.6666666666666666,
              "#ed7953"
             ],
             [
              0.7777777777777778,
              "#fb9f3a"
             ],
             [
              0.8888888888888888,
              "#fdca26"
             ],
             [
              1,
              "#f0f921"
             ]
            ],
            "type": "heatmap"
           }
          ],
          "heatmapgl": [
           {
            "colorbar": {
             "outlinewidth": 0,
             "ticks": ""
            },
            "colorscale": [
             [
              0,
              "#0d0887"
             ],
             [
              0.1111111111111111,
              "#46039f"
             ],
             [
              0.2222222222222222,
              "#7201a8"
             ],
             [
              0.3333333333333333,
              "#9c179e"
             ],
             [
              0.4444444444444444,
              "#bd3786"
             ],
             [
              0.5555555555555556,
              "#d8576b"
             ],
             [
              0.6666666666666666,
              "#ed7953"
             ],
             [
              0.7777777777777778,
              "#fb9f3a"
             ],
             [
              0.8888888888888888,
              "#fdca26"
             ],
             [
              1,
              "#f0f921"
             ]
            ],
            "type": "heatmapgl"
           }
          ],
          "histogram": [
           {
            "marker": {
             "colorbar": {
              "outlinewidth": 0,
              "ticks": ""
             }
            },
            "type": "histogram"
           }
          ],
          "histogram2d": [
           {
            "colorbar": {
             "outlinewidth": 0,
             "ticks": ""
            },
            "colorscale": [
             [
              0,
              "#0d0887"
             ],
             [
              0.1111111111111111,
              "#46039f"
             ],
             [
              0.2222222222222222,
              "#7201a8"
             ],
             [
              0.3333333333333333,
              "#9c179e"
             ],
             [
              0.4444444444444444,
              "#bd3786"
             ],
             [
              0.5555555555555556,
              "#d8576b"
             ],
             [
              0.6666666666666666,
              "#ed7953"
             ],
             [
              0.7777777777777778,
              "#fb9f3a"
             ],
             [
              0.8888888888888888,
              "#fdca26"
             ],
             [
              1,
              "#f0f921"
             ]
            ],
            "type": "histogram2d"
           }
          ],
          "histogram2dcontour": [
           {
            "colorbar": {
             "outlinewidth": 0,
             "ticks": ""
            },
            "colorscale": [
             [
              0,
              "#0d0887"
             ],
             [
              0.1111111111111111,
              "#46039f"
             ],
             [
              0.2222222222222222,
              "#7201a8"
             ],
             [
              0.3333333333333333,
              "#9c179e"
             ],
             [
              0.4444444444444444,
              "#bd3786"
             ],
             [
              0.5555555555555556,
              "#d8576b"
             ],
             [
              0.6666666666666666,
              "#ed7953"
             ],
             [
              0.7777777777777778,
              "#fb9f3a"
             ],
             [
              0.8888888888888888,
              "#fdca26"
             ],
             [
              1,
              "#f0f921"
             ]
            ],
            "type": "histogram2dcontour"
           }
          ],
          "mesh3d": [
           {
            "colorbar": {
             "outlinewidth": 0,
             "ticks": ""
            },
            "type": "mesh3d"
           }
          ],
          "parcoords": [
           {
            "line": {
             "colorbar": {
              "outlinewidth": 0,
              "ticks": ""
             }
            },
            "type": "parcoords"
           }
          ],
          "pie": [
           {
            "automargin": true,
            "type": "pie"
           }
          ],
          "scatter": [
           {
            "marker": {
             "colorbar": {
              "outlinewidth": 0,
              "ticks": ""
             }
            },
            "type": "scatter"
           }
          ],
          "scatter3d": [
           {
            "line": {
             "colorbar": {
              "outlinewidth": 0,
              "ticks": ""
             }
            },
            "marker": {
             "colorbar": {
              "outlinewidth": 0,
              "ticks": ""
             }
            },
            "type": "scatter3d"
           }
          ],
          "scattercarpet": [
           {
            "marker": {
             "colorbar": {
              "outlinewidth": 0,
              "ticks": ""
             }
            },
            "type": "scattercarpet"
           }
          ],
          "scattergeo": [
           {
            "marker": {
             "colorbar": {
              "outlinewidth": 0,
              "ticks": ""
             }
            },
            "type": "scattergeo"
           }
          ],
          "scattergl": [
           {
            "marker": {
             "colorbar": {
              "outlinewidth": 0,
              "ticks": ""
             }
            },
            "type": "scattergl"
           }
          ],
          "scattermapbox": [
           {
            "marker": {
             "colorbar": {
              "outlinewidth": 0,
              "ticks": ""
             }
            },
            "type": "scattermapbox"
           }
          ],
          "scatterpolar": [
           {
            "marker": {
             "colorbar": {
              "outlinewidth": 0,
              "ticks": ""
             }
            },
            "type": "scatterpolar"
           }
          ],
          "scatterpolargl": [
           {
            "marker": {
             "colorbar": {
              "outlinewidth": 0,
              "ticks": ""
             }
            },
            "type": "scatterpolargl"
           }
          ],
          "scatterternary": [
           {
            "marker": {
             "colorbar": {
              "outlinewidth": 0,
              "ticks": ""
             }
            },
            "type": "scatterternary"
           }
          ],
          "surface": [
           {
            "colorbar": {
             "outlinewidth": 0,
             "ticks": ""
            },
            "colorscale": [
             [
              0,
              "#0d0887"
             ],
             [
              0.1111111111111111,
              "#46039f"
             ],
             [
              0.2222222222222222,
              "#7201a8"
             ],
             [
              0.3333333333333333,
              "#9c179e"
             ],
             [
              0.4444444444444444,
              "#bd3786"
             ],
             [
              0.5555555555555556,
              "#d8576b"
             ],
             [
              0.6666666666666666,
              "#ed7953"
             ],
             [
              0.7777777777777778,
              "#fb9f3a"
             ],
             [
              0.8888888888888888,
              "#fdca26"
             ],
             [
              1,
              "#f0f921"
             ]
            ],
            "type": "surface"
           }
          ],
          "table": [
           {
            "cells": {
             "fill": {
              "color": "#EBF0F8"
             },
             "line": {
              "color": "white"
             }
            },
            "header": {
             "fill": {
              "color": "#C8D4E3"
             },
             "line": {
              "color": "white"
             }
            },
            "type": "table"
           }
          ]
         },
         "layout": {
          "annotationdefaults": {
           "arrowcolor": "#2a3f5f",
           "arrowhead": 0,
           "arrowwidth": 1
          },
          "coloraxis": {
           "colorbar": {
            "outlinewidth": 0,
            "ticks": ""
           }
          },
          "colorscale": {
           "diverging": [
            [
             0,
             "#8e0152"
            ],
            [
             0.1,
             "#c51b7d"
            ],
            [
             0.2,
             "#de77ae"
            ],
            [
             0.3,
             "#f1b6da"
            ],
            [
             0.4,
             "#fde0ef"
            ],
            [
             0.5,
             "#f7f7f7"
            ],
            [
             0.6,
             "#e6f5d0"
            ],
            [
             0.7,
             "#b8e186"
            ],
            [
             0.8,
             "#7fbc41"
            ],
            [
             0.9,
             "#4d9221"
            ],
            [
             1,
             "#276419"
            ]
           ],
           "sequential": [
            [
             0,
             "#0d0887"
            ],
            [
             0.1111111111111111,
             "#46039f"
            ],
            [
             0.2222222222222222,
             "#7201a8"
            ],
            [
             0.3333333333333333,
             "#9c179e"
            ],
            [
             0.4444444444444444,
             "#bd3786"
            ],
            [
             0.5555555555555556,
             "#d8576b"
            ],
            [
             0.6666666666666666,
             "#ed7953"
            ],
            [
             0.7777777777777778,
             "#fb9f3a"
            ],
            [
             0.8888888888888888,
             "#fdca26"
            ],
            [
             1,
             "#f0f921"
            ]
           ],
           "sequentialminus": [
            [
             0,
             "#0d0887"
            ],
            [
             0.1111111111111111,
             "#46039f"
            ],
            [
             0.2222222222222222,
             "#7201a8"
            ],
            [
             0.3333333333333333,
             "#9c179e"
            ],
            [
             0.4444444444444444,
             "#bd3786"
            ],
            [
             0.5555555555555556,
             "#d8576b"
            ],
            [
             0.6666666666666666,
             "#ed7953"
            ],
            [
             0.7777777777777778,
             "#fb9f3a"
            ],
            [
             0.8888888888888888,
             "#fdca26"
            ],
            [
             1,
             "#f0f921"
            ]
           ]
          },
          "colorway": [
           "#636efa",
           "#EF553B",
           "#00cc96",
           "#ab63fa",
           "#FFA15A",
           "#19d3f3",
           "#FF6692",
           "#B6E880",
           "#FF97FF",
           "#FECB52"
          ],
          "font": {
           "color": "#2a3f5f"
          },
          "geo": {
           "bgcolor": "white",
           "lakecolor": "white",
           "landcolor": "white",
           "showlakes": true,
           "showland": true,
           "subunitcolor": "#C8D4E3"
          },
          "hoverlabel": {
           "align": "left"
          },
          "hovermode": "closest",
          "mapbox": {
           "style": "light"
          },
          "paper_bgcolor": "white",
          "plot_bgcolor": "white",
          "polar": {
           "angularaxis": {
            "gridcolor": "#EBF0F8",
            "linecolor": "#EBF0F8",
            "ticks": ""
           },
           "bgcolor": "white",
           "radialaxis": {
            "gridcolor": "#EBF0F8",
            "linecolor": "#EBF0F8",
            "ticks": ""
           }
          },
          "scene": {
           "xaxis": {
            "backgroundcolor": "white",
            "gridcolor": "#DFE8F3",
            "gridwidth": 2,
            "linecolor": "#EBF0F8",
            "showbackground": true,
            "ticks": "",
            "zerolinecolor": "#EBF0F8"
           },
           "yaxis": {
            "backgroundcolor": "white",
            "gridcolor": "#DFE8F3",
            "gridwidth": 2,
            "linecolor": "#EBF0F8",
            "showbackground": true,
            "ticks": "",
            "zerolinecolor": "#EBF0F8"
           },
           "zaxis": {
            "backgroundcolor": "white",
            "gridcolor": "#DFE8F3",
            "gridwidth": 2,
            "linecolor": "#EBF0F8",
            "showbackground": true,
            "ticks": "",
            "zerolinecolor": "#EBF0F8"
           }
          },
          "shapedefaults": {
           "line": {
            "color": "#2a3f5f"
           }
          },
          "ternary": {
           "aaxis": {
            "gridcolor": "#DFE8F3",
            "linecolor": "#A2B1C6",
            "ticks": ""
           },
           "baxis": {
            "gridcolor": "#DFE8F3",
            "linecolor": "#A2B1C6",
            "ticks": ""
           },
           "bgcolor": "white",
           "caxis": {
            "gridcolor": "#DFE8F3",
            "linecolor": "#A2B1C6",
            "ticks": ""
           }
          },
          "title": {
           "x": 0.05
          },
          "xaxis": {
           "automargin": true,
           "gridcolor": "#EBF0F8",
           "linecolor": "#EBF0F8",
           "ticks": "",
           "title": {
            "standoff": 15
           },
           "zerolinecolor": "#EBF0F8",
           "zerolinewidth": 2
          },
          "yaxis": {
           "automargin": true,
           "gridcolor": "#EBF0F8",
           "linecolor": "#EBF0F8",
           "ticks": "",
           "title": {
            "standoff": 15
           },
           "zerolinecolor": "#EBF0F8",
           "zerolinewidth": 2
          }
         }
        },
        "title": {
         "font": {
          "color": "rgb(0,0,0)",
          "family": "Navigo",
          "size": 28
         },
         "text": "Количество умерших и выздоровевших от COVID-19",
         "x": 0.03,
         "xanchor": "left",
         "y": 0.955,
         "yanchor": "top"
        },
        "width": 800,
        "xaxis": {
         "autorange": false,
         "gridcolor": "rgba(230,230,230,1)",
         "linecolor": "rgba(200,200,200,1)",
         "linewidth": 1,
         "range": [
          0,
          25000
         ],
         "showgrid": true,
         "showline": true,
         "tickcolor": "rgba(200,200,200,1)",
         "tickfont": {
          "color": "rgba(100,100,100,1)",
          "size": 12
         },
         "ticks": "outside",
         "ticktext": [
          "0",
          "5",
          "10",
          "15",
          "20",
          "25"
         ],
         "tickvals": [
          0,
          5000,
          10000,
          15000,
          20000,
          25000
         ],
         "title": {
          "standoff": 5,
          "text": "Умершие (тыс.чел.)"
         },
         "type": "linear"
        },
        "yaxis": {
         "autorange": false,
         "gridcolor": "rgba(230,230,230,1)",
         "linecolor": "rgba(200,200,200,1)",
         "linewidth": 1,
         "range": [
          0,
          80000
         ],
         "showgrid": true,
         "showline": true,
         "tickcolor": "rgba(200,200,200,1)",
         "tickfont": {
          "color": "rgba(100,100,100,1)",
          "size": 12
         },
         "ticks": "outside",
         "ticktext": [
          "0",
          "20",
          "40",
          "60",
          "80"
         ],
         "tickvals": [
          0,
          20000,
          40000,
          60000,
          80000
         ],
         "title": {
          "standoff": 5,
          "text": "Выздоровевшие (тыс.чел.)"
         },
         "type": "linear"
        }
       }
      }
     },
     "metadata": {}
    }
   ],
   "source": [
    "fig = go.Figure()\n",
    "\n",
    "\n",
    "fig.add_trace(go.Scatter(x = top['Deaths'], y = top['Recovered'],\n",
    "                         mode = 'markers+text',\n",
    "                         text = top['translate'],\n",
    "                         textposition = 'middle right',\n",
    "                         marker_color = 'rgba(255,0,0,1)',\n",
    "                         name = 'Top-10'\n",
    "                        ))\n",
    "\n",
    "fig.add_trace(go.Scatter(x = russia['Deaths'], y = russia['Recovered'],\n",
    "                         mode = 'markers+text',\n",
    "                         text = russia['translate'],\n",
    "                         textposition = 'middle right',\n",
    "                         marker_color = 'rgba(0,0,255,1)',\n",
    "                         name = 'Russia'\n",
    "                        ))\n",
    "\n",
    "fig.update_layout(\n",
    "    template = 'plotly_white',\n",
    "    font = {'family': 'Navigo',\n",
    "            'color': 'rgb(0,0,0)',\n",
    "            'size': 12\n",
    "           },\n",
    "    width=800, height=800,\n",
    "    xaxis=dict(\n",
    "        autorange=False,\n",
    "        range=[0, 25000],\n",
    "        type='linear'\n",
    "    ),\n",
    "        yaxis=dict(\n",
    "        autorange=False,\n",
    "        range=[0, 80000],\n",
    "        type='linear'\n",
    "    ),\n",
    "    title={\n",
    "    'text': \"Количество умерших и выздоровевших от COVID-19\",        \n",
    "    'y':.955,        \n",
    "    'x':.03,        \n",
    "    'font':{\n",
    "            'family': 'Navigo',\n",
    "            'size': 28,\n",
    "            'color': 'rgb(0,0,0)'},\n",
    "        'xanchor': 'left',\n",
    "        'yanchor': 'top'},\n",
    "    xaxis_title=\"Умершие (тыс.чел.)\",\n",
    "    yaxis_title=\"Выздоровевшие (тыс.чел.)\",\n",
    "    showlegend=False,\n",
    "    margin=dict(\n",
    "        b=120,\n",
    "        l=70,\n",
    "        t=100,\n",
    "        r=70\n",
    "    ),\n",
    "    paper_bgcolor = 'white',\n",
    "    annotations=[dict(\n",
    "            showarrow=False,\n",
    "            x=0,\n",
    "            y=0,\n",
    "            text=\"© Алексей Новичков, dataviz.ru. Источник: Johns Hopkins CSSE. Дата: \" + date,\n",
    "            xanchor=\"left\",\n",
    "            xshift=-50,\n",
    "            yshift=-70,        \n",
    "            )]\n",
    ")\n",
    "\n",
    "fig.update_xaxes(\n",
    "    ticktext=['0','5', '10', '15', '20','25'],\n",
    "    tickvals=[0, 5000, 10000, 15000, 20000,25000],\n",
    "    tickfont=dict(color='rgba(100,100,100,1)', \n",
    "                  size=12,\n",
    "                 ),\n",
    "    ticks=\"outside\",\n",
    "    tickcolor='rgba(200,200,200,1)',\n",
    "    showline=True, \n",
    "    linewidth=1, \n",
    "    linecolor='rgba(200,200,200,1)',\n",
    "    showgrid=True,\n",
    "    title_standoff = 5,\n",
    "    gridcolor='rgba(230,230,230,1)'\n",
    ")\n",
    "\n",
    "fig.update_yaxes(\n",
    "    ticktext=['0', '20', '40', '60', '80'],\n",
    "    tickvals=[0, 20000, 40000, 60000, 80000],\n",
    "    tickfont=dict(color='rgba(100,100,100,1)', \n",
    "                  size=12),    \n",
    "    ticks=\"outside\",\n",
    "    tickcolor= 'rgba(200,200,200,1)',    \n",
    "    showline=True, \n",
    "    linewidth=1, \n",
    "    linecolor='rgba(200,200,200,1)',\n",
    "    showgrid=True,\n",
    "    title_standoff = 5,\n",
    "    gridcolor='rgba(230,230,230,1)'\n",
    ")\n",
    "\n",
    "fig.show()"
   ]
  },
  {
   "cell_type": "code",
   "execution_count": 15,
   "metadata": {},
   "outputs": [
    {
     "output_type": "error",
     "ename": "ValueError",
     "evalue": "\nThe orca executable is required to export figures as static images,\nbut it could not be found on the system path.\n\nSearched for executable 'orca' on the following path:\n    C:\\Program Files (x86)\\Common Files\\Intel\\Shared Libraries\\redist\\intel64\\compiler\n    C:\\Windows\\system32\n    C:\\Windows\n    C:\\Windows\\System32\\Wbem\n    C:\\Windows\\System32\\WindowsPowerShell\\v1.0\\\n    C:\\Windows\\System32\\OpenSSH\\\n    C:\\Program Files\\NVIDIA Corporation\\NVIDIA NvDLISR\n    C:\\Program Files (x86)\\NVIDIA Corporation\\PhysX\\Common\n    C:\\Users\\novic\\Anaconda3\\Scripts\n    C:\\Users\\novic\\Anaconda3\n    C:\\Users\\novic\\AppData\\Local\\Microsoft\\WindowsApps\n    C:\\Users\\novic\\AppData\\Local\\GitHubDesktop\\bin\n    C:\\Program Files\\JetBrains\\PyCharm Community Edition 2020.1\\bin\n    \n    C:\\Users\\novic\\AppData\\Local\\Programs\\Microsoft VS Code\\bin\n\nIf you haven't installed orca yet, you can do so using conda as follows:\n\n    $ conda install -c plotly plotly-orca\n\nAlternatively, see other installation methods in the orca project README at\nhttps://github.com/plotly/orca\n\nAfter installation is complete, no further configuration should be needed.\n\nIf you have installed orca, then for some reason plotly.py was unable to\nlocate it. In this case, set the `plotly.io.orca.config.executable`\nproperty to the full path of your orca executable. For example:\n\n    >>> plotly.io.orca.config.executable = '/path/to/orca'\n\nAfter updating this executable property, try the export operation again.\nIf it is successful then you may want to save this configuration so that it\nwill be applied automatically in future sessions. You can do this as follows:\n\n    >>> plotly.io.orca.config.save()\n\nIf you're still having trouble, feel free to ask for help on the forums at\nhttps://community.plot.ly/c/api/python\n",
     "traceback": [
      "\u001b[1;31m---------------------------------------------------------------------------\u001b[0m",
      "\u001b[1;31mValueError\u001b[0m                                Traceback (most recent call last)",
      "\u001b[1;32m<ipython-input-15-9440a79875d1>\u001b[0m in \u001b[0;36m<module>\u001b[1;34m\u001b[0m\n\u001b[1;32m----> 1\u001b[1;33m \u001b[0mfig\u001b[0m\u001b[1;33m.\u001b[0m\u001b[0mwrite_image\u001b[0m\u001b[1;33m(\u001b[0m\u001b[1;34m\"images/covid19-Confirmedanddeath.png\"\u001b[0m\u001b[1;33m,\u001b[0m \u001b[0mscale\u001b[0m \u001b[1;33m=\u001b[0m \u001b[1;36m5\u001b[0m\u001b[1;33m)\u001b[0m\u001b[1;33m\u001b[0m\u001b[1;33m\u001b[0m\u001b[0m\n\u001b[0m\u001b[0;32m      2\u001b[0m \u001b[0mimg_bytes\u001b[0m \u001b[1;33m=\u001b[0m \u001b[0mfig\u001b[0m\u001b[1;33m.\u001b[0m\u001b[0mto_image\u001b[0m\u001b[1;33m(\u001b[0m\u001b[0mformat\u001b[0m\u001b[1;33m=\u001b[0m\u001b[1;34m\"png\"\u001b[0m\u001b[1;33m)\u001b[0m\u001b[1;33m\u001b[0m\u001b[1;33m\u001b[0m\u001b[0m\n\u001b[0;32m      3\u001b[0m \u001b[1;32mfrom\u001b[0m \u001b[0mIPython\u001b[0m\u001b[1;33m.\u001b[0m\u001b[0mdisplay\u001b[0m \u001b[1;32mimport\u001b[0m \u001b[0mImage\u001b[0m\u001b[1;33m\u001b[0m\u001b[1;33m\u001b[0m\u001b[0m\n\u001b[0;32m      4\u001b[0m \u001b[0mImage\u001b[0m\u001b[1;33m(\u001b[0m\u001b[0mimg_bytes\u001b[0m\u001b[1;33m)\u001b[0m\u001b[1;33m\u001b[0m\u001b[1;33m\u001b[0m\u001b[0m\n",
      "\u001b[1;32m~\\AppData\\Local\\Packages\\PythonSoftwareFoundation.Python.3.8_qbz5n2kfra8p0\\LocalCache\\local-packages\\Python38\\site-packages\\plotly\\basedatatypes.py\u001b[0m in \u001b[0;36mwrite_image\u001b[1;34m(self, *args, **kwargs)\u001b[0m\n\u001b[0;32m   2822\u001b[0m         \u001b[1;32mimport\u001b[0m \u001b[0mplotly\u001b[0m\u001b[1;33m.\u001b[0m\u001b[0mio\u001b[0m \u001b[1;32mas\u001b[0m \u001b[0mpio\u001b[0m\u001b[1;33m\u001b[0m\u001b[1;33m\u001b[0m\u001b[0m\n\u001b[0;32m   2823\u001b[0m \u001b[1;33m\u001b[0m\u001b[0m\n\u001b[1;32m-> 2824\u001b[1;33m         \u001b[1;32mreturn\u001b[0m \u001b[0mpio\u001b[0m\u001b[1;33m.\u001b[0m\u001b[0mwrite_image\u001b[0m\u001b[1;33m(\u001b[0m\u001b[0mself\u001b[0m\u001b[1;33m,\u001b[0m \u001b[1;33m*\u001b[0m\u001b[0margs\u001b[0m\u001b[1;33m,\u001b[0m \u001b[1;33m**\u001b[0m\u001b[0mkwargs\u001b[0m\u001b[1;33m)\u001b[0m\u001b[1;33m\u001b[0m\u001b[1;33m\u001b[0m\u001b[0m\n\u001b[0m\u001b[0;32m   2825\u001b[0m \u001b[1;33m\u001b[0m\u001b[0m\n\u001b[0;32m   2826\u001b[0m     \u001b[1;31m# Static helpers\u001b[0m\u001b[1;33m\u001b[0m\u001b[1;33m\u001b[0m\u001b[1;33m\u001b[0m\u001b[0m\n",
      "\u001b[1;32m~\\AppData\\Local\\Packages\\PythonSoftwareFoundation.Python.3.8_qbz5n2kfra8p0\\LocalCache\\local-packages\\Python38\\site-packages\\plotly\\io\\_orca.py\u001b[0m in \u001b[0;36mwrite_image\u001b[1;34m(fig, file, format, scale, width, height, validate)\u001b[0m\n\u001b[0;32m   1767\u001b[0m     \u001b[1;31m# -------------\u001b[0m\u001b[1;33m\u001b[0m\u001b[1;33m\u001b[0m\u001b[1;33m\u001b[0m\u001b[0m\n\u001b[0;32m   1768\u001b[0m     \u001b[1;31m# Do this first so we don't create a file if image conversion fails\u001b[0m\u001b[1;33m\u001b[0m\u001b[1;33m\u001b[0m\u001b[1;33m\u001b[0m\u001b[0m\n\u001b[1;32m-> 1769\u001b[1;33m     img_data = to_image(\n\u001b[0m\u001b[0;32m   1770\u001b[0m         \u001b[0mfig\u001b[0m\u001b[1;33m,\u001b[0m \u001b[0mformat\u001b[0m\u001b[1;33m=\u001b[0m\u001b[0mformat\u001b[0m\u001b[1;33m,\u001b[0m \u001b[0mscale\u001b[0m\u001b[1;33m=\u001b[0m\u001b[0mscale\u001b[0m\u001b[1;33m,\u001b[0m \u001b[0mwidth\u001b[0m\u001b[1;33m=\u001b[0m\u001b[0mwidth\u001b[0m\u001b[1;33m,\u001b[0m \u001b[0mheight\u001b[0m\u001b[1;33m=\u001b[0m\u001b[0mheight\u001b[0m\u001b[1;33m,\u001b[0m \u001b[0mvalidate\u001b[0m\u001b[1;33m=\u001b[0m\u001b[0mvalidate\u001b[0m\u001b[1;33m\u001b[0m\u001b[1;33m\u001b[0m\u001b[0m\n\u001b[0;32m   1771\u001b[0m     )\n",
      "\u001b[1;32m~\\AppData\\Local\\Packages\\PythonSoftwareFoundation.Python.3.8_qbz5n2kfra8p0\\LocalCache\\local-packages\\Python38\\site-packages\\plotly\\io\\_orca.py\u001b[0m in \u001b[0;36mto_image\u001b[1;34m(fig, format, width, height, scale, validate)\u001b[0m\n\u001b[0;32m   1533\u001b[0m     \u001b[1;31m# Make sure orca sever is running\u001b[0m\u001b[1;33m\u001b[0m\u001b[1;33m\u001b[0m\u001b[1;33m\u001b[0m\u001b[0m\n\u001b[0;32m   1534\u001b[0m     \u001b[1;31m# -------------------------------\u001b[0m\u001b[1;33m\u001b[0m\u001b[1;33m\u001b[0m\u001b[1;33m\u001b[0m\u001b[0m\n\u001b[1;32m-> 1535\u001b[1;33m     \u001b[0mensure_server\u001b[0m\u001b[1;33m(\u001b[0m\u001b[1;33m)\u001b[0m\u001b[1;33m\u001b[0m\u001b[1;33m\u001b[0m\u001b[0m\n\u001b[0m\u001b[0;32m   1536\u001b[0m \u001b[1;33m\u001b[0m\u001b[0m\n\u001b[0;32m   1537\u001b[0m     \u001b[1;31m# Handle defaults\u001b[0m\u001b[1;33m\u001b[0m\u001b[1;33m\u001b[0m\u001b[1;33m\u001b[0m\u001b[0m\n",
      "\u001b[1;32m~\\AppData\\Local\\Packages\\PythonSoftwareFoundation.Python.3.8_qbz5n2kfra8p0\\LocalCache\\local-packages\\Python38\\site-packages\\plotly\\io\\_orca.py\u001b[0m in \u001b[0;36mensure_server\u001b[1;34m()\u001b[0m\n\u001b[0;32m   1388\u001b[0m         \u001b[1;31m# Validate orca executable only if server_url is not provided\u001b[0m\u001b[1;33m\u001b[0m\u001b[1;33m\u001b[0m\u001b[1;33m\u001b[0m\u001b[0m\n\u001b[0;32m   1389\u001b[0m         \u001b[1;32mif\u001b[0m \u001b[0mstatus\u001b[0m\u001b[1;33m.\u001b[0m\u001b[0mstate\u001b[0m \u001b[1;33m==\u001b[0m \u001b[1;34m\"unvalidated\"\u001b[0m\u001b[1;33m:\u001b[0m\u001b[1;33m\u001b[0m\u001b[1;33m\u001b[0m\u001b[0m\n\u001b[1;32m-> 1390\u001b[1;33m             \u001b[0mvalidate_executable\u001b[0m\u001b[1;33m(\u001b[0m\u001b[1;33m)\u001b[0m\u001b[1;33m\u001b[0m\u001b[1;33m\u001b[0m\u001b[0m\n\u001b[0m\u001b[0;32m   1391\u001b[0m         \u001b[1;31m# Acquire lock to make sure that we keep the properties of orca_state\u001b[0m\u001b[1;33m\u001b[0m\u001b[1;33m\u001b[0m\u001b[1;33m\u001b[0m\u001b[0m\n\u001b[0;32m   1392\u001b[0m         \u001b[1;31m# consistent across threads\u001b[0m\u001b[1;33m\u001b[0m\u001b[1;33m\u001b[0m\u001b[1;33m\u001b[0m\u001b[0m\n",
      "\u001b[1;32m~\\AppData\\Local\\Packages\\PythonSoftwareFoundation.Python.3.8_qbz5n2kfra8p0\\LocalCache\\local-packages\\Python38\\site-packages\\plotly\\io\\_orca.py\u001b[0m in \u001b[0;36mvalidate_executable\u001b[1;34m()\u001b[0m\n\u001b[0;32m   1074\u001b[0m \u001b[1;33m\u001b[0m\u001b[0m\n\u001b[0;32m   1075\u001b[0m     \u001b[1;32mif\u001b[0m \u001b[0mexecutable\u001b[0m \u001b[1;32mis\u001b[0m \u001b[1;32mNone\u001b[0m\u001b[1;33m:\u001b[0m\u001b[1;33m\u001b[0m\u001b[1;33m\u001b[0m\u001b[0m\n\u001b[1;32m-> 1076\u001b[1;33m         raise ValueError(\n\u001b[0m\u001b[0;32m   1077\u001b[0m             \"\"\"\n\u001b[0;32m   1078\u001b[0m \u001b[0mThe\u001b[0m \u001b[0morca\u001b[0m \u001b[0mexecutable\u001b[0m \u001b[1;32mis\u001b[0m \u001b[0mrequired\u001b[0m \u001b[0mto\u001b[0m \u001b[0mexport\u001b[0m \u001b[0mfigures\u001b[0m \u001b[1;32mas\u001b[0m \u001b[0mstatic\u001b[0m \u001b[0mimages\u001b[0m\u001b[1;33m,\u001b[0m\u001b[1;33m\u001b[0m\u001b[1;33m\u001b[0m\u001b[0m\n",
      "\u001b[1;31mValueError\u001b[0m: \nThe orca executable is required to export figures as static images,\nbut it could not be found on the system path.\n\nSearched for executable 'orca' on the following path:\n    C:\\Program Files (x86)\\Common Files\\Intel\\Shared Libraries\\redist\\intel64\\compiler\n    C:\\Windows\\system32\n    C:\\Windows\n    C:\\Windows\\System32\\Wbem\n    C:\\Windows\\System32\\WindowsPowerShell\\v1.0\\\n    C:\\Windows\\System32\\OpenSSH\\\n    C:\\Program Files\\NVIDIA Corporation\\NVIDIA NvDLISR\n    C:\\Program Files (x86)\\NVIDIA Corporation\\PhysX\\Common\n    C:\\Users\\novic\\Anaconda3\\Scripts\n    C:\\Users\\novic\\Anaconda3\n    C:\\Users\\novic\\AppData\\Local\\Microsoft\\WindowsApps\n    C:\\Users\\novic\\AppData\\Local\\GitHubDesktop\\bin\n    C:\\Program Files\\JetBrains\\PyCharm Community Edition 2020.1\\bin\n    \n    C:\\Users\\novic\\AppData\\Local\\Programs\\Microsoft VS Code\\bin\n\nIf you haven't installed orca yet, you can do so using conda as follows:\n\n    $ conda install -c plotly plotly-orca\n\nAlternatively, see other installation methods in the orca project README at\nhttps://github.com/plotly/orca\n\nAfter installation is complete, no further configuration should be needed.\n\nIf you have installed orca, then for some reason plotly.py was unable to\nlocate it. In this case, set the `plotly.io.orca.config.executable`\nproperty to the full path of your orca executable. For example:\n\n    >>> plotly.io.orca.config.executable = '/path/to/orca'\n\nAfter updating this executable property, try the export operation again.\nIf it is successful then you may want to save this configuration so that it\nwill be applied automatically in future sessions. You can do this as follows:\n\n    >>> plotly.io.orca.config.save()\n\nIf you're still having trouble, feel free to ask for help on the forums at\nhttps://community.plot.ly/c/api/python\n"
     ]
    }
   ],
   "source": [
    "fig.write_image(\"images/covid19-Confirmedanddeath.png\", scale = 5)\n",
    "img_bytes = fig.to_image(format=\"png\")\n",
    "from IPython.display import Image\n",
    "Image(img_bytes)"
   ]
  },
  {
   "cell_type": "code",
   "execution_count": null,
   "metadata": {},
   "outputs": [],
   "source": []
  }
 ],
 "metadata": {
  "kernelspec": {
   "display_name": "Python 3",
   "language": "python",
   "name": "python3"
  },
  "language_info": {
   "codemirror_mode": {
    "name": "ipython",
    "version": 3
   },
   "file_extension": ".py",
   "mimetype": "text/x-python",
   "name": "python",
   "nbconvert_exporter": "python",
   "pygments_lexer": "ipython3",
   "version": "3.8.2-final"
  }
 },
 "nbformat": 4,
 "nbformat_minor": 2
}