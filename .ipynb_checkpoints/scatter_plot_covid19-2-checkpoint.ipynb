{
 "cells": [
  {
   "cell_type": "code",
   "execution_count": 1,
   "metadata": {},
   "outputs": [],
   "source": [
    "import numpy as np \n",
    "import pandas as pd\n",
    "import plotly.graph_objects as go\n",
    "import datetime\n",
    "from datetime import timedelta\n",
    "import requests"
   ]
  },
  {
   "cell_type": "code",
   "execution_count": 2,
   "metadata": {},
   "outputs": [
    {
     "name": "stdout",
     "output_type": "stream",
     "text": [
      "04-09-2020\n",
      "04-08-2020\n"
     ]
    }
   ],
   "source": [
    "today = pd.to_datetime('today').strftime(\"%m-%d-%Y\")\n",
    "daybefore = (datetime.date.today() - timedelta(days=1)).strftime(\"%m-%d-%Y\")\n",
    "print(today)\n",
    "print(daybefore)"
   ]
  },
  {
   "cell_type": "code",
   "execution_count": 3,
   "metadata": {},
   "outputs": [
    {
     "name": "stdout",
     "output_type": "stream",
     "text": [
      "https://raw.githubusercontent.com/CSSEGISandData/COVID-19/master/csse_covid_19_data/csse_covid_19_daily_reports/04-09-2020.csv\n",
      "https://raw.githubusercontent.com/CSSEGISandData/COVID-19/master/csse_covid_19_data/csse_covid_19_daily_reports/04-08-2020.csv\n"
     ]
    }
   ],
   "source": [
    "url_today='https://raw.githubusercontent.com/CSSEGISandData/COVID-19/master/csse_covid_19_data/csse_covid_19_daily_reports/' + today + '.csv'\n",
    "url_daybefore='https://raw.githubusercontent.com/CSSEGISandData/COVID-19/master/csse_covid_19_data/csse_covid_19_daily_reports/' + daybefore + '.csv'\n",
    "print(url_today)\n",
    "print(url_daybefore)"
   ]
  },
  {
   "cell_type": "code",
   "execution_count": 4,
   "metadata": {},
   "outputs": [
    {
     "name": "stdout",
     "output_type": "stream",
     "text": [
      "https://raw.githubusercontent.com/CSSEGISandData/COVID-19/master/csse_covid_19_data/csse_covid_19_daily_reports/04-08-2020.csv\n"
     ]
    }
   ],
   "source": [
    "request = requests.get(url_today)\n",
    "if request.status_code == 200:\n",
    "    url = url_today\n",
    "else:\n",
    "    url = url_daybefore\n",
    "    \n",
    "print(url) "
   ]
  },
  {
   "cell_type": "code",
   "execution_count": 5,
   "metadata": {},
   "outputs": [
    {
     "data": {
      "text/html": [
       "<div>\n",
       "<style scoped>\n",
       "    .dataframe tbody tr th:only-of-type {\n",
       "        vertical-align: middle;\n",
       "    }\n",
       "\n",
       "    .dataframe tbody tr th {\n",
       "        vertical-align: top;\n",
       "    }\n",
       "\n",
       "    .dataframe thead th {\n",
       "        text-align: right;\n",
       "    }\n",
       "</style>\n",
       "<table border=\"1\" class=\"dataframe\">\n",
       "  <thead>\n",
       "    <tr style=\"text-align: right;\">\n",
       "      <th></th>\n",
       "      <th>FIPS</th>\n",
       "      <th>Admin2</th>\n",
       "      <th>Province_State</th>\n",
       "      <th>Country_Region</th>\n",
       "      <th>Last_Update</th>\n",
       "      <th>Lat</th>\n",
       "      <th>Long_</th>\n",
       "      <th>Confirmed</th>\n",
       "      <th>Deaths</th>\n",
       "      <th>Recovered</th>\n",
       "      <th>Active</th>\n",
       "      <th>Combined_Key</th>\n",
       "    </tr>\n",
       "  </thead>\n",
       "  <tbody>\n",
       "    <tr>\n",
       "      <td>0</td>\n",
       "      <td>45001.0</td>\n",
       "      <td>Abbeville</td>\n",
       "      <td>South Carolina</td>\n",
       "      <td>US</td>\n",
       "      <td>2020-04-08 22:51:58</td>\n",
       "      <td>34.223334</td>\n",
       "      <td>-82.461707</td>\n",
       "      <td>5</td>\n",
       "      <td>0</td>\n",
       "      <td>0</td>\n",
       "      <td>0</td>\n",
       "      <td>Abbeville, South Carolina, US</td>\n",
       "    </tr>\n",
       "    <tr>\n",
       "      <td>1</td>\n",
       "      <td>22001.0</td>\n",
       "      <td>Acadia</td>\n",
       "      <td>Louisiana</td>\n",
       "      <td>US</td>\n",
       "      <td>2020-04-08 22:51:58</td>\n",
       "      <td>30.295065</td>\n",
       "      <td>-92.414197</td>\n",
       "      <td>86</td>\n",
       "      <td>2</td>\n",
       "      <td>0</td>\n",
       "      <td>0</td>\n",
       "      <td>Acadia, Louisiana, US</td>\n",
       "    </tr>\n",
       "    <tr>\n",
       "      <td>2</td>\n",
       "      <td>51001.0</td>\n",
       "      <td>Accomack</td>\n",
       "      <td>Virginia</td>\n",
       "      <td>US</td>\n",
       "      <td>2020-04-08 22:51:58</td>\n",
       "      <td>37.767072</td>\n",
       "      <td>-75.632346</td>\n",
       "      <td>11</td>\n",
       "      <td>0</td>\n",
       "      <td>0</td>\n",
       "      <td>0</td>\n",
       "      <td>Accomack, Virginia, US</td>\n",
       "    </tr>\n",
       "    <tr>\n",
       "      <td>3</td>\n",
       "      <td>16001.0</td>\n",
       "      <td>Ada</td>\n",
       "      <td>Idaho</td>\n",
       "      <td>US</td>\n",
       "      <td>2020-04-08 22:51:58</td>\n",
       "      <td>43.452658</td>\n",
       "      <td>-116.241552</td>\n",
       "      <td>438</td>\n",
       "      <td>3</td>\n",
       "      <td>0</td>\n",
       "      <td>0</td>\n",
       "      <td>Ada, Idaho, US</td>\n",
       "    </tr>\n",
       "    <tr>\n",
       "      <td>4</td>\n",
       "      <td>19001.0</td>\n",
       "      <td>Adair</td>\n",
       "      <td>Iowa</td>\n",
       "      <td>US</td>\n",
       "      <td>2020-04-08 22:51:58</td>\n",
       "      <td>41.330756</td>\n",
       "      <td>-94.471059</td>\n",
       "      <td>1</td>\n",
       "      <td>0</td>\n",
       "      <td>0</td>\n",
       "      <td>0</td>\n",
       "      <td>Adair, Iowa, US</td>\n",
       "    </tr>\n",
       "    <tr>\n",
       "      <td>...</td>\n",
       "      <td>...</td>\n",
       "      <td>...</td>\n",
       "      <td>...</td>\n",
       "      <td>...</td>\n",
       "      <td>...</td>\n",
       "      <td>...</td>\n",
       "      <td>...</td>\n",
       "      <td>...</td>\n",
       "      <td>...</td>\n",
       "      <td>...</td>\n",
       "      <td>...</td>\n",
       "      <td>...</td>\n",
       "    </tr>\n",
       "    <tr>\n",
       "      <td>2878</td>\n",
       "      <td>NaN</td>\n",
       "      <td>NaN</td>\n",
       "      <td>NaN</td>\n",
       "      <td>Vietnam</td>\n",
       "      <td>2020-04-08 22:51:39</td>\n",
       "      <td>14.058324</td>\n",
       "      <td>108.277199</td>\n",
       "      <td>251</td>\n",
       "      <td>0</td>\n",
       "      <td>126</td>\n",
       "      <td>125</td>\n",
       "      <td>Vietnam</td>\n",
       "    </tr>\n",
       "    <tr>\n",
       "      <td>2879</td>\n",
       "      <td>NaN</td>\n",
       "      <td>NaN</td>\n",
       "      <td>NaN</td>\n",
       "      <td>West Bank and Gaza</td>\n",
       "      <td>2020-04-08 22:51:39</td>\n",
       "      <td>31.952200</td>\n",
       "      <td>35.233200</td>\n",
       "      <td>263</td>\n",
       "      <td>1</td>\n",
       "      <td>44</td>\n",
       "      <td>218</td>\n",
       "      <td>West Bank and Gaza</td>\n",
       "    </tr>\n",
       "    <tr>\n",
       "      <td>2880</td>\n",
       "      <td>NaN</td>\n",
       "      <td>NaN</td>\n",
       "      <td>NaN</td>\n",
       "      <td>Western Sahara</td>\n",
       "      <td>2020-04-08 22:51:39</td>\n",
       "      <td>24.215500</td>\n",
       "      <td>-12.885800</td>\n",
       "      <td>4</td>\n",
       "      <td>0</td>\n",
       "      <td>0</td>\n",
       "      <td>4</td>\n",
       "      <td>,,Western Sahara</td>\n",
       "    </tr>\n",
       "    <tr>\n",
       "      <td>2881</td>\n",
       "      <td>NaN</td>\n",
       "      <td>NaN</td>\n",
       "      <td>NaN</td>\n",
       "      <td>Zambia</td>\n",
       "      <td>2020-04-08 22:51:39</td>\n",
       "      <td>-13.133897</td>\n",
       "      <td>27.849332</td>\n",
       "      <td>39</td>\n",
       "      <td>1</td>\n",
       "      <td>7</td>\n",
       "      <td>31</td>\n",
       "      <td>Zambia</td>\n",
       "    </tr>\n",
       "    <tr>\n",
       "      <td>2882</td>\n",
       "      <td>NaN</td>\n",
       "      <td>NaN</td>\n",
       "      <td>NaN</td>\n",
       "      <td>Zimbabwe</td>\n",
       "      <td>2020-04-08 22:51:39</td>\n",
       "      <td>-19.015438</td>\n",
       "      <td>29.154857</td>\n",
       "      <td>11</td>\n",
       "      <td>3</td>\n",
       "      <td>0</td>\n",
       "      <td>8</td>\n",
       "      <td>Zimbabwe</td>\n",
       "    </tr>\n",
       "  </tbody>\n",
       "</table>\n",
       "<p>2883 rows × 12 columns</p>\n",
       "</div>"
      ],
      "text/plain": [
       "         FIPS     Admin2  Province_State      Country_Region  \\\n",
       "0     45001.0  Abbeville  South Carolina                  US   \n",
       "1     22001.0     Acadia       Louisiana                  US   \n",
       "2     51001.0   Accomack        Virginia                  US   \n",
       "3     16001.0        Ada           Idaho                  US   \n",
       "4     19001.0      Adair            Iowa                  US   \n",
       "...       ...        ...             ...                 ...   \n",
       "2878      NaN        NaN             NaN             Vietnam   \n",
       "2879      NaN        NaN             NaN  West Bank and Gaza   \n",
       "2880      NaN        NaN             NaN      Western Sahara   \n",
       "2881      NaN        NaN             NaN              Zambia   \n",
       "2882      NaN        NaN             NaN            Zimbabwe   \n",
       "\n",
       "              Last_Update        Lat       Long_  Confirmed  Deaths  \\\n",
       "0     2020-04-08 22:51:58  34.223334  -82.461707          5       0   \n",
       "1     2020-04-08 22:51:58  30.295065  -92.414197         86       2   \n",
       "2     2020-04-08 22:51:58  37.767072  -75.632346         11       0   \n",
       "3     2020-04-08 22:51:58  43.452658 -116.241552        438       3   \n",
       "4     2020-04-08 22:51:58  41.330756  -94.471059          1       0   \n",
       "...                   ...        ...         ...        ...     ...   \n",
       "2878  2020-04-08 22:51:39  14.058324  108.277199        251       0   \n",
       "2879  2020-04-08 22:51:39  31.952200   35.233200        263       1   \n",
       "2880  2020-04-08 22:51:39  24.215500  -12.885800          4       0   \n",
       "2881  2020-04-08 22:51:39 -13.133897   27.849332         39       1   \n",
       "2882  2020-04-08 22:51:39 -19.015438   29.154857         11       3   \n",
       "\n",
       "      Recovered  Active                   Combined_Key  \n",
       "0             0       0  Abbeville, South Carolina, US  \n",
       "1             0       0          Acadia, Louisiana, US  \n",
       "2             0       0         Accomack, Virginia, US  \n",
       "3             0       0                 Ada, Idaho, US  \n",
       "4             0       0                Adair, Iowa, US  \n",
       "...         ...     ...                            ...  \n",
       "2878        126     125                        Vietnam  \n",
       "2879         44     218             West Bank and Gaza  \n",
       "2880          0       4               ,,Western Sahara  \n",
       "2881          7      31                         Zambia  \n",
       "2882          0       8                       Zimbabwe  \n",
       "\n",
       "[2883 rows x 12 columns]"
      ]
     },
     "execution_count": 5,
     "metadata": {},
     "output_type": "execute_result"
    }
   ],
   "source": [
    "world = pd.read_csv(url)\n",
    "world"
   ]
  },
  {
   "cell_type": "code",
   "execution_count": 6,
   "metadata": {},
   "outputs": [
    {
     "data": {
      "text/html": [
       "<div>\n",
       "<style scoped>\n",
       "    .dataframe tbody tr th:only-of-type {\n",
       "        vertical-align: middle;\n",
       "    }\n",
       "\n",
       "    .dataframe tbody tr th {\n",
       "        vertical-align: top;\n",
       "    }\n",
       "\n",
       "    .dataframe thead th {\n",
       "        text-align: right;\n",
       "    }\n",
       "</style>\n",
       "<table border=\"1\" class=\"dataframe\">\n",
       "  <thead>\n",
       "    <tr style=\"text-align: right;\">\n",
       "      <th></th>\n",
       "      <th>Confirmed</th>\n",
       "      <th>Deaths</th>\n",
       "      <th>Recovered</th>\n",
       "      <th>Active</th>\n",
       "    </tr>\n",
       "    <tr>\n",
       "      <th>Country_Region</th>\n",
       "      <th></th>\n",
       "      <th></th>\n",
       "      <th></th>\n",
       "      <th></th>\n",
       "    </tr>\n",
       "  </thead>\n",
       "  <tbody>\n",
       "    <tr>\n",
       "      <td>US</td>\n",
       "      <td>429052</td>\n",
       "      <td>14695</td>\n",
       "      <td>23559</td>\n",
       "      <td>0</td>\n",
       "    </tr>\n",
       "    <tr>\n",
       "      <td>Spain</td>\n",
       "      <td>148220</td>\n",
       "      <td>14792</td>\n",
       "      <td>48021</td>\n",
       "      <td>85407</td>\n",
       "    </tr>\n",
       "    <tr>\n",
       "      <td>Italy</td>\n",
       "      <td>139422</td>\n",
       "      <td>17669</td>\n",
       "      <td>26491</td>\n",
       "      <td>95262</td>\n",
       "    </tr>\n",
       "    <tr>\n",
       "      <td>France</td>\n",
       "      <td>113959</td>\n",
       "      <td>10887</td>\n",
       "      <td>21452</td>\n",
       "      <td>81620</td>\n",
       "    </tr>\n",
       "    <tr>\n",
       "      <td>Germany</td>\n",
       "      <td>113296</td>\n",
       "      <td>2349</td>\n",
       "      <td>46300</td>\n",
       "      <td>64647</td>\n",
       "    </tr>\n",
       "    <tr>\n",
       "      <td>...</td>\n",
       "      <td>...</td>\n",
       "      <td>...</td>\n",
       "      <td>...</td>\n",
       "      <td>...</td>\n",
       "    </tr>\n",
       "    <tr>\n",
       "      <td>Sao Tome and Principe</td>\n",
       "      <td>4</td>\n",
       "      <td>0</td>\n",
       "      <td>0</td>\n",
       "      <td>4</td>\n",
       "    </tr>\n",
       "    <tr>\n",
       "      <td>Burundi</td>\n",
       "      <td>3</td>\n",
       "      <td>0</td>\n",
       "      <td>0</td>\n",
       "      <td>3</td>\n",
       "    </tr>\n",
       "    <tr>\n",
       "      <td>Papua New Guinea</td>\n",
       "      <td>2</td>\n",
       "      <td>0</td>\n",
       "      <td>0</td>\n",
       "      <td>2</td>\n",
       "    </tr>\n",
       "    <tr>\n",
       "      <td>South Sudan</td>\n",
       "      <td>2</td>\n",
       "      <td>0</td>\n",
       "      <td>0</td>\n",
       "      <td>2</td>\n",
       "    </tr>\n",
       "    <tr>\n",
       "      <td>Timor-Leste</td>\n",
       "      <td>1</td>\n",
       "      <td>0</td>\n",
       "      <td>0</td>\n",
       "      <td>1</td>\n",
       "    </tr>\n",
       "  </tbody>\n",
       "</table>\n",
       "<p>184 rows × 4 columns</p>\n",
       "</div>"
      ],
      "text/plain": [
       "                       Confirmed  Deaths  Recovered  Active\n",
       "Country_Region                                             \n",
       "US                        429052   14695      23559       0\n",
       "Spain                     148220   14792      48021   85407\n",
       "Italy                     139422   17669      26491   95262\n",
       "France                    113959   10887      21452   81620\n",
       "Germany                   113296    2349      46300   64647\n",
       "...                          ...     ...        ...     ...\n",
       "Sao Tome and Principe          4       0          0       4\n",
       "Burundi                        3       0          0       3\n",
       "Papua New Guinea               2       0          0       2\n",
       "South Sudan                    2       0          0       2\n",
       "Timor-Leste                    1       0          0       1\n",
       "\n",
       "[184 rows x 4 columns]"
      ]
     },
     "execution_count": 6,
     "metadata": {},
     "output_type": "execute_result"
    }
   ],
   "source": [
    "data = world.groupby('Country_Region')['Confirmed','Deaths','Recovered','Active'].sum().sort_values(by=['Confirmed'], ascending=False)\n",
    "data"
   ]
  },
  {
   "cell_type": "code",
   "execution_count": 12,
   "metadata": {},
   "outputs": [
    {
     "data": {
      "text/html": [
       "<div>\n",
       "<style scoped>\n",
       "    .dataframe tbody tr th:only-of-type {\n",
       "        vertical-align: middle;\n",
       "    }\n",
       "\n",
       "    .dataframe tbody tr th {\n",
       "        vertical-align: top;\n",
       "    }\n",
       "\n",
       "    .dataframe thead th {\n",
       "        text-align: right;\n",
       "    }\n",
       "</style>\n",
       "<table border=\"1\" class=\"dataframe\">\n",
       "  <thead>\n",
       "    <tr style=\"text-align: right;\">\n",
       "      <th></th>\n",
       "      <th>Confirmed</th>\n",
       "      <th>Deaths</th>\n",
       "      <th>Recovered</th>\n",
       "      <th>Active</th>\n",
       "    </tr>\n",
       "    <tr>\n",
       "      <th>Country_Region</th>\n",
       "      <th></th>\n",
       "      <th></th>\n",
       "      <th></th>\n",
       "      <th></th>\n",
       "    </tr>\n",
       "  </thead>\n",
       "  <tbody>\n",
       "    <tr>\n",
       "      <td>US</td>\n",
       "      <td>429052</td>\n",
       "      <td>14695</td>\n",
       "      <td>23559</td>\n",
       "      <td>0</td>\n",
       "    </tr>\n",
       "    <tr>\n",
       "      <td>Spain</td>\n",
       "      <td>148220</td>\n",
       "      <td>14792</td>\n",
       "      <td>48021</td>\n",
       "      <td>85407</td>\n",
       "    </tr>\n",
       "    <tr>\n",
       "      <td>Italy</td>\n",
       "      <td>139422</td>\n",
       "      <td>17669</td>\n",
       "      <td>26491</td>\n",
       "      <td>95262</td>\n",
       "    </tr>\n",
       "    <tr>\n",
       "      <td>France</td>\n",
       "      <td>113959</td>\n",
       "      <td>10887</td>\n",
       "      <td>21452</td>\n",
       "      <td>81620</td>\n",
       "    </tr>\n",
       "    <tr>\n",
       "      <td>Germany</td>\n",
       "      <td>113296</td>\n",
       "      <td>2349</td>\n",
       "      <td>46300</td>\n",
       "      <td>64647</td>\n",
       "    </tr>\n",
       "    <tr>\n",
       "      <td>China</td>\n",
       "      <td>82809</td>\n",
       "      <td>3337</td>\n",
       "      <td>77567</td>\n",
       "      <td>1905</td>\n",
       "    </tr>\n",
       "    <tr>\n",
       "      <td>Iran</td>\n",
       "      <td>64586</td>\n",
       "      <td>3993</td>\n",
       "      <td>29812</td>\n",
       "      <td>30781</td>\n",
       "    </tr>\n",
       "    <tr>\n",
       "      <td>United Kingdom</td>\n",
       "      <td>61474</td>\n",
       "      <td>7111</td>\n",
       "      <td>345</td>\n",
       "      <td>54018</td>\n",
       "    </tr>\n",
       "    <tr>\n",
       "      <td>Turkey</td>\n",
       "      <td>38226</td>\n",
       "      <td>812</td>\n",
       "      <td>1846</td>\n",
       "      <td>35568</td>\n",
       "    </tr>\n",
       "    <tr>\n",
       "      <td>Belgium</td>\n",
       "      <td>23403</td>\n",
       "      <td>2240</td>\n",
       "      <td>4681</td>\n",
       "      <td>16482</td>\n",
       "    </tr>\n",
       "    <tr>\n",
       "      <td>Switzerland</td>\n",
       "      <td>23280</td>\n",
       "      <td>895</td>\n",
       "      <td>9800</td>\n",
       "      <td>12585</td>\n",
       "    </tr>\n",
       "    <tr>\n",
       "      <td>Netherlands</td>\n",
       "      <td>20682</td>\n",
       "      <td>2255</td>\n",
       "      <td>272</td>\n",
       "      <td>18155</td>\n",
       "    </tr>\n",
       "    <tr>\n",
       "      <td>Canada</td>\n",
       "      <td>19141</td>\n",
       "      <td>407</td>\n",
       "      <td>4154</td>\n",
       "      <td>0</td>\n",
       "    </tr>\n",
       "    <tr>\n",
       "      <td>Brazil</td>\n",
       "      <td>16170</td>\n",
       "      <td>819</td>\n",
       "      <td>127</td>\n",
       "      <td>15224</td>\n",
       "    </tr>\n",
       "    <tr>\n",
       "      <td>Portugal</td>\n",
       "      <td>13141</td>\n",
       "      <td>380</td>\n",
       "      <td>196</td>\n",
       "      <td>12565</td>\n",
       "    </tr>\n",
       "    <tr>\n",
       "      <td>Austria</td>\n",
       "      <td>12942</td>\n",
       "      <td>273</td>\n",
       "      <td>4512</td>\n",
       "      <td>8157</td>\n",
       "    </tr>\n",
       "    <tr>\n",
       "      <td>Korea, South</td>\n",
       "      <td>10384</td>\n",
       "      <td>200</td>\n",
       "      <td>6776</td>\n",
       "      <td>3408</td>\n",
       "    </tr>\n",
       "    <tr>\n",
       "      <td>Israel</td>\n",
       "      <td>9404</td>\n",
       "      <td>73</td>\n",
       "      <td>801</td>\n",
       "      <td>8530</td>\n",
       "    </tr>\n",
       "    <tr>\n",
       "      <td>Russia</td>\n",
       "      <td>8672</td>\n",
       "      <td>63</td>\n",
       "      <td>580</td>\n",
       "      <td>8029</td>\n",
       "    </tr>\n",
       "    <tr>\n",
       "      <td>Sweden</td>\n",
       "      <td>8419</td>\n",
       "      <td>687</td>\n",
       "      <td>205</td>\n",
       "      <td>7527</td>\n",
       "    </tr>\n",
       "  </tbody>\n",
       "</table>\n",
       "</div>"
      ],
      "text/plain": [
       "                Confirmed  Deaths  Recovered  Active\n",
       "Country_Region                                      \n",
       "US                 429052   14695      23559       0\n",
       "Spain              148220   14792      48021   85407\n",
       "Italy              139422   17669      26491   95262\n",
       "France             113959   10887      21452   81620\n",
       "Germany            113296    2349      46300   64647\n",
       "China               82809    3337      77567    1905\n",
       "Iran                64586    3993      29812   30781\n",
       "United Kingdom      61474    7111        345   54018\n",
       "Turkey              38226     812       1846   35568\n",
       "Belgium             23403    2240       4681   16482\n",
       "Switzerland         23280     895       9800   12585\n",
       "Netherlands         20682    2255        272   18155\n",
       "Canada              19141     407       4154       0\n",
       "Brazil              16170     819        127   15224\n",
       "Portugal            13141     380        196   12565\n",
       "Austria             12942     273       4512    8157\n",
       "Korea, South        10384     200       6776    3408\n",
       "Israel               9404      73        801    8530\n",
       "Russia               8672      63        580    8029\n",
       "Sweden               8419     687        205    7527"
      ]
     },
     "execution_count": 12,
     "metadata": {},
     "output_type": "execute_result"
    }
   ],
   "source": [
    "top = data[:10]\n",
    "top"
   ]
  },
  {
   "cell_type": "code",
   "execution_count": 8,
   "metadata": {},
   "outputs": [
    {
     "data": {
      "text/html": [
       "<div>\n",
       "<style scoped>\n",
       "    .dataframe tbody tr th:only-of-type {\n",
       "        vertical-align: middle;\n",
       "    }\n",
       "\n",
       "    .dataframe tbody tr th {\n",
       "        vertical-align: top;\n",
       "    }\n",
       "\n",
       "    .dataframe thead th {\n",
       "        text-align: right;\n",
       "    }\n",
       "</style>\n",
       "<table border=\"1\" class=\"dataframe\">\n",
       "  <thead>\n",
       "    <tr style=\"text-align: right;\">\n",
       "      <th></th>\n",
       "      <th>Confirmed</th>\n",
       "      <th>Deaths</th>\n",
       "      <th>Recovered</th>\n",
       "      <th>Active</th>\n",
       "    </tr>\n",
       "    <tr>\n",
       "      <th>Country_Region</th>\n",
       "      <th></th>\n",
       "      <th></th>\n",
       "      <th></th>\n",
       "      <th></th>\n",
       "    </tr>\n",
       "  </thead>\n",
       "  <tbody>\n",
       "    <tr>\n",
       "      <td>Netherlands</td>\n",
       "      <td>20682</td>\n",
       "      <td>2255</td>\n",
       "      <td>272</td>\n",
       "      <td>18155</td>\n",
       "    </tr>\n",
       "    <tr>\n",
       "      <td>Canada</td>\n",
       "      <td>19141</td>\n",
       "      <td>407</td>\n",
       "      <td>4154</td>\n",
       "      <td>0</td>\n",
       "    </tr>\n",
       "    <tr>\n",
       "      <td>Brazil</td>\n",
       "      <td>16170</td>\n",
       "      <td>819</td>\n",
       "      <td>127</td>\n",
       "      <td>15224</td>\n",
       "    </tr>\n",
       "    <tr>\n",
       "      <td>Portugal</td>\n",
       "      <td>13141</td>\n",
       "      <td>380</td>\n",
       "      <td>196</td>\n",
       "      <td>12565</td>\n",
       "    </tr>\n",
       "    <tr>\n",
       "      <td>Austria</td>\n",
       "      <td>12942</td>\n",
       "      <td>273</td>\n",
       "      <td>4512</td>\n",
       "      <td>8157</td>\n",
       "    </tr>\n",
       "    <tr>\n",
       "      <td>...</td>\n",
       "      <td>...</td>\n",
       "      <td>...</td>\n",
       "      <td>...</td>\n",
       "      <td>...</td>\n",
       "    </tr>\n",
       "    <tr>\n",
       "      <td>Sao Tome and Principe</td>\n",
       "      <td>4</td>\n",
       "      <td>0</td>\n",
       "      <td>0</td>\n",
       "      <td>4</td>\n",
       "    </tr>\n",
       "    <tr>\n",
       "      <td>Burundi</td>\n",
       "      <td>3</td>\n",
       "      <td>0</td>\n",
       "      <td>0</td>\n",
       "      <td>3</td>\n",
       "    </tr>\n",
       "    <tr>\n",
       "      <td>Papua New Guinea</td>\n",
       "      <td>2</td>\n",
       "      <td>0</td>\n",
       "      <td>0</td>\n",
       "      <td>2</td>\n",
       "    </tr>\n",
       "    <tr>\n",
       "      <td>South Sudan</td>\n",
       "      <td>2</td>\n",
       "      <td>0</td>\n",
       "      <td>0</td>\n",
       "      <td>2</td>\n",
       "    </tr>\n",
       "    <tr>\n",
       "      <td>Timor-Leste</td>\n",
       "      <td>1</td>\n",
       "      <td>0</td>\n",
       "      <td>0</td>\n",
       "      <td>1</td>\n",
       "    </tr>\n",
       "  </tbody>\n",
       "</table>\n",
       "<p>173 rows × 4 columns</p>\n",
       "</div>"
      ],
      "text/plain": [
       "                       Confirmed  Deaths  Recovered  Active\n",
       "Country_Region                                             \n",
       "Netherlands                20682    2255        272   18155\n",
       "Canada                     19141     407       4154       0\n",
       "Brazil                     16170     819        127   15224\n",
       "Portugal                   13141     380        196   12565\n",
       "Austria                    12942     273       4512    8157\n",
       "...                          ...     ...        ...     ...\n",
       "Sao Tome and Principe          4       0          0       4\n",
       "Burundi                        3       0          0       3\n",
       "Papua New Guinea               2       0          0       2\n",
       "South Sudan                    2       0          0       2\n",
       "Timor-Leste                    1       0          0       1\n",
       "\n",
       "[173 rows x 4 columns]"
      ]
     },
     "execution_count": 8,
     "metadata": {},
     "output_type": "execute_result"
    }
   ],
   "source": [
    "others = data[11:]\n",
    "others"
   ]
  },
  {
   "cell_type": "code",
   "execution_count": 9,
   "metadata": {},
   "outputs": [
    {
     "data": {
      "text/html": [
       "<div>\n",
       "<style scoped>\n",
       "    .dataframe tbody tr th:only-of-type {\n",
       "        vertical-align: middle;\n",
       "    }\n",
       "\n",
       "    .dataframe tbody tr th {\n",
       "        vertical-align: top;\n",
       "    }\n",
       "\n",
       "    .dataframe thead th {\n",
       "        text-align: right;\n",
       "    }\n",
       "</style>\n",
       "<table border=\"1\" class=\"dataframe\">\n",
       "  <thead>\n",
       "    <tr style=\"text-align: right;\">\n",
       "      <th></th>\n",
       "      <th>Confirmed</th>\n",
       "      <th>Deaths</th>\n",
       "      <th>Recovered</th>\n",
       "      <th>Active</th>\n",
       "    </tr>\n",
       "  </thead>\n",
       "  <tbody>\n",
       "    <tr>\n",
       "      <td>Russia</td>\n",
       "      <td>8672</td>\n",
       "      <td>63</td>\n",
       "      <td>580</td>\n",
       "      <td>8029</td>\n",
       "    </tr>\n",
       "  </tbody>\n",
       "</table>\n",
       "</div>"
      ],
      "text/plain": [
       "        Confirmed  Deaths  Recovered  Active\n",
       "Russia       8672      63        580    8029"
      ]
     },
     "execution_count": 9,
     "metadata": {},
     "output_type": "execute_result"
    }
   ],
   "source": [
    "russia = pd.DataFrame(data.loc['Russia']).T\n",
    "russia"
   ]
  },
  {
   "cell_type": "code",
   "execution_count": 13,
   "metadata": {
    "scrolled": false
   },
   "outputs": [
    {
     "data": {
      "application/vnd.plotly.v1+json": {
       "config": {
        "plotlyServerURL": "https://plot.ly"
       },
       "data": [
        {
         "marker": {
          "color": "rgba(255,0,0,1)"
         },
         "mode": "markers+text",
         "name": "Top-10",
         "text": [
          "US",
          "Spain",
          "Italy",
          "France",
          "Germany",
          "China",
          "Iran",
          "United Kingdom",
          "Turkey",
          "Belgium",
          "Switzerland",
          "Netherlands",
          "Canada",
          "Brazil",
          "Portugal",
          "Austria",
          "Korea, South",
          "Israel",
          "Russia",
          "Sweden"
         ],
         "textposition": "middle right",
         "type": "scatter",
         "x": [
          14695,
          14792,
          17669,
          10887,
          2349,
          3337,
          3993,
          7111,
          812,
          2240,
          895,
          2255,
          407,
          819,
          380,
          273,
          200,
          73,
          63,
          687
         ],
         "y": [
          23559,
          48021,
          26491,
          21452,
          46300,
          77567,
          29812,
          345,
          1846,
          4681,
          9800,
          272,
          4154,
          127,
          196,
          4512,
          6776,
          801,
          580,
          205
         ]
        },
        {
         "marker": {
          "color": "rgba(100,100,100,.2)"
         },
         "mode": "markers",
         "name": "Other world",
         "text": [
          "Netherlands",
          "Canada",
          "Brazil",
          "Portugal",
          "Austria",
          "Korea, South",
          "Israel",
          "Russia",
          "Sweden",
          "Norway",
          "Ireland",
          "Australia",
          "India",
          "Denmark",
          "Chile",
          "Czechia",
          "Poland",
          "Romania",
          "Ecuador",
          "Peru",
          "Pakistan",
          "Japan",
          "Malaysia",
          "Philippines",
          "Luxembourg",
          "Indonesia",
          "Saudi Arabia",
          "Mexico",
          "Serbia",
          "United Arab Emirates",
          "Finland",
          "Thailand",
          "Panama",
          "Qatar",
          "Dominican Republic",
          "Colombia",
          "Greece",
          "South Africa",
          "Argentina",
          "Ukraine",
          "Singapore",
          "Iceland",
          "Algeria",
          "Egypt",
          "Croatia",
          "Morocco",
          "New Zealand",
          "Iraq",
          "Estonia",
          "Moldova",
          "Slovenia",
          "Belarus",
          "Lithuania",
          "Hungary",
          "Armenia",
          "Kuwait",
          "Bahrain",
          "Azerbaijan",
          "Bosnia and Herzegovina",
          "Cameroon",
          "Kazakhstan",
          "Diamond Princess",
          "Slovakia",
          "Tunisia",
          "North Macedonia",
          "Bulgaria",
          "Latvia",
          "Lebanon",
          "Andorra",
          "Uzbekistan",
          "Cyprus",
          "Costa Rica",
          "Cuba",
          "Afghanistan",
          "Uruguay",
          "Oman",
          "Burkina Faso",
          "Albania",
          "Cote d'Ivoire",
          "Taiwan*",
          "Jordan",
          "Niger",
          "Ghana",
          "Honduras",
          "Malta",
          "San Marino",
          "Nigeria",
          "Mauritius",
          "Kyrgyzstan",
          "West Bank and Gaza",
          "Vietnam",
          "Montenegro",
          "Senegal",
          "Bangladesh",
          "Georgia",
          "Bolivia",
          "Sri Lanka",
          "Kosovo",
          "Congo (Kinshasa)",
          "Kenya",
          "Venezuela",
          "Guinea",
          "Djibouti",
          "Brunei",
          "Paraguay",
          "Cambodia",
          "Rwanda",
          "Trinidad and Tobago",
          "Madagascar",
          "El Salvador",
          "Guatemala",
          "Monaco",
          "Liechtenstein",
          "Togo",
          "Barbados",
          "Jamaica",
          "Mali",
          "Ethiopia",
          "Uganda",
          "Congo (Brazzaville)",
          "Bahamas",
          "Zambia",
          "Guyana",
          "Gabon",
          "Guinea-Bissau",
          "Eritrea",
          "Liberia",
          "Haiti",
          "Benin",
          "Tanzania",
          "Burma",
          "Libya",
          "Syria",
          "Maldives",
          "Antigua and Barbuda",
          "Angola",
          "Equatorial Guinea",
          "Mozambique",
          "Mongolia",
          "Namibia",
          "Dominica",
          "Fiji",
          "Laos",
          "Sudan",
          "Saint Lucia",
          "Somalia",
          "Grenada",
          "Eswatini",
          "Zimbabwe",
          "Seychelles",
          "Saint Kitts and Nevis",
          "Chad",
          "Suriname",
          "MS Zaandam",
          "Nepal",
          "Malawi",
          "Saint Vincent and the Grenadines",
          "Central African Republic",
          "Holy See",
          "Belize",
          "Sierra Leone",
          "Cabo Verde",
          "Nicaragua",
          "Mauritania",
          "Botswana",
          "Bhutan",
          "Western Sahara",
          "Gambia",
          "Sao Tome and Principe",
          "Burundi",
          "Papua New Guinea",
          "South Sudan",
          "Timor-Leste"
         ],
         "type": "scatter",
         "x": [
          2255,
          407,
          819,
          380,
          273,
          200,
          73,
          63,
          687,
          101,
          235,
          50,
          178,
          218,
          48,
          99,
          159,
          220,
          242,
          121,
          61,
          93,
          65,
          182,
          46,
          240,
          41,
          141,
          65,
          12,
          40,
          30,
          59,
          6,
          108,
          54,
          83,
          18,
          63,
          52,
          6,
          6,
          205,
          103,
          19,
          93,
          1,
          69,
          24,
          27,
          40,
          13,
          15,
          58,
          9,
          1,
          5,
          8,
          34,
          10,
          7,
          11,
          2,
          24,
          29,
          24,
          2,
          19,
          23,
          3,
          9,
          3,
          12,
          14,
          7,
          2,
          23,
          22,
          3,
          5,
          6,
          11,
          6,
          22,
          1,
          34,
          6,
          7,
          4,
          1,
          0,
          2,
          2,
          20,
          3,
          15,
          7,
          5,
          18,
          6,
          9,
          0,
          0,
          1,
          5,
          0,
          0,
          8,
          0,
          5,
          3,
          1,
          1,
          3,
          3,
          4,
          7,
          2,
          0,
          5,
          7,
          1,
          6,
          1,
          0,
          0,
          4,
          1,
          1,
          1,
          3,
          1,
          2,
          0,
          2,
          2,
          0,
          0,
          0,
          0,
          0,
          0,
          0,
          2,
          0,
          1,
          0,
          0,
          3,
          0,
          0,
          0,
          1,
          2,
          0,
          1,
          0,
          0,
          0,
          1,
          0,
          1,
          1,
          1,
          1,
          0,
          0,
          1,
          0,
          0,
          0,
          0,
          0
         ],
         "y": [
          272,
          4154,
          127,
          196,
          4512,
          6776,
          801,
          580,
          205,
          32,
          25,
          1080,
          506,
          1763,
          1115,
          233,
          222,
          528,
          140,
          1333,
          467,
          622,
          1487,
          96,
          500,
          222,
          631,
          633,
          0,
          239,
          300,
          888,
          16,
          178,
          50,
          123,
          269,
          95,
          358,
          35,
          406,
          633,
          237,
          305,
          179,
          97,
          282,
          452,
          72,
          40,
          120,
          77,
          8,
          94,
          114,
          111,
          477,
          63,
          79,
          60,
          54,
          619,
          16,
          25,
          35,
          42,
          16,
          62,
          52,
          30,
          52,
          29,
          27,
          29,
          150,
          72,
          134,
          154,
          48,
          61,
          150,
          28,
          34,
          6,
          16,
          40,
          44,
          19,
          33,
          44,
          126,
          4,
          113,
          33,
          50,
          2,
          44,
          30,
          9,
          9,
          65,
          5,
          25,
          91,
          15,
          63,
          7,
          1,
          11,
          9,
          17,
          4,
          55,
          23,
          8,
          10,
          16,
          4,
          0,
          2,
          5,
          7,
          8,
          1,
          0,
          0,
          3,
          0,
          5,
          5,
          0,
          8,
          4,
          13,
          0,
          2,
          3,
          1,
          4,
          3,
          1,
          0,
          0,
          2,
          1,
          1,
          0,
          7,
          0,
          0,
          0,
          2,
          3,
          0,
          1,
          0,
          1,
          0,
          2,
          0,
          0,
          1,
          0,
          2,
          0,
          2,
          0,
          2,
          0,
          0,
          0,
          0,
          0
         ]
        },
        {
         "marker": {
          "color": "rgba(255,0,0,1)"
         },
         "mode": "markers+text",
         "name": "Russia",
         "text": [
          "Russia"
         ],
         "textposition": "middle right",
         "type": "scatter",
         "x": [
          63
         ],
         "y": [
          580
         ]
        }
       ],
       "layout": {
        "font": {
         "family": "PT Sans Caption"
        },
        "height": 800,
        "template": {
         "data": {
          "bar": [
           {
            "error_x": {
             "color": "#2a3f5f"
            },
            "error_y": {
             "color": "#2a3f5f"
            },
            "marker": {
             "line": {
              "color": "white",
              "width": 0.5
             }
            },
            "type": "bar"
           }
          ],
          "barpolar": [
           {
            "marker": {
             "line": {
              "color": "white",
              "width": 0.5
             }
            },
            "type": "barpolar"
           }
          ],
          "carpet": [
           {
            "aaxis": {
             "endlinecolor": "#2a3f5f",
             "gridcolor": "#C8D4E3",
             "linecolor": "#C8D4E3",
             "minorgridcolor": "#C8D4E3",
             "startlinecolor": "#2a3f5f"
            },
            "baxis": {
             "endlinecolor": "#2a3f5f",
             "gridcolor": "#C8D4E3",
             "linecolor": "#C8D4E3",
             "minorgridcolor": "#C8D4E3",
             "startlinecolor": "#2a3f5f"
            },
            "type": "carpet"
           }
          ],
          "choropleth": [
           {
            "colorbar": {
             "outlinewidth": 0,
             "ticks": ""
            },
            "type": "choropleth"
           }
          ],
          "contour": [
           {
            "colorbar": {
             "outlinewidth": 0,
             "ticks": ""
            },
            "colorscale": [
             [
              0,
              "#0d0887"
             ],
             [
              0.1111111111111111,
              "#46039f"
             ],
             [
              0.2222222222222222,
              "#7201a8"
             ],
             [
              0.3333333333333333,
              "#9c179e"
             ],
             [
              0.4444444444444444,
              "#bd3786"
             ],
             [
              0.5555555555555556,
              "#d8576b"
             ],
             [
              0.6666666666666666,
              "#ed7953"
             ],
             [
              0.7777777777777778,
              "#fb9f3a"
             ],
             [
              0.8888888888888888,
              "#fdca26"
             ],
             [
              1,
              "#f0f921"
             ]
            ],
            "type": "contour"
           }
          ],
          "contourcarpet": [
           {
            "colorbar": {
             "outlinewidth": 0,
             "ticks": ""
            },
            "type": "contourcarpet"
           }
          ],
          "heatmap": [
           {
            "colorbar": {
             "outlinewidth": 0,
             "ticks": ""
            },
            "colorscale": [
             [
              0,
              "#0d0887"
             ],
             [
              0.1111111111111111,
              "#46039f"
             ],
             [
              0.2222222222222222,
              "#7201a8"
             ],
             [
              0.3333333333333333,
              "#9c179e"
             ],
             [
              0.4444444444444444,
              "#bd3786"
             ],
             [
              0.5555555555555556,
              "#d8576b"
             ],
             [
              0.6666666666666666,
              "#ed7953"
             ],
             [
              0.7777777777777778,
              "#fb9f3a"
             ],
             [
              0.8888888888888888,
              "#fdca26"
             ],
             [
              1,
              "#f0f921"
             ]
            ],
            "type": "heatmap"
           }
          ],
          "heatmapgl": [
           {
            "colorbar": {
             "outlinewidth": 0,
             "ticks": ""
            },
            "colorscale": [
             [
              0,
              "#0d0887"
             ],
             [
              0.1111111111111111,
              "#46039f"
             ],
             [
              0.2222222222222222,
              "#7201a8"
             ],
             [
              0.3333333333333333,
              "#9c179e"
             ],
             [
              0.4444444444444444,
              "#bd3786"
             ],
             [
              0.5555555555555556,
              "#d8576b"
             ],
             [
              0.6666666666666666,
              "#ed7953"
             ],
             [
              0.7777777777777778,
              "#fb9f3a"
             ],
             [
              0.8888888888888888,
              "#fdca26"
             ],
             [
              1,
              "#f0f921"
             ]
            ],
            "type": "heatmapgl"
           }
          ],
          "histogram": [
           {
            "marker": {
             "colorbar": {
              "outlinewidth": 0,
              "ticks": ""
             }
            },
            "type": "histogram"
           }
          ],
          "histogram2d": [
           {
            "colorbar": {
             "outlinewidth": 0,
             "ticks": ""
            },
            "colorscale": [
             [
              0,
              "#0d0887"
             ],
             [
              0.1111111111111111,
              "#46039f"
             ],
             [
              0.2222222222222222,
              "#7201a8"
             ],
             [
              0.3333333333333333,
              "#9c179e"
             ],
             [
              0.4444444444444444,
              "#bd3786"
             ],
             [
              0.5555555555555556,
              "#d8576b"
             ],
             [
              0.6666666666666666,
              "#ed7953"
             ],
             [
              0.7777777777777778,
              "#fb9f3a"
             ],
             [
              0.8888888888888888,
              "#fdca26"
             ],
             [
              1,
              "#f0f921"
             ]
            ],
            "type": "histogram2d"
           }
          ],
          "histogram2dcontour": [
           {
            "colorbar": {
             "outlinewidth": 0,
             "ticks": ""
            },
            "colorscale": [
             [
              0,
              "#0d0887"
             ],
             [
              0.1111111111111111,
              "#46039f"
             ],
             [
              0.2222222222222222,
              "#7201a8"
             ],
             [
              0.3333333333333333,
              "#9c179e"
             ],
             [
              0.4444444444444444,
              "#bd3786"
             ],
             [
              0.5555555555555556,
              "#d8576b"
             ],
             [
              0.6666666666666666,
              "#ed7953"
             ],
             [
              0.7777777777777778,
              "#fb9f3a"
             ],
             [
              0.8888888888888888,
              "#fdca26"
             ],
             [
              1,
              "#f0f921"
             ]
            ],
            "type": "histogram2dcontour"
           }
          ],
          "mesh3d": [
           {
            "colorbar": {
             "outlinewidth": 0,
             "ticks": ""
            },
            "type": "mesh3d"
           }
          ],
          "parcoords": [
           {
            "line": {
             "colorbar": {
              "outlinewidth": 0,
              "ticks": ""
             }
            },
            "type": "parcoords"
           }
          ],
          "pie": [
           {
            "automargin": true,
            "type": "pie"
           }
          ],
          "scatter": [
           {
            "marker": {
             "colorbar": {
              "outlinewidth": 0,
              "ticks": ""
             }
            },
            "type": "scatter"
           }
          ],
          "scatter3d": [
           {
            "line": {
             "colorbar": {
              "outlinewidth": 0,
              "ticks": ""
             }
            },
            "marker": {
             "colorbar": {
              "outlinewidth": 0,
              "ticks": ""
             }
            },
            "type": "scatter3d"
           }
          ],
          "scattercarpet": [
           {
            "marker": {
             "colorbar": {
              "outlinewidth": 0,
              "ticks": ""
             }
            },
            "type": "scattercarpet"
           }
          ],
          "scattergeo": [
           {
            "marker": {
             "colorbar": {
              "outlinewidth": 0,
              "ticks": ""
             }
            },
            "type": "scattergeo"
           }
          ],
          "scattergl": [
           {
            "marker": {
             "colorbar": {
              "outlinewidth": 0,
              "ticks": ""
             }
            },
            "type": "scattergl"
           }
          ],
          "scattermapbox": [
           {
            "marker": {
             "colorbar": {
              "outlinewidth": 0,
              "ticks": ""
             }
            },
            "type": "scattermapbox"
           }
          ],
          "scatterpolar": [
           {
            "marker": {
             "colorbar": {
              "outlinewidth": 0,
              "ticks": ""
             }
            },
            "type": "scatterpolar"
           }
          ],
          "scatterpolargl": [
           {
            "marker": {
             "colorbar": {
              "outlinewidth": 0,
              "ticks": ""
             }
            },
            "type": "scatterpolargl"
           }
          ],
          "scatterternary": [
           {
            "marker": {
             "colorbar": {
              "outlinewidth": 0,
              "ticks": ""
             }
            },
            "type": "scatterternary"
           }
          ],
          "surface": [
           {
            "colorbar": {
             "outlinewidth": 0,
             "ticks": ""
            },
            "colorscale": [
             [
              0,
              "#0d0887"
             ],
             [
              0.1111111111111111,
              "#46039f"
             ],
             [
              0.2222222222222222,
              "#7201a8"
             ],
             [
              0.3333333333333333,
              "#9c179e"
             ],
             [
              0.4444444444444444,
              "#bd3786"
             ],
             [
              0.5555555555555556,
              "#d8576b"
             ],
             [
              0.6666666666666666,
              "#ed7953"
             ],
             [
              0.7777777777777778,
              "#fb9f3a"
             ],
             [
              0.8888888888888888,
              "#fdca26"
             ],
             [
              1,
              "#f0f921"
             ]
            ],
            "type": "surface"
           }
          ],
          "table": [
           {
            "cells": {
             "fill": {
              "color": "#EBF0F8"
             },
             "line": {
              "color": "white"
             }
            },
            "header": {
             "fill": {
              "color": "#C8D4E3"
             },
             "line": {
              "color": "white"
             }
            },
            "type": "table"
           }
          ]
         },
         "layout": {
          "annotationdefaults": {
           "arrowcolor": "#2a3f5f",
           "arrowhead": 0,
           "arrowwidth": 1
          },
          "coloraxis": {
           "colorbar": {
            "outlinewidth": 0,
            "ticks": ""
           }
          },
          "colorscale": {
           "diverging": [
            [
             0,
             "#8e0152"
            ],
            [
             0.1,
             "#c51b7d"
            ],
            [
             0.2,
             "#de77ae"
            ],
            [
             0.3,
             "#f1b6da"
            ],
            [
             0.4,
             "#fde0ef"
            ],
            [
             0.5,
             "#f7f7f7"
            ],
            [
             0.6,
             "#e6f5d0"
            ],
            [
             0.7,
             "#b8e186"
            ],
            [
             0.8,
             "#7fbc41"
            ],
            [
             0.9,
             "#4d9221"
            ],
            [
             1,
             "#276419"
            ]
           ],
           "sequential": [
            [
             0,
             "#0d0887"
            ],
            [
             0.1111111111111111,
             "#46039f"
            ],
            [
             0.2222222222222222,
             "#7201a8"
            ],
            [
             0.3333333333333333,
             "#9c179e"
            ],
            [
             0.4444444444444444,
             "#bd3786"
            ],
            [
             0.5555555555555556,
             "#d8576b"
            ],
            [
             0.6666666666666666,
             "#ed7953"
            ],
            [
             0.7777777777777778,
             "#fb9f3a"
            ],
            [
             0.8888888888888888,
             "#fdca26"
            ],
            [
             1,
             "#f0f921"
            ]
           ],
           "sequentialminus": [
            [
             0,
             "#0d0887"
            ],
            [
             0.1111111111111111,
             "#46039f"
            ],
            [
             0.2222222222222222,
             "#7201a8"
            ],
            [
             0.3333333333333333,
             "#9c179e"
            ],
            [
             0.4444444444444444,
             "#bd3786"
            ],
            [
             0.5555555555555556,
             "#d8576b"
            ],
            [
             0.6666666666666666,
             "#ed7953"
            ],
            [
             0.7777777777777778,
             "#fb9f3a"
            ],
            [
             0.8888888888888888,
             "#fdca26"
            ],
            [
             1,
             "#f0f921"
            ]
           ]
          },
          "colorway": [
           "#636efa",
           "#EF553B",
           "#00cc96",
           "#ab63fa",
           "#FFA15A",
           "#19d3f3",
           "#FF6692",
           "#B6E880",
           "#FF97FF",
           "#FECB52"
          ],
          "font": {
           "color": "#2a3f5f"
          },
          "geo": {
           "bgcolor": "white",
           "lakecolor": "white",
           "landcolor": "white",
           "showlakes": true,
           "showland": true,
           "subunitcolor": "#C8D4E3"
          },
          "hoverlabel": {
           "align": "left"
          },
          "hovermode": "closest",
          "mapbox": {
           "style": "light"
          },
          "paper_bgcolor": "white",
          "plot_bgcolor": "white",
          "polar": {
           "angularaxis": {
            "gridcolor": "#EBF0F8",
            "linecolor": "#EBF0F8",
            "ticks": ""
           },
           "bgcolor": "white",
           "radialaxis": {
            "gridcolor": "#EBF0F8",
            "linecolor": "#EBF0F8",
            "ticks": ""
           }
          },
          "scene": {
           "xaxis": {
            "backgroundcolor": "white",
            "gridcolor": "#DFE8F3",
            "gridwidth": 2,
            "linecolor": "#EBF0F8",
            "showbackground": true,
            "ticks": "",
            "zerolinecolor": "#EBF0F8"
           },
           "yaxis": {
            "backgroundcolor": "white",
            "gridcolor": "#DFE8F3",
            "gridwidth": 2,
            "linecolor": "#EBF0F8",
            "showbackground": true,
            "ticks": "",
            "zerolinecolor": "#EBF0F8"
           },
           "zaxis": {
            "backgroundcolor": "white",
            "gridcolor": "#DFE8F3",
            "gridwidth": 2,
            "linecolor": "#EBF0F8",
            "showbackground": true,
            "ticks": "",
            "zerolinecolor": "#EBF0F8"
           }
          },
          "shapedefaults": {
           "line": {
            "color": "#2a3f5f"
           }
          },
          "ternary": {
           "aaxis": {
            "gridcolor": "#DFE8F3",
            "linecolor": "#A2B1C6",
            "ticks": ""
           },
           "baxis": {
            "gridcolor": "#DFE8F3",
            "linecolor": "#A2B1C6",
            "ticks": ""
           },
           "bgcolor": "white",
           "caxis": {
            "gridcolor": "#DFE8F3",
            "linecolor": "#A2B1C6",
            "ticks": ""
           }
          },
          "title": {
           "x": 0.05
          },
          "xaxis": {
           "automargin": true,
           "gridcolor": "#EBF0F8",
           "linecolor": "#EBF0F8",
           "ticks": "",
           "title": {
            "standoff": 15
           },
           "zerolinecolor": "#EBF0F8",
           "zerolinewidth": 2
          },
          "yaxis": {
           "automargin": true,
           "gridcolor": "#EBF0F8",
           "linecolor": "#EBF0F8",
           "ticks": "",
           "title": {
            "standoff": 15
           },
           "zerolinecolor": "#EBF0F8",
           "zerolinewidth": 2
          }
         }
        },
        "title": {
         "font": {
          "color": "rgb(0,0,0)",
          "family": "PT Serif",
          "size": 28
         },
         "text": "Количество умерших и выздоровевших от COVID-19",
         "x": 0,
         "xanchor": "left",
         "yanchor": "top"
        },
        "width": 800,
        "xaxis": {
         "title": {
          "text": "Умершие"
         }
        },
        "yaxis": {
         "title": {
          "text": "Выздоровевшие"
         }
        }
       }
      },
      "text/html": [
       "<div>\n",
       "        \n",
       "        \n",
       "            <div id=\"0d5d762e-b024-4aa2-b728-f0e73bfd6089\" class=\"plotly-graph-div\" style=\"height:800px; width:800px;\"></div>\n",
       "            <script type=\"text/javascript\">\n",
       "                require([\"plotly\"], function(Plotly) {\n",
       "                    window.PLOTLYENV=window.PLOTLYENV || {};\n",
       "                    \n",
       "                if (document.getElementById(\"0d5d762e-b024-4aa2-b728-f0e73bfd6089\")) {\n",
       "                    Plotly.newPlot(\n",
       "                        '0d5d762e-b024-4aa2-b728-f0e73bfd6089',\n",
       "                        [{\"marker\": {\"color\": \"rgba(255,0,0,1)\"}, \"mode\": \"markers+text\", \"name\": \"Top-10\", \"text\": [\"US\", \"Spain\", \"Italy\", \"France\", \"Germany\", \"China\", \"Iran\", \"United Kingdom\", \"Turkey\", \"Belgium\", \"Switzerland\", \"Netherlands\", \"Canada\", \"Brazil\", \"Portugal\", \"Austria\", \"Korea, South\", \"Israel\", \"Russia\", \"Sweden\"], \"textposition\": \"middle right\", \"type\": \"scatter\", \"x\": [14695, 14792, 17669, 10887, 2349, 3337, 3993, 7111, 812, 2240, 895, 2255, 407, 819, 380, 273, 200, 73, 63, 687], \"y\": [23559, 48021, 26491, 21452, 46300, 77567, 29812, 345, 1846, 4681, 9800, 272, 4154, 127, 196, 4512, 6776, 801, 580, 205]}, {\"marker\": {\"color\": \"rgba(100,100,100,.2)\"}, \"mode\": \"markers\", \"name\": \"Other world\", \"text\": [\"Netherlands\", \"Canada\", \"Brazil\", \"Portugal\", \"Austria\", \"Korea, South\", \"Israel\", \"Russia\", \"Sweden\", \"Norway\", \"Ireland\", \"Australia\", \"India\", \"Denmark\", \"Chile\", \"Czechia\", \"Poland\", \"Romania\", \"Ecuador\", \"Peru\", \"Pakistan\", \"Japan\", \"Malaysia\", \"Philippines\", \"Luxembourg\", \"Indonesia\", \"Saudi Arabia\", \"Mexico\", \"Serbia\", \"United Arab Emirates\", \"Finland\", \"Thailand\", \"Panama\", \"Qatar\", \"Dominican Republic\", \"Colombia\", \"Greece\", \"South Africa\", \"Argentina\", \"Ukraine\", \"Singapore\", \"Iceland\", \"Algeria\", \"Egypt\", \"Croatia\", \"Morocco\", \"New Zealand\", \"Iraq\", \"Estonia\", \"Moldova\", \"Slovenia\", \"Belarus\", \"Lithuania\", \"Hungary\", \"Armenia\", \"Kuwait\", \"Bahrain\", \"Azerbaijan\", \"Bosnia and Herzegovina\", \"Cameroon\", \"Kazakhstan\", \"Diamond Princess\", \"Slovakia\", \"Tunisia\", \"North Macedonia\", \"Bulgaria\", \"Latvia\", \"Lebanon\", \"Andorra\", \"Uzbekistan\", \"Cyprus\", \"Costa Rica\", \"Cuba\", \"Afghanistan\", \"Uruguay\", \"Oman\", \"Burkina Faso\", \"Albania\", \"Cote d'Ivoire\", \"Taiwan*\", \"Jordan\", \"Niger\", \"Ghana\", \"Honduras\", \"Malta\", \"San Marino\", \"Nigeria\", \"Mauritius\", \"Kyrgyzstan\", \"West Bank and Gaza\", \"Vietnam\", \"Montenegro\", \"Senegal\", \"Bangladesh\", \"Georgia\", \"Bolivia\", \"Sri Lanka\", \"Kosovo\", \"Congo (Kinshasa)\", \"Kenya\", \"Venezuela\", \"Guinea\", \"Djibouti\", \"Brunei\", \"Paraguay\", \"Cambodia\", \"Rwanda\", \"Trinidad and Tobago\", \"Madagascar\", \"El Salvador\", \"Guatemala\", \"Monaco\", \"Liechtenstein\", \"Togo\", \"Barbados\", \"Jamaica\", \"Mali\", \"Ethiopia\", \"Uganda\", \"Congo (Brazzaville)\", \"Bahamas\", \"Zambia\", \"Guyana\", \"Gabon\", \"Guinea-Bissau\", \"Eritrea\", \"Liberia\", \"Haiti\", \"Benin\", \"Tanzania\", \"Burma\", \"Libya\", \"Syria\", \"Maldives\", \"Antigua and Barbuda\", \"Angola\", \"Equatorial Guinea\", \"Mozambique\", \"Mongolia\", \"Namibia\", \"Dominica\", \"Fiji\", \"Laos\", \"Sudan\", \"Saint Lucia\", \"Somalia\", \"Grenada\", \"Eswatini\", \"Zimbabwe\", \"Seychelles\", \"Saint Kitts and Nevis\", \"Chad\", \"Suriname\", \"MS Zaandam\", \"Nepal\", \"Malawi\", \"Saint Vincent and the Grenadines\", \"Central African Republic\", \"Holy See\", \"Belize\", \"Sierra Leone\", \"Cabo Verde\", \"Nicaragua\", \"Mauritania\", \"Botswana\", \"Bhutan\", \"Western Sahara\", \"Gambia\", \"Sao Tome and Principe\", \"Burundi\", \"Papua New Guinea\", \"South Sudan\", \"Timor-Leste\"], \"type\": \"scatter\", \"x\": [2255, 407, 819, 380, 273, 200, 73, 63, 687, 101, 235, 50, 178, 218, 48, 99, 159, 220, 242, 121, 61, 93, 65, 182, 46, 240, 41, 141, 65, 12, 40, 30, 59, 6, 108, 54, 83, 18, 63, 52, 6, 6, 205, 103, 19, 93, 1, 69, 24, 27, 40, 13, 15, 58, 9, 1, 5, 8, 34, 10, 7, 11, 2, 24, 29, 24, 2, 19, 23, 3, 9, 3, 12, 14, 7, 2, 23, 22, 3, 5, 6, 11, 6, 22, 1, 34, 6, 7, 4, 1, 0, 2, 2, 20, 3, 15, 7, 5, 18, 6, 9, 0, 0, 1, 5, 0, 0, 8, 0, 5, 3, 1, 1, 3, 3, 4, 7, 2, 0, 5, 7, 1, 6, 1, 0, 0, 4, 1, 1, 1, 3, 1, 2, 0, 2, 2, 0, 0, 0, 0, 0, 0, 0, 2, 0, 1, 0, 0, 3, 0, 0, 0, 1, 2, 0, 1, 0, 0, 0, 1, 0, 1, 1, 1, 1, 0, 0, 1, 0, 0, 0, 0, 0], \"y\": [272, 4154, 127, 196, 4512, 6776, 801, 580, 205, 32, 25, 1080, 506, 1763, 1115, 233, 222, 528, 140, 1333, 467, 622, 1487, 96, 500, 222, 631, 633, 0, 239, 300, 888, 16, 178, 50, 123, 269, 95, 358, 35, 406, 633, 237, 305, 179, 97, 282, 452, 72, 40, 120, 77, 8, 94, 114, 111, 477, 63, 79, 60, 54, 619, 16, 25, 35, 42, 16, 62, 52, 30, 52, 29, 27, 29, 150, 72, 134, 154, 48, 61, 150, 28, 34, 6, 16, 40, 44, 19, 33, 44, 126, 4, 113, 33, 50, 2, 44, 30, 9, 9, 65, 5, 25, 91, 15, 63, 7, 1, 11, 9, 17, 4, 55, 23, 8, 10, 16, 4, 0, 2, 5, 7, 8, 1, 0, 0, 3, 0, 5, 5, 0, 8, 4, 13, 0, 2, 3, 1, 4, 3, 1, 0, 0, 2, 1, 1, 0, 7, 0, 0, 0, 2, 3, 0, 1, 0, 1, 0, 2, 0, 0, 1, 0, 2, 0, 2, 0, 2, 0, 0, 0, 0, 0]}, {\"marker\": {\"color\": \"rgba(255,0,0,1)\"}, \"mode\": \"markers+text\", \"name\": \"Russia\", \"text\": [\"Russia\"], \"textposition\": \"middle right\", \"type\": \"scatter\", \"x\": [63], \"y\": [580]}],\n",
       "                        {\"font\": {\"family\": \"PT Sans Caption\"}, \"height\": 800, \"template\": {\"data\": {\"bar\": [{\"error_x\": {\"color\": \"#2a3f5f\"}, \"error_y\": {\"color\": \"#2a3f5f\"}, \"marker\": {\"line\": {\"color\": \"white\", \"width\": 0.5}}, \"type\": \"bar\"}], \"barpolar\": [{\"marker\": {\"line\": {\"color\": \"white\", \"width\": 0.5}}, \"type\": \"barpolar\"}], \"carpet\": [{\"aaxis\": {\"endlinecolor\": \"#2a3f5f\", \"gridcolor\": \"#C8D4E3\", \"linecolor\": \"#C8D4E3\", \"minorgridcolor\": \"#C8D4E3\", \"startlinecolor\": \"#2a3f5f\"}, \"baxis\": {\"endlinecolor\": \"#2a3f5f\", \"gridcolor\": \"#C8D4E3\", \"linecolor\": \"#C8D4E3\", \"minorgridcolor\": \"#C8D4E3\", \"startlinecolor\": \"#2a3f5f\"}, \"type\": \"carpet\"}], \"choropleth\": [{\"colorbar\": {\"outlinewidth\": 0, \"ticks\": \"\"}, \"type\": \"choropleth\"}], \"contour\": [{\"colorbar\": {\"outlinewidth\": 0, \"ticks\": \"\"}, \"colorscale\": [[0.0, \"#0d0887\"], [0.1111111111111111, \"#46039f\"], [0.2222222222222222, \"#7201a8\"], [0.3333333333333333, \"#9c179e\"], [0.4444444444444444, \"#bd3786\"], [0.5555555555555556, \"#d8576b\"], [0.6666666666666666, \"#ed7953\"], [0.7777777777777778, \"#fb9f3a\"], [0.8888888888888888, \"#fdca26\"], [1.0, \"#f0f921\"]], \"type\": \"contour\"}], \"contourcarpet\": [{\"colorbar\": {\"outlinewidth\": 0, \"ticks\": \"\"}, \"type\": \"contourcarpet\"}], \"heatmap\": [{\"colorbar\": {\"outlinewidth\": 0, \"ticks\": \"\"}, \"colorscale\": [[0.0, \"#0d0887\"], [0.1111111111111111, \"#46039f\"], [0.2222222222222222, \"#7201a8\"], [0.3333333333333333, \"#9c179e\"], [0.4444444444444444, \"#bd3786\"], [0.5555555555555556, \"#d8576b\"], [0.6666666666666666, \"#ed7953\"], [0.7777777777777778, \"#fb9f3a\"], [0.8888888888888888, \"#fdca26\"], [1.0, \"#f0f921\"]], \"type\": \"heatmap\"}], \"heatmapgl\": [{\"colorbar\": {\"outlinewidth\": 0, \"ticks\": \"\"}, \"colorscale\": [[0.0, \"#0d0887\"], [0.1111111111111111, \"#46039f\"], [0.2222222222222222, \"#7201a8\"], [0.3333333333333333, \"#9c179e\"], [0.4444444444444444, \"#bd3786\"], [0.5555555555555556, \"#d8576b\"], [0.6666666666666666, \"#ed7953\"], [0.7777777777777778, \"#fb9f3a\"], [0.8888888888888888, \"#fdca26\"], [1.0, \"#f0f921\"]], \"type\": \"heatmapgl\"}], \"histogram\": [{\"marker\": {\"colorbar\": {\"outlinewidth\": 0, \"ticks\": \"\"}}, \"type\": \"histogram\"}], \"histogram2d\": [{\"colorbar\": {\"outlinewidth\": 0, \"ticks\": \"\"}, \"colorscale\": [[0.0, \"#0d0887\"], [0.1111111111111111, \"#46039f\"], [0.2222222222222222, \"#7201a8\"], [0.3333333333333333, \"#9c179e\"], [0.4444444444444444, \"#bd3786\"], [0.5555555555555556, \"#d8576b\"], [0.6666666666666666, \"#ed7953\"], [0.7777777777777778, \"#fb9f3a\"], [0.8888888888888888, \"#fdca26\"], [1.0, \"#f0f921\"]], \"type\": \"histogram2d\"}], \"histogram2dcontour\": [{\"colorbar\": {\"outlinewidth\": 0, \"ticks\": \"\"}, \"colorscale\": [[0.0, \"#0d0887\"], [0.1111111111111111, \"#46039f\"], [0.2222222222222222, \"#7201a8\"], [0.3333333333333333, \"#9c179e\"], [0.4444444444444444, \"#bd3786\"], [0.5555555555555556, \"#d8576b\"], [0.6666666666666666, \"#ed7953\"], [0.7777777777777778, \"#fb9f3a\"], [0.8888888888888888, \"#fdca26\"], [1.0, \"#f0f921\"]], \"type\": \"histogram2dcontour\"}], \"mesh3d\": [{\"colorbar\": {\"outlinewidth\": 0, \"ticks\": \"\"}, \"type\": \"mesh3d\"}], \"parcoords\": [{\"line\": {\"colorbar\": {\"outlinewidth\": 0, \"ticks\": \"\"}}, \"type\": \"parcoords\"}], \"pie\": [{\"automargin\": true, \"type\": \"pie\"}], \"scatter\": [{\"marker\": {\"colorbar\": {\"outlinewidth\": 0, \"ticks\": \"\"}}, \"type\": \"scatter\"}], \"scatter3d\": [{\"line\": {\"colorbar\": {\"outlinewidth\": 0, \"ticks\": \"\"}}, \"marker\": {\"colorbar\": {\"outlinewidth\": 0, \"ticks\": \"\"}}, \"type\": \"scatter3d\"}], \"scattercarpet\": [{\"marker\": {\"colorbar\": {\"outlinewidth\": 0, \"ticks\": \"\"}}, \"type\": \"scattercarpet\"}], \"scattergeo\": [{\"marker\": {\"colorbar\": {\"outlinewidth\": 0, \"ticks\": \"\"}}, \"type\": \"scattergeo\"}], \"scattergl\": [{\"marker\": {\"colorbar\": {\"outlinewidth\": 0, \"ticks\": \"\"}}, \"type\": \"scattergl\"}], \"scattermapbox\": [{\"marker\": {\"colorbar\": {\"outlinewidth\": 0, \"ticks\": \"\"}}, \"type\": \"scattermapbox\"}], \"scatterpolar\": [{\"marker\": {\"colorbar\": {\"outlinewidth\": 0, \"ticks\": \"\"}}, \"type\": \"scatterpolar\"}], \"scatterpolargl\": [{\"marker\": {\"colorbar\": {\"outlinewidth\": 0, \"ticks\": \"\"}}, \"type\": \"scatterpolargl\"}], \"scatterternary\": [{\"marker\": {\"colorbar\": {\"outlinewidth\": 0, \"ticks\": \"\"}}, \"type\": \"scatterternary\"}], \"surface\": [{\"colorbar\": {\"outlinewidth\": 0, \"ticks\": \"\"}, \"colorscale\": [[0.0, \"#0d0887\"], [0.1111111111111111, \"#46039f\"], [0.2222222222222222, \"#7201a8\"], [0.3333333333333333, \"#9c179e\"], [0.4444444444444444, \"#bd3786\"], [0.5555555555555556, \"#d8576b\"], [0.6666666666666666, \"#ed7953\"], [0.7777777777777778, \"#fb9f3a\"], [0.8888888888888888, \"#fdca26\"], [1.0, \"#f0f921\"]], \"type\": \"surface\"}], \"table\": [{\"cells\": {\"fill\": {\"color\": \"#EBF0F8\"}, \"line\": {\"color\": \"white\"}}, \"header\": {\"fill\": {\"color\": \"#C8D4E3\"}, \"line\": {\"color\": \"white\"}}, \"type\": \"table\"}]}, \"layout\": {\"annotationdefaults\": {\"arrowcolor\": \"#2a3f5f\", \"arrowhead\": 0, \"arrowwidth\": 1}, \"coloraxis\": {\"colorbar\": {\"outlinewidth\": 0, \"ticks\": \"\"}}, \"colorscale\": {\"diverging\": [[0, \"#8e0152\"], [0.1, \"#c51b7d\"], [0.2, \"#de77ae\"], [0.3, \"#f1b6da\"], [0.4, \"#fde0ef\"], [0.5, \"#f7f7f7\"], [0.6, \"#e6f5d0\"], [0.7, \"#b8e186\"], [0.8, \"#7fbc41\"], [0.9, \"#4d9221\"], [1, \"#276419\"]], \"sequential\": [[0.0, \"#0d0887\"], [0.1111111111111111, \"#46039f\"], [0.2222222222222222, \"#7201a8\"], [0.3333333333333333, \"#9c179e\"], [0.4444444444444444, \"#bd3786\"], [0.5555555555555556, \"#d8576b\"], [0.6666666666666666, \"#ed7953\"], [0.7777777777777778, \"#fb9f3a\"], [0.8888888888888888, \"#fdca26\"], [1.0, \"#f0f921\"]], \"sequentialminus\": [[0.0, \"#0d0887\"], [0.1111111111111111, \"#46039f\"], [0.2222222222222222, \"#7201a8\"], [0.3333333333333333, \"#9c179e\"], [0.4444444444444444, \"#bd3786\"], [0.5555555555555556, \"#d8576b\"], [0.6666666666666666, \"#ed7953\"], [0.7777777777777778, \"#fb9f3a\"], [0.8888888888888888, \"#fdca26\"], [1.0, \"#f0f921\"]]}, \"colorway\": [\"#636efa\", \"#EF553B\", \"#00cc96\", \"#ab63fa\", \"#FFA15A\", \"#19d3f3\", \"#FF6692\", \"#B6E880\", \"#FF97FF\", \"#FECB52\"], \"font\": {\"color\": \"#2a3f5f\"}, \"geo\": {\"bgcolor\": \"white\", \"lakecolor\": \"white\", \"landcolor\": \"white\", \"showlakes\": true, \"showland\": true, \"subunitcolor\": \"#C8D4E3\"}, \"hoverlabel\": {\"align\": \"left\"}, \"hovermode\": \"closest\", \"mapbox\": {\"style\": \"light\"}, \"paper_bgcolor\": \"white\", \"plot_bgcolor\": \"white\", \"polar\": {\"angularaxis\": {\"gridcolor\": \"#EBF0F8\", \"linecolor\": \"#EBF0F8\", \"ticks\": \"\"}, \"bgcolor\": \"white\", \"radialaxis\": {\"gridcolor\": \"#EBF0F8\", \"linecolor\": \"#EBF0F8\", \"ticks\": \"\"}}, \"scene\": {\"xaxis\": {\"backgroundcolor\": \"white\", \"gridcolor\": \"#DFE8F3\", \"gridwidth\": 2, \"linecolor\": \"#EBF0F8\", \"showbackground\": true, \"ticks\": \"\", \"zerolinecolor\": \"#EBF0F8\"}, \"yaxis\": {\"backgroundcolor\": \"white\", \"gridcolor\": \"#DFE8F3\", \"gridwidth\": 2, \"linecolor\": \"#EBF0F8\", \"showbackground\": true, \"ticks\": \"\", \"zerolinecolor\": \"#EBF0F8\"}, \"zaxis\": {\"backgroundcolor\": \"white\", \"gridcolor\": \"#DFE8F3\", \"gridwidth\": 2, \"linecolor\": \"#EBF0F8\", \"showbackground\": true, \"ticks\": \"\", \"zerolinecolor\": \"#EBF0F8\"}}, \"shapedefaults\": {\"line\": {\"color\": \"#2a3f5f\"}}, \"ternary\": {\"aaxis\": {\"gridcolor\": \"#DFE8F3\", \"linecolor\": \"#A2B1C6\", \"ticks\": \"\"}, \"baxis\": {\"gridcolor\": \"#DFE8F3\", \"linecolor\": \"#A2B1C6\", \"ticks\": \"\"}, \"bgcolor\": \"white\", \"caxis\": {\"gridcolor\": \"#DFE8F3\", \"linecolor\": \"#A2B1C6\", \"ticks\": \"\"}}, \"title\": {\"x\": 0.05}, \"xaxis\": {\"automargin\": true, \"gridcolor\": \"#EBF0F8\", \"linecolor\": \"#EBF0F8\", \"ticks\": \"\", \"title\": {\"standoff\": 15}, \"zerolinecolor\": \"#EBF0F8\", \"zerolinewidth\": 2}, \"yaxis\": {\"automargin\": true, \"gridcolor\": \"#EBF0F8\", \"linecolor\": \"#EBF0F8\", \"ticks\": \"\", \"title\": {\"standoff\": 15}, \"zerolinecolor\": \"#EBF0F8\", \"zerolinewidth\": 2}}}, \"title\": {\"font\": {\"color\": \"rgb(0,0,0)\", \"family\": \"PT Serif\", \"size\": 28}, \"text\": \"\\u041a\\u043e\\u043b\\u0438\\u0447\\u0435\\u0441\\u0442\\u0432\\u043e \\u0443\\u043c\\u0435\\u0440\\u0448\\u0438\\u0445 \\u0438 \\u0432\\u044b\\u0437\\u0434\\u043e\\u0440\\u043e\\u0432\\u0435\\u0432\\u0448\\u0438\\u0445 \\u043e\\u0442 COVID-19\", \"x\": 0, \"xanchor\": \"left\", \"yanchor\": \"top\"}, \"width\": 800, \"xaxis\": {\"title\": {\"text\": \"\\u0423\\u043c\\u0435\\u0440\\u0448\\u0438\\u0435\"}}, \"yaxis\": {\"title\": {\"text\": \"\\u0412\\u044b\\u0437\\u0434\\u043e\\u0440\\u043e\\u0432\\u0435\\u0432\\u0448\\u0438\\u0435\"}}},\n",
       "                        {\"responsive\": true}\n",
       "                    ).then(function(){\n",
       "                            \n",
       "var gd = document.getElementById('0d5d762e-b024-4aa2-b728-f0e73bfd6089');\n",
       "var x = new MutationObserver(function (mutations, observer) {{\n",
       "        var display = window.getComputedStyle(gd).display;\n",
       "        if (!display || display === 'none') {{\n",
       "            console.log([gd, 'removed!']);\n",
       "            Plotly.purge(gd);\n",
       "            observer.disconnect();\n",
       "        }}\n",
       "}});\n",
       "\n",
       "// Listen for the removal of the full notebook cells\n",
       "var notebookContainer = gd.closest('#notebook-container');\n",
       "if (notebookContainer) {{\n",
       "    x.observe(notebookContainer, {childList: true});\n",
       "}}\n",
       "\n",
       "// Listen for the clearing of the current output cell\n",
       "var outputEl = gd.closest('.output');\n",
       "if (outputEl) {{\n",
       "    x.observe(outputEl, {childList: true});\n",
       "}}\n",
       "\n",
       "                        })\n",
       "                };\n",
       "                });\n",
       "            </script>\n",
       "        </div>"
      ]
     },
     "metadata": {},
     "output_type": "display_data"
    }
   ],
   "source": [
    "fig = go.Figure()\n",
    "\n",
    "\n",
    "fig.add_trace(go.Scatter(x = top['Deaths'], y = top['Recovered'],\n",
    "                         mode = 'markers+text',\n",
    "                         text = top.index,\n",
    "                         textposition = 'middle right',\n",
    "                         marker_color = 'rgba(255,0,0,1)',\n",
    "                         name = 'Top-10'\n",
    "                        ))\n",
    "\n",
    "fig.add_trace(go.Scatter(x = others['Deaths'], y = others['Recovered'],\n",
    "                         mode = 'markers',\n",
    "                         text = others.index,\n",
    "                         marker_color = 'rgba(100,100,100,.2)',\n",
    "                         name = 'Other world'\n",
    "                        ))\n",
    "\n",
    "fig.add_trace(go.Scatter(x = russia['Deaths'], y = russia['Recovered'],\n",
    "                         mode = 'markers+text',\n",
    "                         text = russia.index,\n",
    "                         textposition = 'middle right',\n",
    "                         marker_color = 'rgba(255,0,0,1)',\n",
    "                         name = 'Russia'\n",
    "                        ))\n",
    "\n",
    "fig.update_layout(\n",
    "    template = 'plotly_white',\n",
    "    font = {'family': 'PT Sans Caption'},\n",
    "    width=800, height=800,\n",
    "    title={\n",
    "    'text': \"Количество умерших и выздоровевших от COVID-19\",        \n",
    "    #'y':0.87,        \n",
    "    'x':0,        \n",
    "    'font':{\n",
    "            'family': 'PT Serif',\n",
    "            'size': 28,\n",
    "            'color': 'rgb(0,0,0)'},\n",
    "        'xanchor': 'left',\n",
    "        'yanchor': 'top'},\n",
    "    xaxis_title=\"Умершие\",\n",
    "    yaxis_title=\"Выздоровевшие\",\n",
    "                  \n",
    "                 )\n",
    "\n",
    "fig.show()"
   ]
  },
  {
   "cell_type": "code",
   "execution_count": null,
   "metadata": {},
   "outputs": [],
   "source": [
    "fig = go.Figure()\n",
    "\n",
    "\n",
    "fig.add_trace(go.Scatter(x = top['Deaths'], y = top['Recovered'],\n",
    "                         mode = 'markers+text',\n",
    "                         text = top.index,\n",
    "                         textposition = 'middle right',\n",
    "                         marker_color = 'rgba(255,0,0,1)',\n",
    "                         name = 'Top-10'\n",
    "                        ))\n",
    "\n",
    "fig.add_trace(go.Scatter(x = others['Deaths'], y = others['Recovered'],\n",
    "                         mode = 'markers',\n",
    "                         text = others.index,\n",
    "                         marker_color = 'rgba(100,100,100,.2)',\n",
    "                         name = 'Other world'\n",
    "                        ))\n",
    "\n",
    "fig.add_trace(go.Scatter(x = russia['Deaths'], y = russia['Recovered'],\n",
    "                         mode = 'markers+text',\n",
    "                         text = russia.index,\n",
    "                         textposition = 'middle right',\n",
    "                         marker_color = 'rgba(255,0,0,1)',\n",
    "                         name = 'Russia'\n",
    "                        ))\n",
    "\n",
    "fig.update_layout(\n",
    "    template = 'plotly_white',\n",
    "    font = {'family': 'PT Sans Caption'},\n",
    "    width=800, height=800,\n",
    "    xaxis_type=\"log\", yaxis_type=\"log\",\n",
    "    title={\n",
    "    'text': \"Количество умерших и выздоровевших от COVID-19\",        \n",
    "    #'y':0.87,        \n",
    "    'x':0,        \n",
    "    'font':{\n",
    "            'family': 'PT Serif',\n",
    "            'size': 28,\n",
    "            'color': 'rgb(0,0,0)'},\n",
    "        'xanchor': 'left',\n",
    "        'yanchor': 'top'},\n",
    "    xaxis_title=\"Умершие\",\n",
    "    yaxis_title=\"Выздоровевшие\",\n",
    "                  \n",
    "                 )\n",
    "\n",
    "fig.show()"
   ]
  },
  {
   "cell_type": "code",
   "execution_count": null,
   "metadata": {},
   "outputs": [],
   "source": []
  }
 ],
 "metadata": {
  "kernelspec": {
   "display_name": "Python 3",
   "language": "python",
   "name": "python3"
  },
  "language_info": {
   "codemirror_mode": {
    "name": "ipython",
    "version": 3
   },
   "file_extension": ".py",
   "mimetype": "text/x-python",
   "name": "python",
   "nbconvert_exporter": "python",
   "pygments_lexer": "ipython3",
   "version": "3.7.4"
  }
 },
 "nbformat": 4,
 "nbformat_minor": 2
}
