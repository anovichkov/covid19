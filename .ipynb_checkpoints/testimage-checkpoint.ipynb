{
 "cells": [
  {
   "cell_type": "code",
   "execution_count": null,
   "metadata": {},
   "outputs": [],
   "source": [
    "import plotly.graph_objects as go\n",
    "\n",
    "# Create figure\n",
    "fig = go.Figure()\n",
    "\n",
    "# Add trace\n",
    "fig.add_trace(\n",
    "    go.Scatter(x=[0, 0.5, 1, 2, 2.2], y=[1.23, 2.5, 0.42, 3, 1])\n",
    ")\n",
    "\n",
    "# Add images\n",
    "fig.add_layout_image(\n",
    "        dict(\n",
    "            source=\"https://images.plot.ly/language-icons/api-home/python-logo.png\",\n",
    "            xref=\"x\",\n",
    "            yref=\"y\",\n",
    "            x=0,\n",
    "            y=3,\n",
    "            sizex=2,\n",
    "            sizey=2,\n",
    "            sizing=\"stretch\",\n",
    "            opacity=0.5,\n",
    "            layer=\"below\")\n",
    ")\n",
    "\n",
    "# Set templates\n",
    "fig.update_layout(template=\"plotly_white\")\n",
    "\n",
    "fig.show()"
   ]
  }
 ],
 "metadata": {
  "kernelspec": {
   "display_name": "Python 3",
   "language": "python",
   "name": "python3"
  },
  "language_info": {
   "codemirror_mode": {
    "name": "ipython",
    "version": 3
   },
   "file_extension": ".py",
   "mimetype": "text/x-python",
   "name": "python",
   "nbconvert_exporter": "python",
   "pygments_lexer": "ipython3",
   "version": "3.7.4"
  }
 },
 "nbformat": 4,
 "nbformat_minor": 2
}
