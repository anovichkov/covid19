{
 "cells": [
  {
   "cell_type": "code",
   "execution_count": 1,
   "metadata": {},
   "outputs": [],
   "source": [
    "import numpy as np \n",
    "import pandas as pd\n",
    "import plotly.graph_objects as go\n",
    "import datetime\n",
    "from datetime import timedelta\n",
    "import requests"
   ]
  },
  {
   "cell_type": "code",
   "execution_count": 2,
   "metadata": {},
   "outputs": [],
   "source": [
    "import os\n",
    "from IPython.display import Image"
   ]
  },
  {
   "cell_type": "code",
   "execution_count": 3,
   "metadata": {},
   "outputs": [
    {
     "name": "stdout",
     "output_type": "stream",
     "text": [
      "04-10-2020\n",
      "04-09-2020\n"
     ]
    }
   ],
   "source": [
    "today = pd.to_datetime('today').strftime(\"%m-%d-%Y\")\n",
    "daybefore = (datetime.date.today() - timedelta(days=1)).strftime(\"%m-%d-%Y\")\n",
    "print(today)\n",
    "print(daybefore)"
   ]
  },
  {
   "cell_type": "code",
   "execution_count": 4,
   "metadata": {},
   "outputs": [
    {
     "name": "stdout",
     "output_type": "stream",
     "text": [
      "https://raw.githubusercontent.com/CSSEGISandData/COVID-19/master/csse_covid_19_data/csse_covid_19_daily_reports/04-10-2020.csv\n",
      "https://raw.githubusercontent.com/CSSEGISandData/COVID-19/master/csse_covid_19_data/csse_covid_19_daily_reports/04-09-2020.csv\n"
     ]
    }
   ],
   "source": [
    "url_today='https://raw.githubusercontent.com/CSSEGISandData/COVID-19/master/csse_covid_19_data/csse_covid_19_daily_reports/' + today + '.csv'\n",
    "url_daybefore='https://raw.githubusercontent.com/CSSEGISandData/COVID-19/master/csse_covid_19_data/csse_covid_19_daily_reports/' + daybefore + '.csv'\n",
    "print(url_today)\n",
    "print(url_daybefore)"
   ]
  },
  {
   "cell_type": "code",
   "execution_count": 5,
   "metadata": {},
   "outputs": [
    {
     "name": "stdout",
     "output_type": "stream",
     "text": [
      "https://raw.githubusercontent.com/CSSEGISandData/COVID-19/master/csse_covid_19_data/csse_covid_19_daily_reports/04-09-2020.csv\n",
      "09.04.2020\n",
      "20200409\n"
     ]
    }
   ],
   "source": [
    "request = requests.get(url_today)\n",
    "if request.status_code == 200:\n",
    "    url = url_today\n",
    "    date = pd.to_datetime('today').strftime('%d.%m.%Y')\n",
    "    date2 = datetime.date.today().strftime('%Y%m%d')\n",
    "else:\n",
    "    url = url_daybefore\n",
    "    date = (datetime.date.today() - timedelta(days=1)).strftime('%d.%m.%Y')\n",
    "    date2 = (datetime.date.today() - timedelta(days=1)).strftime('%Y%m%d')\n",
    "    \n",
    "print(url)\n",
    "print(date)\n",
    "print(date2)"
   ]
  },
  {
   "cell_type": "code",
   "execution_count": 6,
   "metadata": {},
   "outputs": [
    {
     "data": {
      "text/html": [
       "<div>\n",
       "<style scoped>\n",
       "    .dataframe tbody tr th:only-of-type {\n",
       "        vertical-align: middle;\n",
       "    }\n",
       "\n",
       "    .dataframe tbody tr th {\n",
       "        vertical-align: top;\n",
       "    }\n",
       "\n",
       "    .dataframe thead th {\n",
       "        text-align: right;\n",
       "    }\n",
       "</style>\n",
       "<table border=\"1\" class=\"dataframe\">\n",
       "  <thead>\n",
       "    <tr style=\"text-align: right;\">\n",
       "      <th></th>\n",
       "      <th>FIPS</th>\n",
       "      <th>Admin2</th>\n",
       "      <th>Province_State</th>\n",
       "      <th>Country_Region</th>\n",
       "      <th>Last_Update</th>\n",
       "      <th>Lat</th>\n",
       "      <th>Long_</th>\n",
       "      <th>Confirmed</th>\n",
       "      <th>Deaths</th>\n",
       "      <th>Recovered</th>\n",
       "      <th>Active</th>\n",
       "      <th>Combined_Key</th>\n",
       "    </tr>\n",
       "  </thead>\n",
       "  <tbody>\n",
       "    <tr>\n",
       "      <td>0</td>\n",
       "      <td>45001.0</td>\n",
       "      <td>Abbeville</td>\n",
       "      <td>South Carolina</td>\n",
       "      <td>US</td>\n",
       "      <td>2020-04-09 23:02:37</td>\n",
       "      <td>34.223334</td>\n",
       "      <td>-82.461707</td>\n",
       "      <td>7</td>\n",
       "      <td>0</td>\n",
       "      <td>0</td>\n",
       "      <td>0</td>\n",
       "      <td>Abbeville, South Carolina, US</td>\n",
       "    </tr>\n",
       "    <tr>\n",
       "      <td>1</td>\n",
       "      <td>22001.0</td>\n",
       "      <td>Acadia</td>\n",
       "      <td>Louisiana</td>\n",
       "      <td>US</td>\n",
       "      <td>2020-04-09 23:02:37</td>\n",
       "      <td>30.295065</td>\n",
       "      <td>-92.414197</td>\n",
       "      <td>89</td>\n",
       "      <td>3</td>\n",
       "      <td>0</td>\n",
       "      <td>0</td>\n",
       "      <td>Acadia, Louisiana, US</td>\n",
       "    </tr>\n",
       "    <tr>\n",
       "      <td>2</td>\n",
       "      <td>51001.0</td>\n",
       "      <td>Accomack</td>\n",
       "      <td>Virginia</td>\n",
       "      <td>US</td>\n",
       "      <td>2020-04-09 23:02:37</td>\n",
       "      <td>37.767072</td>\n",
       "      <td>-75.632346</td>\n",
       "      <td>11</td>\n",
       "      <td>0</td>\n",
       "      <td>0</td>\n",
       "      <td>0</td>\n",
       "      <td>Accomack, Virginia, US</td>\n",
       "    </tr>\n",
       "    <tr>\n",
       "      <td>3</td>\n",
       "      <td>16001.0</td>\n",
       "      <td>Ada</td>\n",
       "      <td>Idaho</td>\n",
       "      <td>US</td>\n",
       "      <td>2020-04-09 23:02:37</td>\n",
       "      <td>43.452658</td>\n",
       "      <td>-116.241552</td>\n",
       "      <td>447</td>\n",
       "      <td>5</td>\n",
       "      <td>0</td>\n",
       "      <td>0</td>\n",
       "      <td>Ada, Idaho, US</td>\n",
       "    </tr>\n",
       "    <tr>\n",
       "      <td>4</td>\n",
       "      <td>19001.0</td>\n",
       "      <td>Adair</td>\n",
       "      <td>Iowa</td>\n",
       "      <td>US</td>\n",
       "      <td>2020-04-09 23:02:37</td>\n",
       "      <td>41.330756</td>\n",
       "      <td>-94.471059</td>\n",
       "      <td>1</td>\n",
       "      <td>0</td>\n",
       "      <td>0</td>\n",
       "      <td>0</td>\n",
       "      <td>Adair, Iowa, US</td>\n",
       "    </tr>\n",
       "    <tr>\n",
       "      <td>...</td>\n",
       "      <td>...</td>\n",
       "      <td>...</td>\n",
       "      <td>...</td>\n",
       "      <td>...</td>\n",
       "      <td>...</td>\n",
       "      <td>...</td>\n",
       "      <td>...</td>\n",
       "      <td>...</td>\n",
       "      <td>...</td>\n",
       "      <td>...</td>\n",
       "      <td>...</td>\n",
       "      <td>...</td>\n",
       "    </tr>\n",
       "    <tr>\n",
       "      <td>2906</td>\n",
       "      <td>NaN</td>\n",
       "      <td>NaN</td>\n",
       "      <td>NaN</td>\n",
       "      <td>Vietnam</td>\n",
       "      <td>2020-04-09 23:02:19</td>\n",
       "      <td>14.058324</td>\n",
       "      <td>108.277199</td>\n",
       "      <td>255</td>\n",
       "      <td>0</td>\n",
       "      <td>128</td>\n",
       "      <td>127</td>\n",
       "      <td>Vietnam</td>\n",
       "    </tr>\n",
       "    <tr>\n",
       "      <td>2907</td>\n",
       "      <td>NaN</td>\n",
       "      <td>NaN</td>\n",
       "      <td>NaN</td>\n",
       "      <td>West Bank and Gaza</td>\n",
       "      <td>2020-04-09 23:02:19</td>\n",
       "      <td>31.952200</td>\n",
       "      <td>35.233200</td>\n",
       "      <td>263</td>\n",
       "      <td>1</td>\n",
       "      <td>44</td>\n",
       "      <td>218</td>\n",
       "      <td>West Bank and Gaza</td>\n",
       "    </tr>\n",
       "    <tr>\n",
       "      <td>2908</td>\n",
       "      <td>NaN</td>\n",
       "      <td>NaN</td>\n",
       "      <td>NaN</td>\n",
       "      <td>Western Sahara</td>\n",
       "      <td>2020-04-09 23:02:19</td>\n",
       "      <td>24.215500</td>\n",
       "      <td>-12.885800</td>\n",
       "      <td>4</td>\n",
       "      <td>0</td>\n",
       "      <td>0</td>\n",
       "      <td>4</td>\n",
       "      <td>,,Western Sahara</td>\n",
       "    </tr>\n",
       "    <tr>\n",
       "      <td>2909</td>\n",
       "      <td>NaN</td>\n",
       "      <td>NaN</td>\n",
       "      <td>NaN</td>\n",
       "      <td>Zambia</td>\n",
       "      <td>2020-04-09 23:02:19</td>\n",
       "      <td>-13.133897</td>\n",
       "      <td>27.849332</td>\n",
       "      <td>39</td>\n",
       "      <td>1</td>\n",
       "      <td>24</td>\n",
       "      <td>14</td>\n",
       "      <td>Zambia</td>\n",
       "    </tr>\n",
       "    <tr>\n",
       "      <td>2910</td>\n",
       "      <td>NaN</td>\n",
       "      <td>NaN</td>\n",
       "      <td>NaN</td>\n",
       "      <td>Zimbabwe</td>\n",
       "      <td>2020-04-09 23:02:19</td>\n",
       "      <td>-19.015438</td>\n",
       "      <td>29.154857</td>\n",
       "      <td>11</td>\n",
       "      <td>3</td>\n",
       "      <td>0</td>\n",
       "      <td>8</td>\n",
       "      <td>Zimbabwe</td>\n",
       "    </tr>\n",
       "  </tbody>\n",
       "</table>\n",
       "<p>2911 rows × 12 columns</p>\n",
       "</div>"
      ],
      "text/plain": [
       "         FIPS     Admin2  Province_State      Country_Region  \\\n",
       "0     45001.0  Abbeville  South Carolina                  US   \n",
       "1     22001.0     Acadia       Louisiana                  US   \n",
       "2     51001.0   Accomack        Virginia                  US   \n",
       "3     16001.0        Ada           Idaho                  US   \n",
       "4     19001.0      Adair            Iowa                  US   \n",
       "...       ...        ...             ...                 ...   \n",
       "2906      NaN        NaN             NaN             Vietnam   \n",
       "2907      NaN        NaN             NaN  West Bank and Gaza   \n",
       "2908      NaN        NaN             NaN      Western Sahara   \n",
       "2909      NaN        NaN             NaN              Zambia   \n",
       "2910      NaN        NaN             NaN            Zimbabwe   \n",
       "\n",
       "              Last_Update        Lat       Long_  Confirmed  Deaths  \\\n",
       "0     2020-04-09 23:02:37  34.223334  -82.461707          7       0   \n",
       "1     2020-04-09 23:02:37  30.295065  -92.414197         89       3   \n",
       "2     2020-04-09 23:02:37  37.767072  -75.632346         11       0   \n",
       "3     2020-04-09 23:02:37  43.452658 -116.241552        447       5   \n",
       "4     2020-04-09 23:02:37  41.330756  -94.471059          1       0   \n",
       "...                   ...        ...         ...        ...     ...   \n",
       "2906  2020-04-09 23:02:19  14.058324  108.277199        255       0   \n",
       "2907  2020-04-09 23:02:19  31.952200   35.233200        263       1   \n",
       "2908  2020-04-09 23:02:19  24.215500  -12.885800          4       0   \n",
       "2909  2020-04-09 23:02:19 -13.133897   27.849332         39       1   \n",
       "2910  2020-04-09 23:02:19 -19.015438   29.154857         11       3   \n",
       "\n",
       "      Recovered  Active                   Combined_Key  \n",
       "0             0       0  Abbeville, South Carolina, US  \n",
       "1             0       0          Acadia, Louisiana, US  \n",
       "2             0       0         Accomack, Virginia, US  \n",
       "3             0       0                 Ada, Idaho, US  \n",
       "4             0       0                Adair, Iowa, US  \n",
       "...         ...     ...                            ...  \n",
       "2906        128     127                        Vietnam  \n",
       "2907         44     218             West Bank and Gaza  \n",
       "2908          0       4               ,,Western Sahara  \n",
       "2909         24      14                         Zambia  \n",
       "2910          0       8                       Zimbabwe  \n",
       "\n",
       "[2911 rows x 12 columns]"
      ]
     },
     "execution_count": 6,
     "metadata": {},
     "output_type": "execute_result"
    }
   ],
   "source": [
    "world = pd.read_csv(url)\n",
    "world"
   ]
  },
  {
   "cell_type": "code",
   "execution_count": 7,
   "metadata": {},
   "outputs": [
    {
     "data": {
      "text/html": [
       "<div>\n",
       "<style scoped>\n",
       "    .dataframe tbody tr th:only-of-type {\n",
       "        vertical-align: middle;\n",
       "    }\n",
       "\n",
       "    .dataframe tbody tr th {\n",
       "        vertical-align: top;\n",
       "    }\n",
       "\n",
       "    .dataframe thead th {\n",
       "        text-align: right;\n",
       "    }\n",
       "</style>\n",
       "<table border=\"1\" class=\"dataframe\">\n",
       "  <thead>\n",
       "    <tr style=\"text-align: right;\">\n",
       "      <th></th>\n",
       "      <th>Confirmed</th>\n",
       "      <th>Deaths</th>\n",
       "      <th>Recovered</th>\n",
       "      <th>Active</th>\n",
       "    </tr>\n",
       "    <tr>\n",
       "      <th>Country_Region</th>\n",
       "      <th></th>\n",
       "      <th></th>\n",
       "      <th></th>\n",
       "      <th></th>\n",
       "    </tr>\n",
       "  </thead>\n",
       "  <tbody>\n",
       "    <tr>\n",
       "      <td>US</td>\n",
       "      <td>461437</td>\n",
       "      <td>16478</td>\n",
       "      <td>25410</td>\n",
       "      <td>0</td>\n",
       "    </tr>\n",
       "    <tr>\n",
       "      <td>Spain</td>\n",
       "      <td>153222</td>\n",
       "      <td>15447</td>\n",
       "      <td>52165</td>\n",
       "      <td>85610</td>\n",
       "    </tr>\n",
       "    <tr>\n",
       "      <td>Italy</td>\n",
       "      <td>143626</td>\n",
       "      <td>18279</td>\n",
       "      <td>28470</td>\n",
       "      <td>96877</td>\n",
       "    </tr>\n",
       "    <tr>\n",
       "      <td>France</td>\n",
       "      <td>118781</td>\n",
       "      <td>12228</td>\n",
       "      <td>23413</td>\n",
       "      <td>83140</td>\n",
       "    </tr>\n",
       "    <tr>\n",
       "      <td>Germany</td>\n",
       "      <td>118181</td>\n",
       "      <td>2607</td>\n",
       "      <td>52407</td>\n",
       "      <td>63167</td>\n",
       "    </tr>\n",
       "    <tr>\n",
       "      <td>...</td>\n",
       "      <td>...</td>\n",
       "      <td>...</td>\n",
       "      <td>...</td>\n",
       "      <td>...</td>\n",
       "    </tr>\n",
       "    <tr>\n",
       "      <td>Gambia</td>\n",
       "      <td>4</td>\n",
       "      <td>1</td>\n",
       "      <td>2</td>\n",
       "      <td>1</td>\n",
       "    </tr>\n",
       "    <tr>\n",
       "      <td>Burundi</td>\n",
       "      <td>3</td>\n",
       "      <td>0</td>\n",
       "      <td>0</td>\n",
       "      <td>3</td>\n",
       "    </tr>\n",
       "    <tr>\n",
       "      <td>South Sudan</td>\n",
       "      <td>3</td>\n",
       "      <td>0</td>\n",
       "      <td>0</td>\n",
       "      <td>3</td>\n",
       "    </tr>\n",
       "    <tr>\n",
       "      <td>Papua New Guinea</td>\n",
       "      <td>2</td>\n",
       "      <td>0</td>\n",
       "      <td>0</td>\n",
       "      <td>2</td>\n",
       "    </tr>\n",
       "    <tr>\n",
       "      <td>Timor-Leste</td>\n",
       "      <td>1</td>\n",
       "      <td>0</td>\n",
       "      <td>0</td>\n",
       "      <td>1</td>\n",
       "    </tr>\n",
       "  </tbody>\n",
       "</table>\n",
       "<p>184 rows × 4 columns</p>\n",
       "</div>"
      ],
      "text/plain": [
       "                  Confirmed  Deaths  Recovered  Active\n",
       "Country_Region                                        \n",
       "US                   461437   16478      25410       0\n",
       "Spain                153222   15447      52165   85610\n",
       "Italy                143626   18279      28470   96877\n",
       "France               118781   12228      23413   83140\n",
       "Germany              118181    2607      52407   63167\n",
       "...                     ...     ...        ...     ...\n",
       "Gambia                    4       1          2       1\n",
       "Burundi                   3       0          0       3\n",
       "South Sudan               3       0          0       3\n",
       "Papua New Guinea          2       0          0       2\n",
       "Timor-Leste               1       0          0       1\n",
       "\n",
       "[184 rows x 4 columns]"
      ]
     },
     "execution_count": 7,
     "metadata": {},
     "output_type": "execute_result"
    }
   ],
   "source": [
    "data = world.groupby('Country_Region')['Confirmed','Deaths','Recovered','Active'].sum().sort_values(by=['Confirmed'], ascending=False)\n",
    "data"
   ]
  },
  {
   "cell_type": "code",
   "execution_count": 8,
   "metadata": {},
   "outputs": [],
   "source": [
    "#data.to_csv (r'death.csv', index = True, header=True)"
   ]
  },
  {
   "cell_type": "code",
   "execution_count": 9,
   "metadata": {},
   "outputs": [
    {
     "data": {
      "text/html": [
       "<div>\n",
       "<style scoped>\n",
       "    .dataframe tbody tr th:only-of-type {\n",
       "        vertical-align: middle;\n",
       "    }\n",
       "\n",
       "    .dataframe tbody tr th {\n",
       "        vertical-align: top;\n",
       "    }\n",
       "\n",
       "    .dataframe thead th {\n",
       "        text-align: right;\n",
       "    }\n",
       "</style>\n",
       "<table border=\"1\" class=\"dataframe\">\n",
       "  <thead>\n",
       "    <tr style=\"text-align: right;\">\n",
       "      <th></th>\n",
       "      <th>translate</th>\n",
       "    </tr>\n",
       "    <tr>\n",
       "      <th>Country_Region</th>\n",
       "      <th></th>\n",
       "    </tr>\n",
       "  </thead>\n",
       "  <tbody>\n",
       "    <tr>\n",
       "      <td>US</td>\n",
       "      <td>США</td>\n",
       "    </tr>\n",
       "    <tr>\n",
       "      <td>Spain</td>\n",
       "      <td>Испания</td>\n",
       "    </tr>\n",
       "    <tr>\n",
       "      <td>Italy</td>\n",
       "      <td>Италия</td>\n",
       "    </tr>\n",
       "    <tr>\n",
       "      <td>France</td>\n",
       "      <td>Франция</td>\n",
       "    </tr>\n",
       "    <tr>\n",
       "      <td>Germany</td>\n",
       "      <td>Германия</td>\n",
       "    </tr>\n",
       "    <tr>\n",
       "      <td>...</td>\n",
       "      <td>...</td>\n",
       "    </tr>\n",
       "    <tr>\n",
       "      <td>Gambia</td>\n",
       "      <td>Гамбия</td>\n",
       "    </tr>\n",
       "    <tr>\n",
       "      <td>Burundi</td>\n",
       "      <td>Бурунди</td>\n",
       "    </tr>\n",
       "    <tr>\n",
       "      <td>South Sudan</td>\n",
       "      <td>Южный Судан</td>\n",
       "    </tr>\n",
       "    <tr>\n",
       "      <td>Papua New Guinea</td>\n",
       "      <td>Папуа-Новая Гвинея</td>\n",
       "    </tr>\n",
       "    <tr>\n",
       "      <td>Timor-Leste</td>\n",
       "      <td>Восточный Тимор</td>\n",
       "    </tr>\n",
       "  </tbody>\n",
       "</table>\n",
       "<p>184 rows × 1 columns</p>\n",
       "</div>"
      ],
      "text/plain": [
       "                           translate\n",
       "Country_Region                      \n",
       "US                               США\n",
       "Spain                        Испания\n",
       "Italy                         Италия\n",
       "France                       Франция\n",
       "Germany                     Германия\n",
       "...                              ...\n",
       "Gambia                        Гамбия\n",
       "Burundi                      Бурунди\n",
       "South Sudan              Южный Судан\n",
       "Papua New Guinea  Папуа-Новая Гвинея\n",
       "Timor-Leste          Восточный Тимор\n",
       "\n",
       "[184 rows x 1 columns]"
      ]
     },
     "execution_count": 9,
     "metadata": {},
     "output_type": "execute_result"
    }
   ],
   "source": [
    "translate = pd.read_csv('translate.csv')\n",
    "for i in range(len(translate['translate'])):\n",
    "    translate['translate'][i] = translate['translate'][i][7:]\n",
    "    \n",
    "translate = translate.set_index('Country_Region')\n",
    "translate"
   ]
  },
  {
   "cell_type": "code",
   "execution_count": 10,
   "metadata": {},
   "outputs": [
    {
     "data": {
      "text/html": [
       "<div>\n",
       "<style scoped>\n",
       "    .dataframe tbody tr th:only-of-type {\n",
       "        vertical-align: middle;\n",
       "    }\n",
       "\n",
       "    .dataframe tbody tr th {\n",
       "        vertical-align: top;\n",
       "    }\n",
       "\n",
       "    .dataframe thead th {\n",
       "        text-align: right;\n",
       "    }\n",
       "</style>\n",
       "<table border=\"1\" class=\"dataframe\">\n",
       "  <thead>\n",
       "    <tr style=\"text-align: right;\">\n",
       "      <th></th>\n",
       "      <th>Confirmed</th>\n",
       "      <th>Deaths</th>\n",
       "      <th>Recovered</th>\n",
       "      <th>Active</th>\n",
       "      <th>translate</th>\n",
       "    </tr>\n",
       "    <tr>\n",
       "      <th>Country_Region</th>\n",
       "      <th></th>\n",
       "      <th></th>\n",
       "      <th></th>\n",
       "      <th></th>\n",
       "      <th></th>\n",
       "    </tr>\n",
       "  </thead>\n",
       "  <tbody>\n",
       "    <tr>\n",
       "      <td>US</td>\n",
       "      <td>461437</td>\n",
       "      <td>16478</td>\n",
       "      <td>25410</td>\n",
       "      <td>0</td>\n",
       "      <td>США</td>\n",
       "    </tr>\n",
       "    <tr>\n",
       "      <td>Spain</td>\n",
       "      <td>153222</td>\n",
       "      <td>15447</td>\n",
       "      <td>52165</td>\n",
       "      <td>85610</td>\n",
       "      <td>Испания</td>\n",
       "    </tr>\n",
       "    <tr>\n",
       "      <td>Italy</td>\n",
       "      <td>143626</td>\n",
       "      <td>18279</td>\n",
       "      <td>28470</td>\n",
       "      <td>96877</td>\n",
       "      <td>Италия</td>\n",
       "    </tr>\n",
       "    <tr>\n",
       "      <td>France</td>\n",
       "      <td>118781</td>\n",
       "      <td>12228</td>\n",
       "      <td>23413</td>\n",
       "      <td>83140</td>\n",
       "      <td>Франция</td>\n",
       "    </tr>\n",
       "    <tr>\n",
       "      <td>Germany</td>\n",
       "      <td>118181</td>\n",
       "      <td>2607</td>\n",
       "      <td>52407</td>\n",
       "      <td>63167</td>\n",
       "      <td>Германия</td>\n",
       "    </tr>\n",
       "    <tr>\n",
       "      <td>...</td>\n",
       "      <td>...</td>\n",
       "      <td>...</td>\n",
       "      <td>...</td>\n",
       "      <td>...</td>\n",
       "      <td>...</td>\n",
       "    </tr>\n",
       "    <tr>\n",
       "      <td>Gambia</td>\n",
       "      <td>4</td>\n",
       "      <td>1</td>\n",
       "      <td>2</td>\n",
       "      <td>1</td>\n",
       "      <td>Гамбия</td>\n",
       "    </tr>\n",
       "    <tr>\n",
       "      <td>Burundi</td>\n",
       "      <td>3</td>\n",
       "      <td>0</td>\n",
       "      <td>0</td>\n",
       "      <td>3</td>\n",
       "      <td>Бурунди</td>\n",
       "    </tr>\n",
       "    <tr>\n",
       "      <td>South Sudan</td>\n",
       "      <td>3</td>\n",
       "      <td>0</td>\n",
       "      <td>0</td>\n",
       "      <td>3</td>\n",
       "      <td>Южный Судан</td>\n",
       "    </tr>\n",
       "    <tr>\n",
       "      <td>Papua New Guinea</td>\n",
       "      <td>2</td>\n",
       "      <td>0</td>\n",
       "      <td>0</td>\n",
       "      <td>2</td>\n",
       "      <td>Папуа-Новая Гвинея</td>\n",
       "    </tr>\n",
       "    <tr>\n",
       "      <td>Timor-Leste</td>\n",
       "      <td>1</td>\n",
       "      <td>0</td>\n",
       "      <td>0</td>\n",
       "      <td>1</td>\n",
       "      <td>Восточный Тимор</td>\n",
       "    </tr>\n",
       "  </tbody>\n",
       "</table>\n",
       "<p>184 rows × 5 columns</p>\n",
       "</div>"
      ],
      "text/plain": [
       "                  Confirmed  Deaths  Recovered  Active           translate\n",
       "Country_Region                                                            \n",
       "US                   461437   16478      25410       0                 США\n",
       "Spain                153222   15447      52165   85610             Испания\n",
       "Italy                143626   18279      28470   96877              Италия\n",
       "France               118781   12228      23413   83140             Франция\n",
       "Germany              118181    2607      52407   63167            Германия\n",
       "...                     ...     ...        ...     ...                 ...\n",
       "Gambia                    4       1          2       1              Гамбия\n",
       "Burundi                   3       0          0       3             Бурунди\n",
       "South Sudan               3       0          0       3         Южный Судан\n",
       "Papua New Guinea          2       0          0       2  Папуа-Новая Гвинея\n",
       "Timor-Leste               1       0          0       1     Восточный Тимор\n",
       "\n",
       "[184 rows x 5 columns]"
      ]
     },
     "execution_count": 10,
     "metadata": {},
     "output_type": "execute_result"
    }
   ],
   "source": [
    "data = pd.concat([data, translate], axis=1, join='inner')\n",
    "data"
   ]
  },
  {
   "cell_type": "code",
   "execution_count": 11,
   "metadata": {},
   "outputs": [
    {
     "data": {
      "text/html": [
       "<div>\n",
       "<style scoped>\n",
       "    .dataframe tbody tr th:only-of-type {\n",
       "        vertical-align: middle;\n",
       "    }\n",
       "\n",
       "    .dataframe tbody tr th {\n",
       "        vertical-align: top;\n",
       "    }\n",
       "\n",
       "    .dataframe thead th {\n",
       "        text-align: right;\n",
       "    }\n",
       "</style>\n",
       "<table border=\"1\" class=\"dataframe\">\n",
       "  <thead>\n",
       "    <tr style=\"text-align: right;\">\n",
       "      <th></th>\n",
       "      <th>Confirmed</th>\n",
       "      <th>Deaths</th>\n",
       "      <th>Recovered</th>\n",
       "      <th>Active</th>\n",
       "      <th>translate</th>\n",
       "    </tr>\n",
       "    <tr>\n",
       "      <th>Country_Region</th>\n",
       "      <th></th>\n",
       "      <th></th>\n",
       "      <th></th>\n",
       "      <th></th>\n",
       "      <th></th>\n",
       "    </tr>\n",
       "  </thead>\n",
       "  <tbody>\n",
       "    <tr>\n",
       "      <td>US</td>\n",
       "      <td>461437</td>\n",
       "      <td>16478</td>\n",
       "      <td>25410</td>\n",
       "      <td>0</td>\n",
       "      <td>США</td>\n",
       "    </tr>\n",
       "    <tr>\n",
       "      <td>Spain</td>\n",
       "      <td>153222</td>\n",
       "      <td>15447</td>\n",
       "      <td>52165</td>\n",
       "      <td>85610</td>\n",
       "      <td>Испания</td>\n",
       "    </tr>\n",
       "    <tr>\n",
       "      <td>Italy</td>\n",
       "      <td>143626</td>\n",
       "      <td>18279</td>\n",
       "      <td>28470</td>\n",
       "      <td>96877</td>\n",
       "      <td>Италия</td>\n",
       "    </tr>\n",
       "    <tr>\n",
       "      <td>France</td>\n",
       "      <td>118781</td>\n",
       "      <td>12228</td>\n",
       "      <td>23413</td>\n",
       "      <td>83140</td>\n",
       "      <td>Франция</td>\n",
       "    </tr>\n",
       "    <tr>\n",
       "      <td>Germany</td>\n",
       "      <td>118181</td>\n",
       "      <td>2607</td>\n",
       "      <td>52407</td>\n",
       "      <td>63167</td>\n",
       "      <td>Германия</td>\n",
       "    </tr>\n",
       "    <tr>\n",
       "      <td>China</td>\n",
       "      <td>82883</td>\n",
       "      <td>3339</td>\n",
       "      <td>77679</td>\n",
       "      <td>1865</td>\n",
       "      <td>Китай</td>\n",
       "    </tr>\n",
       "    <tr>\n",
       "      <td>Iran</td>\n",
       "      <td>66220</td>\n",
       "      <td>4110</td>\n",
       "      <td>32309</td>\n",
       "      <td>29801</td>\n",
       "      <td>Иран</td>\n",
       "    </tr>\n",
       "    <tr>\n",
       "      <td>United Kingdom</td>\n",
       "      <td>65872</td>\n",
       "      <td>7993</td>\n",
       "      <td>359</td>\n",
       "      <td>57520</td>\n",
       "      <td>Великобритания</td>\n",
       "    </tr>\n",
       "    <tr>\n",
       "      <td>Turkey</td>\n",
       "      <td>42282</td>\n",
       "      <td>908</td>\n",
       "      <td>2142</td>\n",
       "      <td>39232</td>\n",
       "      <td>Турция</td>\n",
       "    </tr>\n",
       "    <tr>\n",
       "      <td>Belgium</td>\n",
       "      <td>24983</td>\n",
       "      <td>2523</td>\n",
       "      <td>5164</td>\n",
       "      <td>17296</td>\n",
       "      <td>Бельгия</td>\n",
       "    </tr>\n",
       "  </tbody>\n",
       "</table>\n",
       "</div>"
      ],
      "text/plain": [
       "                Confirmed  Deaths  Recovered  Active       translate\n",
       "Country_Region                                                      \n",
       "US                 461437   16478      25410       0             США\n",
       "Spain              153222   15447      52165   85610         Испания\n",
       "Italy              143626   18279      28470   96877          Италия\n",
       "France             118781   12228      23413   83140         Франция\n",
       "Germany            118181    2607      52407   63167        Германия\n",
       "China               82883    3339      77679    1865           Китай\n",
       "Iran                66220    4110      32309   29801            Иран\n",
       "United Kingdom      65872    7993        359   57520  Великобритания\n",
       "Turkey              42282     908       2142   39232          Турция\n",
       "Belgium             24983    2523       5164   17296         Бельгия"
      ]
     },
     "execution_count": 11,
     "metadata": {},
     "output_type": "execute_result"
    }
   ],
   "source": [
    "top = data[:10]\n",
    "top"
   ]
  },
  {
   "cell_type": "code",
   "execution_count": 12,
   "metadata": {},
   "outputs": [
    {
     "data": {
      "text/html": [
       "<div>\n",
       "<style scoped>\n",
       "    .dataframe tbody tr th:only-of-type {\n",
       "        vertical-align: middle;\n",
       "    }\n",
       "\n",
       "    .dataframe tbody tr th {\n",
       "        vertical-align: top;\n",
       "    }\n",
       "\n",
       "    .dataframe thead th {\n",
       "        text-align: right;\n",
       "    }\n",
       "</style>\n",
       "<table border=\"1\" class=\"dataframe\">\n",
       "  <thead>\n",
       "    <tr style=\"text-align: right;\">\n",
       "      <th></th>\n",
       "      <th>Confirmed</th>\n",
       "      <th>Deaths</th>\n",
       "      <th>Recovered</th>\n",
       "      <th>Active</th>\n",
       "      <th>translate</th>\n",
       "    </tr>\n",
       "    <tr>\n",
       "      <th>Country_Region</th>\n",
       "      <th></th>\n",
       "      <th></th>\n",
       "      <th></th>\n",
       "      <th></th>\n",
       "      <th></th>\n",
       "    </tr>\n",
       "  </thead>\n",
       "  <tbody>\n",
       "    <tr>\n",
       "      <td>Netherlands</td>\n",
       "      <td>21903</td>\n",
       "      <td>2403</td>\n",
       "      <td>278</td>\n",
       "      <td>19222</td>\n",
       "      <td>Нидерланды</td>\n",
       "    </tr>\n",
       "    <tr>\n",
       "      <td>Canada</td>\n",
       "      <td>20654</td>\n",
       "      <td>503</td>\n",
       "      <td>5162</td>\n",
       "      <td>0</td>\n",
       "      <td>Канада</td>\n",
       "    </tr>\n",
       "    <tr>\n",
       "      <td>Brazil</td>\n",
       "      <td>18092</td>\n",
       "      <td>950</td>\n",
       "      <td>173</td>\n",
       "      <td>16969</td>\n",
       "      <td>Бразилия</td>\n",
       "    </tr>\n",
       "    <tr>\n",
       "      <td>Portugal</td>\n",
       "      <td>13956</td>\n",
       "      <td>409</td>\n",
       "      <td>205</td>\n",
       "      <td>13342</td>\n",
       "      <td>Португалия</td>\n",
       "    </tr>\n",
       "    <tr>\n",
       "      <td>Austria</td>\n",
       "      <td>13244</td>\n",
       "      <td>295</td>\n",
       "      <td>5240</td>\n",
       "      <td>7709</td>\n",
       "      <td>Австрия</td>\n",
       "    </tr>\n",
       "    <tr>\n",
       "      <td>...</td>\n",
       "      <td>...</td>\n",
       "      <td>...</td>\n",
       "      <td>...</td>\n",
       "      <td>...</td>\n",
       "      <td>...</td>\n",
       "    </tr>\n",
       "    <tr>\n",
       "      <td>Gambia</td>\n",
       "      <td>4</td>\n",
       "      <td>1</td>\n",
       "      <td>2</td>\n",
       "      <td>1</td>\n",
       "      <td>Гамбия</td>\n",
       "    </tr>\n",
       "    <tr>\n",
       "      <td>Burundi</td>\n",
       "      <td>3</td>\n",
       "      <td>0</td>\n",
       "      <td>0</td>\n",
       "      <td>3</td>\n",
       "      <td>Бурунди</td>\n",
       "    </tr>\n",
       "    <tr>\n",
       "      <td>South Sudan</td>\n",
       "      <td>3</td>\n",
       "      <td>0</td>\n",
       "      <td>0</td>\n",
       "      <td>3</td>\n",
       "      <td>Южный Судан</td>\n",
       "    </tr>\n",
       "    <tr>\n",
       "      <td>Papua New Guinea</td>\n",
       "      <td>2</td>\n",
       "      <td>0</td>\n",
       "      <td>0</td>\n",
       "      <td>2</td>\n",
       "      <td>Папуа-Новая Гвинея</td>\n",
       "    </tr>\n",
       "    <tr>\n",
       "      <td>Timor-Leste</td>\n",
       "      <td>1</td>\n",
       "      <td>0</td>\n",
       "      <td>0</td>\n",
       "      <td>1</td>\n",
       "      <td>Восточный Тимор</td>\n",
       "    </tr>\n",
       "  </tbody>\n",
       "</table>\n",
       "<p>173 rows × 5 columns</p>\n",
       "</div>"
      ],
      "text/plain": [
       "                  Confirmed  Deaths  Recovered  Active           translate\n",
       "Country_Region                                                            \n",
       "Netherlands           21903    2403        278   19222          Нидерланды\n",
       "Canada                20654     503       5162       0              Канада\n",
       "Brazil                18092     950        173   16969            Бразилия\n",
       "Portugal              13956     409        205   13342          Португалия\n",
       "Austria               13244     295       5240    7709             Австрия\n",
       "...                     ...     ...        ...     ...                 ...\n",
       "Gambia                    4       1          2       1              Гамбия\n",
       "Burundi                   3       0          0       3             Бурунди\n",
       "South Sudan               3       0          0       3         Южный Судан\n",
       "Papua New Guinea          2       0          0       2  Папуа-Новая Гвинея\n",
       "Timor-Leste               1       0          0       1     Восточный Тимор\n",
       "\n",
       "[173 rows x 5 columns]"
      ]
     },
     "execution_count": 12,
     "metadata": {},
     "output_type": "execute_result"
    }
   ],
   "source": [
    "others = data[11:]\n",
    "others"
   ]
  },
  {
   "cell_type": "code",
   "execution_count": 13,
   "metadata": {},
   "outputs": [
    {
     "data": {
      "text/html": [
       "<div>\n",
       "<style scoped>\n",
       "    .dataframe tbody tr th:only-of-type {\n",
       "        vertical-align: middle;\n",
       "    }\n",
       "\n",
       "    .dataframe tbody tr th {\n",
       "        vertical-align: top;\n",
       "    }\n",
       "\n",
       "    .dataframe thead th {\n",
       "        text-align: right;\n",
       "    }\n",
       "</style>\n",
       "<table border=\"1\" class=\"dataframe\">\n",
       "  <thead>\n",
       "    <tr style=\"text-align: right;\">\n",
       "      <th></th>\n",
       "      <th>Confirmed</th>\n",
       "      <th>Deaths</th>\n",
       "      <th>Recovered</th>\n",
       "      <th>Active</th>\n",
       "      <th>translate</th>\n",
       "    </tr>\n",
       "  </thead>\n",
       "  <tbody>\n",
       "    <tr>\n",
       "      <td>Russia</td>\n",
       "      <td>10131</td>\n",
       "      <td>76</td>\n",
       "      <td>698</td>\n",
       "      <td>9357</td>\n",
       "      <td>Россия</td>\n",
       "    </tr>\n",
       "  </tbody>\n",
       "</table>\n",
       "</div>"
      ],
      "text/plain": [
       "       Confirmed Deaths Recovered Active translate\n",
       "Russia     10131     76       698   9357    Россия"
      ]
     },
     "execution_count": 13,
     "metadata": {},
     "output_type": "execute_result"
    }
   ],
   "source": [
    "russia = pd.DataFrame(data.loc['Russia']).T\n",
    "russia"
   ]
  },
  {
   "cell_type": "code",
   "execution_count": 28,
   "metadata": {
    "scrolled": false
   },
   "outputs": [
    {
     "data": {
      "application/vnd.plotly.v1+json": {
       "config": {
        "plotlyServerURL": "https://plot.ly"
       },
       "data": [
        {
         "marker": {
          "color": "rgba(255,0,0,1)"
         },
         "mode": "markers+text",
         "name": "Top-10",
         "text": [
          "США",
          "Испания",
          "Италия",
          "Франция",
          "Германия",
          "Китай",
          "Иран",
          "Великобритания",
          "Турция",
          "Бельгия"
         ],
         "textposition": "middle right",
         "type": "scatter",
         "x": [
          16478,
          15447,
          18279,
          12228,
          2607,
          3339,
          4110,
          7993,
          908,
          2523
         ],
         "y": [
          25410,
          52165,
          28470,
          23413,
          52407,
          77679,
          32309,
          359,
          2142,
          5164
         ]
        },
        {
         "marker": {
          "color": "rgba(200,200,200, 1)"
         },
         "mode": "markers",
         "name": "Other world",
         "text": [
          "Нидерланды",
          "Канада",
          "Бразилия",
          "Португалия",
          "Австрия",
          "Южная Корея",
          "Россия",
          "Израиль",
          "Швеция",
          "Индия",
          "Ирландия",
          "Норвегия",
          "Австралия",
          "Чили",
          "Дания",
          "Польша",
          "Чехия",
          "Перу",
          "Румыния",
          "Эквадор",
          "Япония",
          "Пакистан",
          "Малайзия",
          "Филиппины",
          "Индонезия",
          "Саудовская Аравия",
          "Мексика",
          "Люксембург",
          "Объединенные Арабские Эмираты",
          "Сербия",
          "Финляндия",
          "Панама",
          "Таиланд",
          "Катар",
          "Доминиканская Республика",
          "Колумбия",
          "Греция",
          "Южная Африка",
          "Сингапур",
          "Украина",
          "Аргентина",
          "Египет",
          "Алжир",
          "Исландия",
          "Беларусь",
          "Хорватия",
          "Марокко",
          "Молдова",
          "Новая Зеландия",
          "Ирак",
          "Эстония",
          "Словения",
          "Венгрия",
          "Литва",
          "Азербайджан",
          "Армения",
          "Кувейт",
          "Бахрейн",
          "Босния и Герцеговина",
          "Казахстан",
          "Камерун",
          "Алмазная принцесса",
          "Словакия",
          "Северная Македония",
          "Тунис",
          "Болгария",
          "Латвия",
          "Андорра",
          "Ливан",
          "Узбекистан",
          "Кипр",
          "Коста-Рика",
          "Куба",
          "Афганистан",
          "Оман",
          "Уругвай",
          "Кот-д'Ивуар",
          "Буркина-Фасо",
          "Нигер",
          "Албания",
          "Тайвань *",
          "Гана",
          "Иордания",
          "Гондурас",
          "Мальта",
          "Сан-Марино",
          "Бангладеш",
          "Маврикий",
          "Нигерия",
          "Кыргызстан",
          "Боливия",
          "Западный берег и сектор Газа",
          "Вьетнам",
          "Черногория",
          "Сенегал",
          "Грузия",
          "Гвинея",
          "Шри-Ланка",
          "Косово",
          "Кения",
          "Конго (Киншаса)",
          "Венесуэла",
          "Джибути",
          "Бруней",
          "Парагвай",
          "Камбоджа",
          "Руанда",
          "Тринидад и Тобаго",
          "Сальвадор",
          "Гватемала",
          "Мадагаскар",
          "Монако",
          "Лихтенштейн",
          "Мали",
          "Того",
          "Барбадос",
          "Ямайка",
          "Конго (Браззавиль)",
          "Эфиопия",
          "Уганда",
          "Габон",
          "Багамские о-ва",
          "Замбия",
          "Гайана",
          "Гвинея-Бисау",
          "Эритрея",
          "Либерия",
          "Гаити",
          "Бенин",
          "Танзания",
          "Ливия",
          "Бирма",
          "Мальдивские о-ва",
          "Сирия",
          "Антигуа и Барбуда",
          "Ангола",
          "Экваториальная Гвинея",
          "Мозамбик",
          "Намибия",
          "Лаос",
          "Монголия",
          "Фиджи",
          "Доминика",
          "Судан",
          "Сент-Люсия",
          "Ботсвана",
          "Гренада",
          "Сент-Винсент и Гренадины",
          "Сомали",
          "Eswatini",
          "Зимбабве",
          "Чад",
          "Сент-Китс и Невис",
          "Сейшелы",
          "Суринам",
          "MS Зандам",
          "Непал",
          "Белиз",
          "Малави",
          "Святой Престол",
          "Центрально-Африканская Республика",
          "Никарагуа",
          "Мавритания",
          "Сьерра-Леоне",
          "Кабо-Верде",
          "Бутан",
          "Сан-Томе и Принсипи",
          "Западная Сахара",
          "Гамбия",
          "Бурунди",
          "Южный Судан",
          "Папуа-Новая Гвинея",
          "Восточный Тимор"
         ],
         "type": "scatter",
         "x": [
          2403,
          503,
          950,
          409,
          295,
          204,
          76,
          86,
          793,
          226,
          263,
          108,
          51,
          57,
          237,
          174,
          112,
          138,
          248,
          272,
          94,
          65,
          67,
          203,
          280,
          44,
          174,
          52,
          14,
          66,
          42,
          63,
          32,
          6,
          118,
          69,
          87,
          18,
          6,
          57,
          72,
          118,
          235,
          6,
          16,
          20,
          97,
          29,
          1,
          69,
          24,
          43,
          66,
          16,
          9,
          10,
          1,
          5,
          35,
          8,
          10,
          11,
          2,
          30,
          25,
          24,
          3,
          25,
          19,
          3,
          10,
          3,
          15,
          15,
          3,
          7,
          3,
          24,
          11,
          23,
          5,
          6,
          7,
          23,
          2,
          34,
          21,
          7,
          7,
          4,
          18,
          1,
          0,
          2,
          2,
          3,
          0,
          7,
          5,
          7,
          18,
          9,
          0,
          1,
          5,
          0,
          0,
          8,
          6,
          3,
          0,
          1,
          1,
          7,
          3,
          3,
          4,
          5,
          2,
          0,
          1,
          8,
          1,
          6,
          0,
          0,
          4,
          2,
          1,
          1,
          1,
          3,
          0,
          2,
          2,
          2,
          0,
          0,
          0,
          0,
          0,
          0,
          0,
          2,
          0,
          1,
          0,
          0,
          1,
          0,
          3,
          0,
          0,
          0,
          1,
          2,
          0,
          1,
          1,
          0,
          0,
          1,
          1,
          0,
          1,
          0,
          0,
          0,
          1,
          0,
          0,
          0,
          0
         ],
         "y": [
          278,
          5162,
          173,
          205,
          5240,
          6973,
          698,
          1011,
          205,
          620,
          25,
          32,
          1472,
          1274,
          1883,
          284,
          301,
          1438,
          647,
          339,
          632,
          572,
          1608,
          124,
          252,
          666,
          633,
          500,
          268,
          0,
          300,
          16,
          940,
          206,
          80,
          174,
          269,
          95,
          460,
          45,
          365,
          348,
          347,
          688,
          139,
          219,
          109,
          50,
          317,
          496,
          83,
          128,
          96,
          8,
          101,
          138,
          111,
          519,
          101,
          60,
          60,
          619,
          23,
          37,
          25,
          48,
          16,
          58,
          67,
          38,
          53,
          30,
          28,
          32,
          109,
          192,
          52,
          146,
          40,
          165,
          67,
          3,
          161,
          6,
          16,
          49,
          33,
          23,
          51,
          35,
          2,
          44,
          128,
          4,
          123,
          51,
          11,
          49,
          30,
          12,
          9,
          84,
          25,
          92,
          18,
          62,
          7,
          1,
          14,
          17,
          11,
          5,
          55,
          22,
          24,
          11,
          12,
          5,
          4,
          0,
          1,
          5,
          24,
          8,
          0,
          0,
          3,
          0,
          5,
          5,
          8,
          2,
          13,
          4,
          0,
          2,
          3,
          1,
          3,
          0,
          4,
          0,
          1,
          2,
          1,
          0,
          0,
          1,
          1,
          7,
          0,
          2,
          0,
          0,
          4,
          0,
          1,
          0,
          0,
          2,
          0,
          0,
          2,
          0,
          1,
          2,
          0,
          0,
          2,
          0,
          0,
          0,
          0
         ]
        },
        {
         "marker": {
          "color": "rgba(0,0,255,1)"
         },
         "mode": "markers+text",
         "name": "Russia",
         "text": [
          "Россия"
         ],
         "textposition": "middle right",
         "type": "scatter",
         "x": [
          76
         ],
         "y": [
          698
         ]
        }
       ],
       "layout": {
        "annotations": [
         {
          "showarrow": false,
          "text": "© Алексей Новичков, dataviz.ru. Источник: Johns Hopkins CSSE. Дата: 09.04.2020",
          "x": 0,
          "xanchor": "left",
          "xshift": -50,
          "y": 0,
          "yshift": -70
         }
        ],
        "font": {
         "color": "rgb(0,0,0)",
         "family": "Navigo",
         "size": 12
        },
        "height": 800,
        "margin": {
         "b": 120,
         "l": 70,
         "r": 70,
         "t": 100
        },
        "paper_bgcolor": "white",
        "showlegend": false,
        "template": {
         "data": {
          "bar": [
           {
            "error_x": {
             "color": "#2a3f5f"
            },
            "error_y": {
             "color": "#2a3f5f"
            },
            "marker": {
             "line": {
              "color": "white",
              "width": 0.5
             }
            },
            "type": "bar"
           }
          ],
          "barpolar": [
           {
            "marker": {
             "line": {
              "color": "white",
              "width": 0.5
             }
            },
            "type": "barpolar"
           }
          ],
          "carpet": [
           {
            "aaxis": {
             "endlinecolor": "#2a3f5f",
             "gridcolor": "#C8D4E3",
             "linecolor": "#C8D4E3",
             "minorgridcolor": "#C8D4E3",
             "startlinecolor": "#2a3f5f"
            },
            "baxis": {
             "endlinecolor": "#2a3f5f",
             "gridcolor": "#C8D4E3",
             "linecolor": "#C8D4E3",
             "minorgridcolor": "#C8D4E3",
             "startlinecolor": "#2a3f5f"
            },
            "type": "carpet"
           }
          ],
          "choropleth": [
           {
            "colorbar": {
             "outlinewidth": 0,
             "ticks": ""
            },
            "type": "choropleth"
           }
          ],
          "contour": [
           {
            "colorbar": {
             "outlinewidth": 0,
             "ticks": ""
            },
            "colorscale": [
             [
              0,
              "#0d0887"
             ],
             [
              0.1111111111111111,
              "#46039f"
             ],
             [
              0.2222222222222222,
              "#7201a8"
             ],
             [
              0.3333333333333333,
              "#9c179e"
             ],
             [
              0.4444444444444444,
              "#bd3786"
             ],
             [
              0.5555555555555556,
              "#d8576b"
             ],
             [
              0.6666666666666666,
              "#ed7953"
             ],
             [
              0.7777777777777778,
              "#fb9f3a"
             ],
             [
              0.8888888888888888,
              "#fdca26"
             ],
             [
              1,
              "#f0f921"
             ]
            ],
            "type": "contour"
           }
          ],
          "contourcarpet": [
           {
            "colorbar": {
             "outlinewidth": 0,
             "ticks": ""
            },
            "type": "contourcarpet"
           }
          ],
          "heatmap": [
           {
            "colorbar": {
             "outlinewidth": 0,
             "ticks": ""
            },
            "colorscale": [
             [
              0,
              "#0d0887"
             ],
             [
              0.1111111111111111,
              "#46039f"
             ],
             [
              0.2222222222222222,
              "#7201a8"
             ],
             [
              0.3333333333333333,
              "#9c179e"
             ],
             [
              0.4444444444444444,
              "#bd3786"
             ],
             [
              0.5555555555555556,
              "#d8576b"
             ],
             [
              0.6666666666666666,
              "#ed7953"
             ],
             [
              0.7777777777777778,
              "#fb9f3a"
             ],
             [
              0.8888888888888888,
              "#fdca26"
             ],
             [
              1,
              "#f0f921"
             ]
            ],
            "type": "heatmap"
           }
          ],
          "heatmapgl": [
           {
            "colorbar": {
             "outlinewidth": 0,
             "ticks": ""
            },
            "colorscale": [
             [
              0,
              "#0d0887"
             ],
             [
              0.1111111111111111,
              "#46039f"
             ],
             [
              0.2222222222222222,
              "#7201a8"
             ],
             [
              0.3333333333333333,
              "#9c179e"
             ],
             [
              0.4444444444444444,
              "#bd3786"
             ],
             [
              0.5555555555555556,
              "#d8576b"
             ],
             [
              0.6666666666666666,
              "#ed7953"
             ],
             [
              0.7777777777777778,
              "#fb9f3a"
             ],
             [
              0.8888888888888888,
              "#fdca26"
             ],
             [
              1,
              "#f0f921"
             ]
            ],
            "type": "heatmapgl"
           }
          ],
          "histogram": [
           {
            "marker": {
             "colorbar": {
              "outlinewidth": 0,
              "ticks": ""
             }
            },
            "type": "histogram"
           }
          ],
          "histogram2d": [
           {
            "colorbar": {
             "outlinewidth": 0,
             "ticks": ""
            },
            "colorscale": [
             [
              0,
              "#0d0887"
             ],
             [
              0.1111111111111111,
              "#46039f"
             ],
             [
              0.2222222222222222,
              "#7201a8"
             ],
             [
              0.3333333333333333,
              "#9c179e"
             ],
             [
              0.4444444444444444,
              "#bd3786"
             ],
             [
              0.5555555555555556,
              "#d8576b"
             ],
             [
              0.6666666666666666,
              "#ed7953"
             ],
             [
              0.7777777777777778,
              "#fb9f3a"
             ],
             [
              0.8888888888888888,
              "#fdca26"
             ],
             [
              1,
              "#f0f921"
             ]
            ],
            "type": "histogram2d"
           }
          ],
          "histogram2dcontour": [
           {
            "colorbar": {
             "outlinewidth": 0,
             "ticks": ""
            },
            "colorscale": [
             [
              0,
              "#0d0887"
             ],
             [
              0.1111111111111111,
              "#46039f"
             ],
             [
              0.2222222222222222,
              "#7201a8"
             ],
             [
              0.3333333333333333,
              "#9c179e"
             ],
             [
              0.4444444444444444,
              "#bd3786"
             ],
             [
              0.5555555555555556,
              "#d8576b"
             ],
             [
              0.6666666666666666,
              "#ed7953"
             ],
             [
              0.7777777777777778,
              "#fb9f3a"
             ],
             [
              0.8888888888888888,
              "#fdca26"
             ],
             [
              1,
              "#f0f921"
             ]
            ],
            "type": "histogram2dcontour"
           }
          ],
          "mesh3d": [
           {
            "colorbar": {
             "outlinewidth": 0,
             "ticks": ""
            },
            "type": "mesh3d"
           }
          ],
          "parcoords": [
           {
            "line": {
             "colorbar": {
              "outlinewidth": 0,
              "ticks": ""
             }
            },
            "type": "parcoords"
           }
          ],
          "pie": [
           {
            "automargin": true,
            "type": "pie"
           }
          ],
          "scatter": [
           {
            "marker": {
             "colorbar": {
              "outlinewidth": 0,
              "ticks": ""
             }
            },
            "type": "scatter"
           }
          ],
          "scatter3d": [
           {
            "line": {
             "colorbar": {
              "outlinewidth": 0,
              "ticks": ""
             }
            },
            "marker": {
             "colorbar": {
              "outlinewidth": 0,
              "ticks": ""
             }
            },
            "type": "scatter3d"
           }
          ],
          "scattercarpet": [
           {
            "marker": {
             "colorbar": {
              "outlinewidth": 0,
              "ticks": ""
             }
            },
            "type": "scattercarpet"
           }
          ],
          "scattergeo": [
           {
            "marker": {
             "colorbar": {
              "outlinewidth": 0,
              "ticks": ""
             }
            },
            "type": "scattergeo"
           }
          ],
          "scattergl": [
           {
            "marker": {
             "colorbar": {
              "outlinewidth": 0,
              "ticks": ""
             }
            },
            "type": "scattergl"
           }
          ],
          "scattermapbox": [
           {
            "marker": {
             "colorbar": {
              "outlinewidth": 0,
              "ticks": ""
             }
            },
            "type": "scattermapbox"
           }
          ],
          "scatterpolar": [
           {
            "marker": {
             "colorbar": {
              "outlinewidth": 0,
              "ticks": ""
             }
            },
            "type": "scatterpolar"
           }
          ],
          "scatterpolargl": [
           {
            "marker": {
             "colorbar": {
              "outlinewidth": 0,
              "ticks": ""
             }
            },
            "type": "scatterpolargl"
           }
          ],
          "scatterternary": [
           {
            "marker": {
             "colorbar": {
              "outlinewidth": 0,
              "ticks": ""
             }
            },
            "type": "scatterternary"
           }
          ],
          "surface": [
           {
            "colorbar": {
             "outlinewidth": 0,
             "ticks": ""
            },
            "colorscale": [
             [
              0,
              "#0d0887"
             ],
             [
              0.1111111111111111,
              "#46039f"
             ],
             [
              0.2222222222222222,
              "#7201a8"
             ],
             [
              0.3333333333333333,
              "#9c179e"
             ],
             [
              0.4444444444444444,
              "#bd3786"
             ],
             [
              0.5555555555555556,
              "#d8576b"
             ],
             [
              0.6666666666666666,
              "#ed7953"
             ],
             [
              0.7777777777777778,
              "#fb9f3a"
             ],
             [
              0.8888888888888888,
              "#fdca26"
             ],
             [
              1,
              "#f0f921"
             ]
            ],
            "type": "surface"
           }
          ],
          "table": [
           {
            "cells": {
             "fill": {
              "color": "#EBF0F8"
             },
             "line": {
              "color": "white"
             }
            },
            "header": {
             "fill": {
              "color": "#C8D4E3"
             },
             "line": {
              "color": "white"
             }
            },
            "type": "table"
           }
          ]
         },
         "layout": {
          "annotationdefaults": {
           "arrowcolor": "#2a3f5f",
           "arrowhead": 0,
           "arrowwidth": 1
          },
          "coloraxis": {
           "colorbar": {
            "outlinewidth": 0,
            "ticks": ""
           }
          },
          "colorscale": {
           "diverging": [
            [
             0,
             "#8e0152"
            ],
            [
             0.1,
             "#c51b7d"
            ],
            [
             0.2,
             "#de77ae"
            ],
            [
             0.3,
             "#f1b6da"
            ],
            [
             0.4,
             "#fde0ef"
            ],
            [
             0.5,
             "#f7f7f7"
            ],
            [
             0.6,
             "#e6f5d0"
            ],
            [
             0.7,
             "#b8e186"
            ],
            [
             0.8,
             "#7fbc41"
            ],
            [
             0.9,
             "#4d9221"
            ],
            [
             1,
             "#276419"
            ]
           ],
           "sequential": [
            [
             0,
             "#0d0887"
            ],
            [
             0.1111111111111111,
             "#46039f"
            ],
            [
             0.2222222222222222,
             "#7201a8"
            ],
            [
             0.3333333333333333,
             "#9c179e"
            ],
            [
             0.4444444444444444,
             "#bd3786"
            ],
            [
             0.5555555555555556,
             "#d8576b"
            ],
            [
             0.6666666666666666,
             "#ed7953"
            ],
            [
             0.7777777777777778,
             "#fb9f3a"
            ],
            [
             0.8888888888888888,
             "#fdca26"
            ],
            [
             1,
             "#f0f921"
            ]
           ],
           "sequentialminus": [
            [
             0,
             "#0d0887"
            ],
            [
             0.1111111111111111,
             "#46039f"
            ],
            [
             0.2222222222222222,
             "#7201a8"
            ],
            [
             0.3333333333333333,
             "#9c179e"
            ],
            [
             0.4444444444444444,
             "#bd3786"
            ],
            [
             0.5555555555555556,
             "#d8576b"
            ],
            [
             0.6666666666666666,
             "#ed7953"
            ],
            [
             0.7777777777777778,
             "#fb9f3a"
            ],
            [
             0.8888888888888888,
             "#fdca26"
            ],
            [
             1,
             "#f0f921"
            ]
           ]
          },
          "colorway": [
           "#636efa",
           "#EF553B",
           "#00cc96",
           "#ab63fa",
           "#FFA15A",
           "#19d3f3",
           "#FF6692",
           "#B6E880",
           "#FF97FF",
           "#FECB52"
          ],
          "font": {
           "color": "#2a3f5f"
          },
          "geo": {
           "bgcolor": "white",
           "lakecolor": "white",
           "landcolor": "white",
           "showlakes": true,
           "showland": true,
           "subunitcolor": "#C8D4E3"
          },
          "hoverlabel": {
           "align": "left"
          },
          "hovermode": "closest",
          "mapbox": {
           "style": "light"
          },
          "paper_bgcolor": "white",
          "plot_bgcolor": "white",
          "polar": {
           "angularaxis": {
            "gridcolor": "#EBF0F8",
            "linecolor": "#EBF0F8",
            "ticks": ""
           },
           "bgcolor": "white",
           "radialaxis": {
            "gridcolor": "#EBF0F8",
            "linecolor": "#EBF0F8",
            "ticks": ""
           }
          },
          "scene": {
           "xaxis": {
            "backgroundcolor": "white",
            "gridcolor": "#DFE8F3",
            "gridwidth": 2,
            "linecolor": "#EBF0F8",
            "showbackground": true,
            "ticks": "",
            "zerolinecolor": "#EBF0F8"
           },
           "yaxis": {
            "backgroundcolor": "white",
            "gridcolor": "#DFE8F3",
            "gridwidth": 2,
            "linecolor": "#EBF0F8",
            "showbackground": true,
            "ticks": "",
            "zerolinecolor": "#EBF0F8"
           },
           "zaxis": {
            "backgroundcolor": "white",
            "gridcolor": "#DFE8F3",
            "gridwidth": 2,
            "linecolor": "#EBF0F8",
            "showbackground": true,
            "ticks": "",
            "zerolinecolor": "#EBF0F8"
           }
          },
          "shapedefaults": {
           "line": {
            "color": "#2a3f5f"
           }
          },
          "ternary": {
           "aaxis": {
            "gridcolor": "#DFE8F3",
            "linecolor": "#A2B1C6",
            "ticks": ""
           },
           "baxis": {
            "gridcolor": "#DFE8F3",
            "linecolor": "#A2B1C6",
            "ticks": ""
           },
           "bgcolor": "white",
           "caxis": {
            "gridcolor": "#DFE8F3",
            "linecolor": "#A2B1C6",
            "ticks": ""
           }
          },
          "title": {
           "x": 0.05
          },
          "xaxis": {
           "automargin": true,
           "gridcolor": "#EBF0F8",
           "linecolor": "#EBF0F8",
           "ticks": "",
           "title": {
            "standoff": 15
           },
           "zerolinecolor": "#EBF0F8",
           "zerolinewidth": 2
          },
          "yaxis": {
           "automargin": true,
           "gridcolor": "#EBF0F8",
           "linecolor": "#EBF0F8",
           "ticks": "",
           "title": {
            "standoff": 15
           },
           "zerolinecolor": "#EBF0F8",
           "zerolinewidth": 2
          }
         }
        },
        "title": {
         "font": {
          "color": "rgb(0,0,0)",
          "family": "Navigo",
          "size": 28
         },
         "text": "Количество умерших и выздоровевших от COVID-19",
         "x": 0.03,
         "xanchor": "left",
         "y": 0.955,
         "yanchor": "top"
        },
        "width": 800,
        "xaxis": {
         "autorange": false,
         "gridcolor": "rgba(230,230,230,1)",
         "linecolor": "rgba(200,200,200,1)",
         "linewidth": 1,
         "range": [
          0,
          20000
         ],
         "showgrid": true,
         "showline": true,
         "tickcolor": "rgba(200,200,200,1)",
         "tickfont": {
          "color": "rgba(100,100,100,1)",
          "size": 12
         },
         "ticks": "outside",
         "ticktext": [
          "0",
          "5",
          "10",
          "15",
          "20"
         ],
         "tickvals": [
          0,
          5000,
          10000,
          15000,
          20000
         ],
         "title": {
          "standoff": 5,
          "text": "Умершие (тыс.чел.)"
         },
         "type": "linear"
        },
        "yaxis": {
         "autorange": false,
         "gridcolor": "rgba(230,230,230,1)",
         "linecolor": "rgba(200,200,200,1)",
         "linewidth": 1,
         "range": [
          0,
          80000
         ],
         "showgrid": true,
         "showline": true,
         "tickcolor": "rgba(200,200,200,1)",
         "tickfont": {
          "color": "rgba(100,100,100,1)",
          "size": 12
         },
         "ticks": "outside",
         "ticktext": [
          "0",
          "20",
          "40",
          "60",
          "80"
         ],
         "tickvals": [
          0,
          20000,
          40000,
          60000,
          80000
         ],
         "title": {
          "standoff": 5,
          "text": "Выздоровевшие (тыс.чел.)"
         },
         "type": "linear"
        }
       }
      },
      "text/html": [
       "<div>\n",
       "        \n",
       "        \n",
       "            <div id=\"420cc226-374d-41d2-8830-6cfb378a27c2\" class=\"plotly-graph-div\" style=\"height:800px; width:800px;\"></div>\n",
       "            <script type=\"text/javascript\">\n",
       "                require([\"plotly\"], function(Plotly) {\n",
       "                    window.PLOTLYENV=window.PLOTLYENV || {};\n",
       "                    \n",
       "                if (document.getElementById(\"420cc226-374d-41d2-8830-6cfb378a27c2\")) {\n",
       "                    Plotly.newPlot(\n",
       "                        '420cc226-374d-41d2-8830-6cfb378a27c2',\n",
       "                        [{\"marker\": {\"color\": \"rgba(255,0,0,1)\"}, \"mode\": \"markers+text\", \"name\": \"Top-10\", \"text\": [\"\\u0421\\u0428\\u0410\", \"\\u0418\\u0441\\u043f\\u0430\\u043d\\u0438\\u044f\", \"\\u0418\\u0442\\u0430\\u043b\\u0438\\u044f\", \"\\u0424\\u0440\\u0430\\u043d\\u0446\\u0438\\u044f\", \"\\u0413\\u0435\\u0440\\u043c\\u0430\\u043d\\u0438\\u044f\", \"\\u041a\\u0438\\u0442\\u0430\\u0439\", \"\\u0418\\u0440\\u0430\\u043d\", \"\\u0412\\u0435\\u043b\\u0438\\u043a\\u043e\\u0431\\u0440\\u0438\\u0442\\u0430\\u043d\\u0438\\u044f\", \"\\u0422\\u0443\\u0440\\u0446\\u0438\\u044f\", \"\\u0411\\u0435\\u043b\\u044c\\u0433\\u0438\\u044f\"], \"textposition\": \"middle right\", \"type\": \"scatter\", \"x\": [16478, 15447, 18279, 12228, 2607, 3339, 4110, 7993, 908, 2523], \"y\": [25410, 52165, 28470, 23413, 52407, 77679, 32309, 359, 2142, 5164]}, {\"marker\": {\"color\": \"rgba(200,200,200, 1)\"}, \"mode\": \"markers\", \"name\": \"Other world\", \"text\": [\"\\u041d\\u0438\\u0434\\u0435\\u0440\\u043b\\u0430\\u043d\\u0434\\u044b\", \"\\u041a\\u0430\\u043d\\u0430\\u0434\\u0430\", \"\\u0411\\u0440\\u0430\\u0437\\u0438\\u043b\\u0438\\u044f\", \"\\u041f\\u043e\\u0440\\u0442\\u0443\\u0433\\u0430\\u043b\\u0438\\u044f\", \"\\u0410\\u0432\\u0441\\u0442\\u0440\\u0438\\u044f\", \"\\u042e\\u0436\\u043d\\u0430\\u044f \\u041a\\u043e\\u0440\\u0435\\u044f\", \"\\u0420\\u043e\\u0441\\u0441\\u0438\\u044f\", \"\\u0418\\u0437\\u0440\\u0430\\u0438\\u043b\\u044c\", \"\\u0428\\u0432\\u0435\\u0446\\u0438\\u044f\", \"\\u0418\\u043d\\u0434\\u0438\\u044f\", \"\\u0418\\u0440\\u043b\\u0430\\u043d\\u0434\\u0438\\u044f\", \"\\u041d\\u043e\\u0440\\u0432\\u0435\\u0433\\u0438\\u044f\", \"\\u0410\\u0432\\u0441\\u0442\\u0440\\u0430\\u043b\\u0438\\u044f\", \"\\u0427\\u0438\\u043b\\u0438\", \"\\u0414\\u0430\\u043d\\u0438\\u044f\", \"\\u041f\\u043e\\u043b\\u044c\\u0448\\u0430\", \"\\u0427\\u0435\\u0445\\u0438\\u044f\", \"\\u041f\\u0435\\u0440\\u0443\", \"\\u0420\\u0443\\u043c\\u044b\\u043d\\u0438\\u044f\", \"\\u042d\\u043a\\u0432\\u0430\\u0434\\u043e\\u0440\", \"\\u042f\\u043f\\u043e\\u043d\\u0438\\u044f\", \"\\u041f\\u0430\\u043a\\u0438\\u0441\\u0442\\u0430\\u043d\", \"\\u041c\\u0430\\u043b\\u0430\\u0439\\u0437\\u0438\\u044f\", \"\\u0424\\u0438\\u043b\\u0438\\u043f\\u043f\\u0438\\u043d\\u044b\", \"\\u0418\\u043d\\u0434\\u043e\\u043d\\u0435\\u0437\\u0438\\u044f\", \"\\u0421\\u0430\\u0443\\u0434\\u043e\\u0432\\u0441\\u043a\\u0430\\u044f \\u0410\\u0440\\u0430\\u0432\\u0438\\u044f\", \"\\u041c\\u0435\\u043a\\u0441\\u0438\\u043a\\u0430\", \"\\u041b\\u044e\\u043a\\u0441\\u0435\\u043c\\u0431\\u0443\\u0440\\u0433\", \"\\u041e\\u0431\\u044a\\u0435\\u0434\\u0438\\u043d\\u0435\\u043d\\u043d\\u044b\\u0435 \\u0410\\u0440\\u0430\\u0431\\u0441\\u043a\\u0438\\u0435 \\u042d\\u043c\\u0438\\u0440\\u0430\\u0442\\u044b\", \"\\u0421\\u0435\\u0440\\u0431\\u0438\\u044f\", \"\\u0424\\u0438\\u043d\\u043b\\u044f\\u043d\\u0434\\u0438\\u044f\", \"\\u041f\\u0430\\u043d\\u0430\\u043c\\u0430\", \"\\u0422\\u0430\\u0438\\u043b\\u0430\\u043d\\u0434\", \"\\u041a\\u0430\\u0442\\u0430\\u0440\", \"\\u0414\\u043e\\u043c\\u0438\\u043d\\u0438\\u043a\\u0430\\u043d\\u0441\\u043a\\u0430\\u044f \\u0420\\u0435\\u0441\\u043f\\u0443\\u0431\\u043b\\u0438\\u043a\\u0430\", \"\\u041a\\u043e\\u043b\\u0443\\u043c\\u0431\\u0438\\u044f\", \"\\u0413\\u0440\\u0435\\u0446\\u0438\\u044f\", \"\\u042e\\u0436\\u043d\\u0430\\u044f \\u0410\\u0444\\u0440\\u0438\\u043a\\u0430\", \"\\u0421\\u0438\\u043d\\u0433\\u0430\\u043f\\u0443\\u0440\", \"\\u0423\\u043a\\u0440\\u0430\\u0438\\u043d\\u0430\", \"\\u0410\\u0440\\u0433\\u0435\\u043d\\u0442\\u0438\\u043d\\u0430\", \"\\u0415\\u0433\\u0438\\u043f\\u0435\\u0442\", \"\\u0410\\u043b\\u0436\\u0438\\u0440\", \"\\u0418\\u0441\\u043b\\u0430\\u043d\\u0434\\u0438\\u044f\", \"\\u0411\\u0435\\u043b\\u0430\\u0440\\u0443\\u0441\\u044c\", \"\\u0425\\u043e\\u0440\\u0432\\u0430\\u0442\\u0438\\u044f\", \"\\u041c\\u0430\\u0440\\u043e\\u043a\\u043a\\u043e\", \"\\u041c\\u043e\\u043b\\u0434\\u043e\\u0432\\u0430\", \"\\u041d\\u043e\\u0432\\u0430\\u044f \\u0417\\u0435\\u043b\\u0430\\u043d\\u0434\\u0438\\u044f\", \"\\u0418\\u0440\\u0430\\u043a\", \"\\u042d\\u0441\\u0442\\u043e\\u043d\\u0438\\u044f\", \"\\u0421\\u043b\\u043e\\u0432\\u0435\\u043d\\u0438\\u044f\", \"\\u0412\\u0435\\u043d\\u0433\\u0440\\u0438\\u044f\", \"\\u041b\\u0438\\u0442\\u0432\\u0430\", \"\\u0410\\u0437\\u0435\\u0440\\u0431\\u0430\\u0439\\u0434\\u0436\\u0430\\u043d\", \"\\u0410\\u0440\\u043c\\u0435\\u043d\\u0438\\u044f\", \"\\u041a\\u0443\\u0432\\u0435\\u0439\\u0442\", \"\\u0411\\u0430\\u0445\\u0440\\u0435\\u0439\\u043d\", \"\\u0411\\u043e\\u0441\\u043d\\u0438\\u044f \\u0438 \\u0413\\u0435\\u0440\\u0446\\u0435\\u0433\\u043e\\u0432\\u0438\\u043d\\u0430\", \"\\u041a\\u0430\\u0437\\u0430\\u0445\\u0441\\u0442\\u0430\\u043d\", \"\\u041a\\u0430\\u043c\\u0435\\u0440\\u0443\\u043d\", \"\\u0410\\u043b\\u043c\\u0430\\u0437\\u043d\\u0430\\u044f \\u043f\\u0440\\u0438\\u043d\\u0446\\u0435\\u0441\\u0441\\u0430\", \"\\u0421\\u043b\\u043e\\u0432\\u0430\\u043a\\u0438\\u044f\", \"\\u0421\\u0435\\u0432\\u0435\\u0440\\u043d\\u0430\\u044f \\u041c\\u0430\\u043a\\u0435\\u0434\\u043e\\u043d\\u0438\\u044f\", \"\\u0422\\u0443\\u043d\\u0438\\u0441\", \"\\u0411\\u043e\\u043b\\u0433\\u0430\\u0440\\u0438\\u044f\", \"\\u041b\\u0430\\u0442\\u0432\\u0438\\u044f\", \"\\u0410\\u043d\\u0434\\u043e\\u0440\\u0440\\u0430\", \"\\u041b\\u0438\\u0432\\u0430\\u043d\", \"\\u0423\\u0437\\u0431\\u0435\\u043a\\u0438\\u0441\\u0442\\u0430\\u043d\", \"\\u041a\\u0438\\u043f\\u0440\", \"\\u041a\\u043e\\u0441\\u0442\\u0430-\\u0420\\u0438\\u043a\\u0430\", \"\\u041a\\u0443\\u0431\\u0430\", \"\\u0410\\u0444\\u0433\\u0430\\u043d\\u0438\\u0441\\u0442\\u0430\\u043d\", \"\\u041e\\u043c\\u0430\\u043d\", \"\\u0423\\u0440\\u0443\\u0433\\u0432\\u0430\\u0439\", \"\\u041a\\u043e\\u0442-\\u0434'\\u0418\\u0432\\u0443\\u0430\\u0440\", \"\\u0411\\u0443\\u0440\\u043a\\u0438\\u043d\\u0430-\\u0424\\u0430\\u0441\\u043e\", \"\\u041d\\u0438\\u0433\\u0435\\u0440\", \"\\u0410\\u043b\\u0431\\u0430\\u043d\\u0438\\u044f\", \"\\u0422\\u0430\\u0439\\u0432\\u0430\\u043d\\u044c *\", \"\\u0413\\u0430\\u043d\\u0430\", \"\\u0418\\u043e\\u0440\\u0434\\u0430\\u043d\\u0438\\u044f\", \"\\u0413\\u043e\\u043d\\u0434\\u0443\\u0440\\u0430\\u0441\", \"\\u041c\\u0430\\u043b\\u044c\\u0442\\u0430\", \"\\u0421\\u0430\\u043d-\\u041c\\u0430\\u0440\\u0438\\u043d\\u043e\", \"\\u0411\\u0430\\u043d\\u0433\\u043b\\u0430\\u0434\\u0435\\u0448\", \"\\u041c\\u0430\\u0432\\u0440\\u0438\\u043a\\u0438\\u0439\", \"\\u041d\\u0438\\u0433\\u0435\\u0440\\u0438\\u044f\", \"\\u041a\\u044b\\u0440\\u0433\\u044b\\u0437\\u0441\\u0442\\u0430\\u043d\", \"\\u0411\\u043e\\u043b\\u0438\\u0432\\u0438\\u044f\", \"\\u0417\\u0430\\u043f\\u0430\\u0434\\u043d\\u044b\\u0439 \\u0431\\u0435\\u0440\\u0435\\u0433 \\u0438 \\u0441\\u0435\\u043a\\u0442\\u043e\\u0440 \\u0413\\u0430\\u0437\\u0430\", \"\\u0412\\u044c\\u0435\\u0442\\u043d\\u0430\\u043c\", \"\\u0427\\u0435\\u0440\\u043d\\u043e\\u0433\\u043e\\u0440\\u0438\\u044f\", \"\\u0421\\u0435\\u043d\\u0435\\u0433\\u0430\\u043b\", \"\\u0413\\u0440\\u0443\\u0437\\u0438\\u044f\", \"\\u0413\\u0432\\u0438\\u043d\\u0435\\u044f\", \"\\u0428\\u0440\\u0438-\\u041b\\u0430\\u043d\\u043a\\u0430\", \"\\u041a\\u043e\\u0441\\u043e\\u0432\\u043e\", \"\\u041a\\u0435\\u043d\\u0438\\u044f\", \"\\u041a\\u043e\\u043d\\u0433\\u043e (\\u041a\\u0438\\u043d\\u0448\\u0430\\u0441\\u0430)\", \"\\u0412\\u0435\\u043d\\u0435\\u0441\\u0443\\u044d\\u043b\\u0430\", \"\\u0414\\u0436\\u0438\\u0431\\u0443\\u0442\\u0438\", \"\\u0411\\u0440\\u0443\\u043d\\u0435\\u0439\", \"\\u041f\\u0430\\u0440\\u0430\\u0433\\u0432\\u0430\\u0439\", \"\\u041a\\u0430\\u043c\\u0431\\u043e\\u0434\\u0436\\u0430\", \"\\u0420\\u0443\\u0430\\u043d\\u0434\\u0430\", \"\\u0422\\u0440\\u0438\\u043d\\u0438\\u0434\\u0430\\u0434 \\u0438 \\u0422\\u043e\\u0431\\u0430\\u0433\\u043e\", \"\\u0421\\u0430\\u043b\\u044c\\u0432\\u0430\\u0434\\u043e\\u0440\", \"\\u0413\\u0432\\u0430\\u0442\\u0435\\u043c\\u0430\\u043b\\u0430\", \"\\u041c\\u0430\\u0434\\u0430\\u0433\\u0430\\u0441\\u043a\\u0430\\u0440\", \"\\u041c\\u043e\\u043d\\u0430\\u043a\\u043e\", \"\\u041b\\u0438\\u0445\\u0442\\u0435\\u043d\\u0448\\u0442\\u0435\\u0439\\u043d\", \"\\u041c\\u0430\\u043b\\u0438\", \"\\u0422\\u043e\\u0433\\u043e\", \"\\u0411\\u0430\\u0440\\u0431\\u0430\\u0434\\u043e\\u0441\", \"\\u042f\\u043c\\u0430\\u0439\\u043a\\u0430\", \"\\u041a\\u043e\\u043d\\u0433\\u043e (\\u0411\\u0440\\u0430\\u0437\\u0437\\u0430\\u0432\\u0438\\u043b\\u044c)\", \"\\u042d\\u0444\\u0438\\u043e\\u043f\\u0438\\u044f\", \"\\u0423\\u0433\\u0430\\u043d\\u0434\\u0430\", \"\\u0413\\u0430\\u0431\\u043e\\u043d\", \"\\u0411\\u0430\\u0433\\u0430\\u043c\\u0441\\u043a\\u0438\\u0435 \\u043e-\\u0432\\u0430\", \"\\u0417\\u0430\\u043c\\u0431\\u0438\\u044f\", \"\\u0413\\u0430\\u0439\\u0430\\u043d\\u0430\", \"\\u0413\\u0432\\u0438\\u043d\\u0435\\u044f-\\u0411\\u0438\\u0441\\u0430\\u0443\", \"\\u042d\\u0440\\u0438\\u0442\\u0440\\u0435\\u044f\", \"\\u041b\\u0438\\u0431\\u0435\\u0440\\u0438\\u044f\", \"\\u0413\\u0430\\u0438\\u0442\\u0438\", \"\\u0411\\u0435\\u043d\\u0438\\u043d\", \"\\u0422\\u0430\\u043d\\u0437\\u0430\\u043d\\u0438\\u044f\", \"\\u041b\\u0438\\u0432\\u0438\\u044f\", \"\\u0411\\u0438\\u0440\\u043c\\u0430\", \"\\u041c\\u0430\\u043b\\u044c\\u0434\\u0438\\u0432\\u0441\\u043a\\u0438\\u0435 \\u043e-\\u0432\\u0430\", \"\\u0421\\u0438\\u0440\\u0438\\u044f\", \"\\u0410\\u043d\\u0442\\u0438\\u0433\\u0443\\u0430 \\u0438 \\u0411\\u0430\\u0440\\u0431\\u0443\\u0434\\u0430\", \"\\u0410\\u043d\\u0433\\u043e\\u043b\\u0430\", \"\\u042d\\u043a\\u0432\\u0430\\u0442\\u043e\\u0440\\u0438\\u0430\\u043b\\u044c\\u043d\\u0430\\u044f \\u0413\\u0432\\u0438\\u043d\\u0435\\u044f\", \"\\u041c\\u043e\\u0437\\u0430\\u043c\\u0431\\u0438\\u043a\", \"\\u041d\\u0430\\u043c\\u0438\\u0431\\u0438\\u044f\", \"\\u041b\\u0430\\u043e\\u0441\", \"\\u041c\\u043e\\u043d\\u0433\\u043e\\u043b\\u0438\\u044f\", \"\\u0424\\u0438\\u0434\\u0436\\u0438\", \"\\u0414\\u043e\\u043c\\u0438\\u043d\\u0438\\u043a\\u0430\", \"\\u0421\\u0443\\u0434\\u0430\\u043d\", \"\\u0421\\u0435\\u043d\\u0442-\\u041b\\u044e\\u0441\\u0438\\u044f\", \"\\u0411\\u043e\\u0442\\u0441\\u0432\\u0430\\u043d\\u0430\", \"\\u0413\\u0440\\u0435\\u043d\\u0430\\u0434\\u0430\", \"\\u0421\\u0435\\u043d\\u0442-\\u0412\\u0438\\u043d\\u0441\\u0435\\u043d\\u0442 \\u0438 \\u0413\\u0440\\u0435\\u043d\\u0430\\u0434\\u0438\\u043d\\u044b\", \"\\u0421\\u043e\\u043c\\u0430\\u043b\\u0438\", \"Eswatini\", \"\\u0417\\u0438\\u043c\\u0431\\u0430\\u0431\\u0432\\u0435\", \"\\u0427\\u0430\\u0434\", \"\\u0421\\u0435\\u043d\\u0442-\\u041a\\u0438\\u0442\\u0441 \\u0438 \\u041d\\u0435\\u0432\\u0438\\u0441\", \"\\u0421\\u0435\\u0439\\u0448\\u0435\\u043b\\u044b\", \"\\u0421\\u0443\\u0440\\u0438\\u043d\\u0430\\u043c\", \"MS \\u0417\\u0430\\u043d\\u0434\\u0430\\u043c\", \"\\u041d\\u0435\\u043f\\u0430\\u043b\", \"\\u0411\\u0435\\u043b\\u0438\\u0437\", \"\\u041c\\u0430\\u043b\\u0430\\u0432\\u0438\", \"\\u0421\\u0432\\u044f\\u0442\\u043e\\u0439 \\u041f\\u0440\\u0435\\u0441\\u0442\\u043e\\u043b\", \"\\u0426\\u0435\\u043d\\u0442\\u0440\\u0430\\u043b\\u044c\\u043d\\u043e-\\u0410\\u0444\\u0440\\u0438\\u043a\\u0430\\u043d\\u0441\\u043a\\u0430\\u044f \\u0420\\u0435\\u0441\\u043f\\u0443\\u0431\\u043b\\u0438\\u043a\\u0430\", \"\\u041d\\u0438\\u043a\\u0430\\u0440\\u0430\\u0433\\u0443\\u0430\", \"\\u041c\\u0430\\u0432\\u0440\\u0438\\u0442\\u0430\\u043d\\u0438\\u044f\", \"\\u0421\\u044c\\u0435\\u0440\\u0440\\u0430-\\u041b\\u0435\\u043e\\u043d\\u0435\", \"\\u041a\\u0430\\u0431\\u043e-\\u0412\\u0435\\u0440\\u0434\\u0435\", \"\\u0411\\u0443\\u0442\\u0430\\u043d\", \"\\u0421\\u0430\\u043d-\\u0422\\u043e\\u043c\\u0435 \\u0438 \\u041f\\u0440\\u0438\\u043d\\u0441\\u0438\\u043f\\u0438\", \"\\u0417\\u0430\\u043f\\u0430\\u0434\\u043d\\u0430\\u044f \\u0421\\u0430\\u0445\\u0430\\u0440\\u0430\", \"\\u0413\\u0430\\u043c\\u0431\\u0438\\u044f\", \"\\u0411\\u0443\\u0440\\u0443\\u043d\\u0434\\u0438\", \"\\u042e\\u0436\\u043d\\u044b\\u0439 \\u0421\\u0443\\u0434\\u0430\\u043d\", \"\\u041f\\u0430\\u043f\\u0443\\u0430-\\u041d\\u043e\\u0432\\u0430\\u044f \\u0413\\u0432\\u0438\\u043d\\u0435\\u044f\", \"\\u0412\\u043e\\u0441\\u0442\\u043e\\u0447\\u043d\\u044b\\u0439 \\u0422\\u0438\\u043c\\u043e\\u0440\"], \"type\": \"scatter\", \"x\": [2403, 503, 950, 409, 295, 204, 76, 86, 793, 226, 263, 108, 51, 57, 237, 174, 112, 138, 248, 272, 94, 65, 67, 203, 280, 44, 174, 52, 14, 66, 42, 63, 32, 6, 118, 69, 87, 18, 6, 57, 72, 118, 235, 6, 16, 20, 97, 29, 1, 69, 24, 43, 66, 16, 9, 10, 1, 5, 35, 8, 10, 11, 2, 30, 25, 24, 3, 25, 19, 3, 10, 3, 15, 15, 3, 7, 3, 24, 11, 23, 5, 6, 7, 23, 2, 34, 21, 7, 7, 4, 18, 1, 0, 2, 2, 3, 0, 7, 5, 7, 18, 9, 0, 1, 5, 0, 0, 8, 6, 3, 0, 1, 1, 7, 3, 3, 4, 5, 2, 0, 1, 8, 1, 6, 0, 0, 4, 2, 1, 1, 1, 3, 0, 2, 2, 2, 0, 0, 0, 0, 0, 0, 0, 2, 0, 1, 0, 0, 1, 0, 3, 0, 0, 0, 1, 2, 0, 1, 1, 0, 0, 1, 1, 0, 1, 0, 0, 0, 1, 0, 0, 0, 0], \"y\": [278, 5162, 173, 205, 5240, 6973, 698, 1011, 205, 620, 25, 32, 1472, 1274, 1883, 284, 301, 1438, 647, 339, 632, 572, 1608, 124, 252, 666, 633, 500, 268, 0, 300, 16, 940, 206, 80, 174, 269, 95, 460, 45, 365, 348, 347, 688, 139, 219, 109, 50, 317, 496, 83, 128, 96, 8, 101, 138, 111, 519, 101, 60, 60, 619, 23, 37, 25, 48, 16, 58, 67, 38, 53, 30, 28, 32, 109, 192, 52, 146, 40, 165, 67, 3, 161, 6, 16, 49, 33, 23, 51, 35, 2, 44, 128, 4, 123, 51, 11, 49, 30, 12, 9, 84, 25, 92, 18, 62, 7, 1, 14, 17, 11, 5, 55, 22, 24, 11, 12, 5, 4, 0, 1, 5, 24, 8, 0, 0, 3, 0, 5, 5, 8, 2, 13, 4, 0, 2, 3, 1, 3, 0, 4, 0, 1, 2, 1, 0, 0, 1, 1, 7, 0, 2, 0, 0, 4, 0, 1, 0, 0, 2, 0, 0, 2, 0, 1, 2, 0, 0, 2, 0, 0, 0, 0]}, {\"marker\": {\"color\": \"rgba(0,0,255,1)\"}, \"mode\": \"markers+text\", \"name\": \"Russia\", \"text\": [\"\\u0420\\u043e\\u0441\\u0441\\u0438\\u044f\"], \"textposition\": \"middle right\", \"type\": \"scatter\", \"x\": [76], \"y\": [698]}],\n",
       "                        {\"annotations\": [{\"showarrow\": false, \"text\": \"\\u00a9 \\u0410\\u043b\\u0435\\u043a\\u0441\\u0435\\u0439 \\u041d\\u043e\\u0432\\u0438\\u0447\\u043a\\u043e\\u0432, dataviz.ru. \\u0418\\u0441\\u0442\\u043e\\u0447\\u043d\\u0438\\u043a: Johns Hopkins CSSE. \\u0414\\u0430\\u0442\\u0430: 09.04.2020\", \"x\": 0, \"xanchor\": \"left\", \"xshift\": -50, \"y\": 0, \"yshift\": -70}], \"font\": {\"color\": \"rgb(0,0,0)\", \"family\": \"Navigo\", \"size\": 12}, \"height\": 800, \"margin\": {\"b\": 120, \"l\": 70, \"r\": 70, \"t\": 100}, \"paper_bgcolor\": \"white\", \"showlegend\": false, \"template\": {\"data\": {\"bar\": [{\"error_x\": {\"color\": \"#2a3f5f\"}, \"error_y\": {\"color\": \"#2a3f5f\"}, \"marker\": {\"line\": {\"color\": \"white\", \"width\": 0.5}}, \"type\": \"bar\"}], \"barpolar\": [{\"marker\": {\"line\": {\"color\": \"white\", \"width\": 0.5}}, \"type\": \"barpolar\"}], \"carpet\": [{\"aaxis\": {\"endlinecolor\": \"#2a3f5f\", \"gridcolor\": \"#C8D4E3\", \"linecolor\": \"#C8D4E3\", \"minorgridcolor\": \"#C8D4E3\", \"startlinecolor\": \"#2a3f5f\"}, \"baxis\": {\"endlinecolor\": \"#2a3f5f\", \"gridcolor\": \"#C8D4E3\", \"linecolor\": \"#C8D4E3\", \"minorgridcolor\": \"#C8D4E3\", \"startlinecolor\": \"#2a3f5f\"}, \"type\": \"carpet\"}], \"choropleth\": [{\"colorbar\": {\"outlinewidth\": 0, \"ticks\": \"\"}, \"type\": \"choropleth\"}], \"contour\": [{\"colorbar\": {\"outlinewidth\": 0, \"ticks\": \"\"}, \"colorscale\": [[0.0, \"#0d0887\"], [0.1111111111111111, \"#46039f\"], [0.2222222222222222, \"#7201a8\"], [0.3333333333333333, \"#9c179e\"], [0.4444444444444444, \"#bd3786\"], [0.5555555555555556, \"#d8576b\"], [0.6666666666666666, \"#ed7953\"], [0.7777777777777778, \"#fb9f3a\"], [0.8888888888888888, \"#fdca26\"], [1.0, \"#f0f921\"]], \"type\": \"contour\"}], \"contourcarpet\": [{\"colorbar\": {\"outlinewidth\": 0, \"ticks\": \"\"}, \"type\": \"contourcarpet\"}], \"heatmap\": [{\"colorbar\": {\"outlinewidth\": 0, \"ticks\": \"\"}, \"colorscale\": [[0.0, \"#0d0887\"], [0.1111111111111111, \"#46039f\"], [0.2222222222222222, \"#7201a8\"], [0.3333333333333333, \"#9c179e\"], [0.4444444444444444, \"#bd3786\"], [0.5555555555555556, \"#d8576b\"], [0.6666666666666666, \"#ed7953\"], [0.7777777777777778, \"#fb9f3a\"], [0.8888888888888888, \"#fdca26\"], [1.0, \"#f0f921\"]], \"type\": \"heatmap\"}], \"heatmapgl\": [{\"colorbar\": {\"outlinewidth\": 0, \"ticks\": \"\"}, \"colorscale\": [[0.0, \"#0d0887\"], [0.1111111111111111, \"#46039f\"], [0.2222222222222222, \"#7201a8\"], [0.3333333333333333, \"#9c179e\"], [0.4444444444444444, \"#bd3786\"], [0.5555555555555556, \"#d8576b\"], [0.6666666666666666, \"#ed7953\"], [0.7777777777777778, \"#fb9f3a\"], [0.8888888888888888, \"#fdca26\"], [1.0, \"#f0f921\"]], \"type\": \"heatmapgl\"}], \"histogram\": [{\"marker\": {\"colorbar\": {\"outlinewidth\": 0, \"ticks\": \"\"}}, \"type\": \"histogram\"}], \"histogram2d\": [{\"colorbar\": {\"outlinewidth\": 0, \"ticks\": \"\"}, \"colorscale\": [[0.0, \"#0d0887\"], [0.1111111111111111, \"#46039f\"], [0.2222222222222222, \"#7201a8\"], [0.3333333333333333, \"#9c179e\"], [0.4444444444444444, \"#bd3786\"], [0.5555555555555556, \"#d8576b\"], [0.6666666666666666, \"#ed7953\"], [0.7777777777777778, \"#fb9f3a\"], [0.8888888888888888, \"#fdca26\"], [1.0, \"#f0f921\"]], \"type\": \"histogram2d\"}], \"histogram2dcontour\": [{\"colorbar\": {\"outlinewidth\": 0, \"ticks\": \"\"}, \"colorscale\": [[0.0, \"#0d0887\"], [0.1111111111111111, \"#46039f\"], [0.2222222222222222, \"#7201a8\"], [0.3333333333333333, \"#9c179e\"], [0.4444444444444444, \"#bd3786\"], [0.5555555555555556, \"#d8576b\"], [0.6666666666666666, \"#ed7953\"], [0.7777777777777778, \"#fb9f3a\"], [0.8888888888888888, \"#fdca26\"], [1.0, \"#f0f921\"]], \"type\": \"histogram2dcontour\"}], \"mesh3d\": [{\"colorbar\": {\"outlinewidth\": 0, \"ticks\": \"\"}, \"type\": \"mesh3d\"}], \"parcoords\": [{\"line\": {\"colorbar\": {\"outlinewidth\": 0, \"ticks\": \"\"}}, \"type\": \"parcoords\"}], \"pie\": [{\"automargin\": true, \"type\": \"pie\"}], \"scatter\": [{\"marker\": {\"colorbar\": {\"outlinewidth\": 0, \"ticks\": \"\"}}, \"type\": \"scatter\"}], \"scatter3d\": [{\"line\": {\"colorbar\": {\"outlinewidth\": 0, \"ticks\": \"\"}}, \"marker\": {\"colorbar\": {\"outlinewidth\": 0, \"ticks\": \"\"}}, \"type\": \"scatter3d\"}], \"scattercarpet\": [{\"marker\": {\"colorbar\": {\"outlinewidth\": 0, \"ticks\": \"\"}}, \"type\": \"scattercarpet\"}], \"scattergeo\": [{\"marker\": {\"colorbar\": {\"outlinewidth\": 0, \"ticks\": \"\"}}, \"type\": \"scattergeo\"}], \"scattergl\": [{\"marker\": {\"colorbar\": {\"outlinewidth\": 0, \"ticks\": \"\"}}, \"type\": \"scattergl\"}], \"scattermapbox\": [{\"marker\": {\"colorbar\": {\"outlinewidth\": 0, \"ticks\": \"\"}}, \"type\": \"scattermapbox\"}], \"scatterpolar\": [{\"marker\": {\"colorbar\": {\"outlinewidth\": 0, \"ticks\": \"\"}}, \"type\": \"scatterpolar\"}], \"scatterpolargl\": [{\"marker\": {\"colorbar\": {\"outlinewidth\": 0, \"ticks\": \"\"}}, \"type\": \"scatterpolargl\"}], \"scatterternary\": [{\"marker\": {\"colorbar\": {\"outlinewidth\": 0, \"ticks\": \"\"}}, \"type\": \"scatterternary\"}], \"surface\": [{\"colorbar\": {\"outlinewidth\": 0, \"ticks\": \"\"}, \"colorscale\": [[0.0, \"#0d0887\"], [0.1111111111111111, \"#46039f\"], [0.2222222222222222, \"#7201a8\"], [0.3333333333333333, \"#9c179e\"], [0.4444444444444444, \"#bd3786\"], [0.5555555555555556, \"#d8576b\"], [0.6666666666666666, \"#ed7953\"], [0.7777777777777778, \"#fb9f3a\"], [0.8888888888888888, \"#fdca26\"], [1.0, \"#f0f921\"]], \"type\": \"surface\"}], \"table\": [{\"cells\": {\"fill\": {\"color\": \"#EBF0F8\"}, \"line\": {\"color\": \"white\"}}, \"header\": {\"fill\": {\"color\": \"#C8D4E3\"}, \"line\": {\"color\": \"white\"}}, \"type\": \"table\"}]}, \"layout\": {\"annotationdefaults\": {\"arrowcolor\": \"#2a3f5f\", \"arrowhead\": 0, \"arrowwidth\": 1}, \"coloraxis\": {\"colorbar\": {\"outlinewidth\": 0, \"ticks\": \"\"}}, \"colorscale\": {\"diverging\": [[0, \"#8e0152\"], [0.1, \"#c51b7d\"], [0.2, \"#de77ae\"], [0.3, \"#f1b6da\"], [0.4, \"#fde0ef\"], [0.5, \"#f7f7f7\"], [0.6, \"#e6f5d0\"], [0.7, \"#b8e186\"], [0.8, \"#7fbc41\"], [0.9, \"#4d9221\"], [1, \"#276419\"]], \"sequential\": [[0.0, \"#0d0887\"], [0.1111111111111111, \"#46039f\"], [0.2222222222222222, \"#7201a8\"], [0.3333333333333333, \"#9c179e\"], [0.4444444444444444, \"#bd3786\"], [0.5555555555555556, \"#d8576b\"], [0.6666666666666666, \"#ed7953\"], [0.7777777777777778, \"#fb9f3a\"], [0.8888888888888888, \"#fdca26\"], [1.0, \"#f0f921\"]], \"sequentialminus\": [[0.0, \"#0d0887\"], [0.1111111111111111, \"#46039f\"], [0.2222222222222222, \"#7201a8\"], [0.3333333333333333, \"#9c179e\"], [0.4444444444444444, \"#bd3786\"], [0.5555555555555556, \"#d8576b\"], [0.6666666666666666, \"#ed7953\"], [0.7777777777777778, \"#fb9f3a\"], [0.8888888888888888, \"#fdca26\"], [1.0, \"#f0f921\"]]}, \"colorway\": [\"#636efa\", \"#EF553B\", \"#00cc96\", \"#ab63fa\", \"#FFA15A\", \"#19d3f3\", \"#FF6692\", \"#B6E880\", \"#FF97FF\", \"#FECB52\"], \"font\": {\"color\": \"#2a3f5f\"}, \"geo\": {\"bgcolor\": \"white\", \"lakecolor\": \"white\", \"landcolor\": \"white\", \"showlakes\": true, \"showland\": true, \"subunitcolor\": \"#C8D4E3\"}, \"hoverlabel\": {\"align\": \"left\"}, \"hovermode\": \"closest\", \"mapbox\": {\"style\": \"light\"}, \"paper_bgcolor\": \"white\", \"plot_bgcolor\": \"white\", \"polar\": {\"angularaxis\": {\"gridcolor\": \"#EBF0F8\", \"linecolor\": \"#EBF0F8\", \"ticks\": \"\"}, \"bgcolor\": \"white\", \"radialaxis\": {\"gridcolor\": \"#EBF0F8\", \"linecolor\": \"#EBF0F8\", \"ticks\": \"\"}}, \"scene\": {\"xaxis\": {\"backgroundcolor\": \"white\", \"gridcolor\": \"#DFE8F3\", \"gridwidth\": 2, \"linecolor\": \"#EBF0F8\", \"showbackground\": true, \"ticks\": \"\", \"zerolinecolor\": \"#EBF0F8\"}, \"yaxis\": {\"backgroundcolor\": \"white\", \"gridcolor\": \"#DFE8F3\", \"gridwidth\": 2, \"linecolor\": \"#EBF0F8\", \"showbackground\": true, \"ticks\": \"\", \"zerolinecolor\": \"#EBF0F8\"}, \"zaxis\": {\"backgroundcolor\": \"white\", \"gridcolor\": \"#DFE8F3\", \"gridwidth\": 2, \"linecolor\": \"#EBF0F8\", \"showbackground\": true, \"ticks\": \"\", \"zerolinecolor\": \"#EBF0F8\"}}, \"shapedefaults\": {\"line\": {\"color\": \"#2a3f5f\"}}, \"ternary\": {\"aaxis\": {\"gridcolor\": \"#DFE8F3\", \"linecolor\": \"#A2B1C6\", \"ticks\": \"\"}, \"baxis\": {\"gridcolor\": \"#DFE8F3\", \"linecolor\": \"#A2B1C6\", \"ticks\": \"\"}, \"bgcolor\": \"white\", \"caxis\": {\"gridcolor\": \"#DFE8F3\", \"linecolor\": \"#A2B1C6\", \"ticks\": \"\"}}, \"title\": {\"x\": 0.05}, \"xaxis\": {\"automargin\": true, \"gridcolor\": \"#EBF0F8\", \"linecolor\": \"#EBF0F8\", \"ticks\": \"\", \"title\": {\"standoff\": 15}, \"zerolinecolor\": \"#EBF0F8\", \"zerolinewidth\": 2}, \"yaxis\": {\"automargin\": true, \"gridcolor\": \"#EBF0F8\", \"linecolor\": \"#EBF0F8\", \"ticks\": \"\", \"title\": {\"standoff\": 15}, \"zerolinecolor\": \"#EBF0F8\", \"zerolinewidth\": 2}}}, \"title\": {\"font\": {\"color\": \"rgb(0,0,0)\", \"family\": \"Navigo\", \"size\": 28}, \"text\": \"\\u041a\\u043e\\u043b\\u0438\\u0447\\u0435\\u0441\\u0442\\u0432\\u043e \\u0443\\u043c\\u0435\\u0440\\u0448\\u0438\\u0445 \\u0438 \\u0432\\u044b\\u0437\\u0434\\u043e\\u0440\\u043e\\u0432\\u0435\\u0432\\u0448\\u0438\\u0445 \\u043e\\u0442 COVID-19\", \"x\": 0.03, \"xanchor\": \"left\", \"y\": 0.955, \"yanchor\": \"top\"}, \"width\": 800, \"xaxis\": {\"autorange\": false, \"gridcolor\": \"rgba(230,230,230,1)\", \"linecolor\": \"rgba(200,200,200,1)\", \"linewidth\": 1, \"range\": [0, 20000], \"showgrid\": true, \"showline\": true, \"tickcolor\": \"rgba(200,200,200,1)\", \"tickfont\": {\"color\": \"rgba(100,100,100,1)\", \"size\": 12}, \"ticks\": \"outside\", \"ticktext\": [\"0\", \"5\", \"10\", \"15\", \"20\"], \"tickvals\": [0, 5000, 10000, 15000, 20000], \"title\": {\"standoff\": 5, \"text\": \"\\u0423\\u043c\\u0435\\u0440\\u0448\\u0438\\u0435 (\\u0442\\u044b\\u0441.\\u0447\\u0435\\u043b.)\"}, \"type\": \"linear\"}, \"yaxis\": {\"autorange\": false, \"gridcolor\": \"rgba(230,230,230,1)\", \"linecolor\": \"rgba(200,200,200,1)\", \"linewidth\": 1, \"range\": [0, 80000], \"showgrid\": true, \"showline\": true, \"tickcolor\": \"rgba(200,200,200,1)\", \"tickfont\": {\"color\": \"rgba(100,100,100,1)\", \"size\": 12}, \"ticks\": \"outside\", \"ticktext\": [\"0\", \"20\", \"40\", \"60\", \"80\"], \"tickvals\": [0, 20000, 40000, 60000, 80000], \"title\": {\"standoff\": 5, \"text\": \"\\u0412\\u044b\\u0437\\u0434\\u043e\\u0440\\u043e\\u0432\\u0435\\u0432\\u0448\\u0438\\u0435 (\\u0442\\u044b\\u0441.\\u0447\\u0435\\u043b.)\"}, \"type\": \"linear\"}},\n",
       "                        {\"responsive\": true}\n",
       "                    ).then(function(){\n",
       "                            \n",
       "var gd = document.getElementById('420cc226-374d-41d2-8830-6cfb378a27c2');\n",
       "var x = new MutationObserver(function (mutations, observer) {{\n",
       "        var display = window.getComputedStyle(gd).display;\n",
       "        if (!display || display === 'none') {{\n",
       "            console.log([gd, 'removed!']);\n",
       "            Plotly.purge(gd);\n",
       "            observer.disconnect();\n",
       "        }}\n",
       "}});\n",
       "\n",
       "// Listen for the removal of the full notebook cells\n",
       "var notebookContainer = gd.closest('#notebook-container');\n",
       "if (notebookContainer) {{\n",
       "    x.observe(notebookContainer, {childList: true});\n",
       "}}\n",
       "\n",
       "// Listen for the clearing of the current output cell\n",
       "var outputEl = gd.closest('.output');\n",
       "if (outputEl) {{\n",
       "    x.observe(outputEl, {childList: true});\n",
       "}}\n",
       "\n",
       "                        })\n",
       "                };\n",
       "                });\n",
       "            </script>\n",
       "        </div>"
      ]
     },
     "metadata": {},
     "output_type": "display_data"
    }
   ],
   "source": [
    "fig = go.Figure()\n",
    "\n",
    "\n",
    "fig.add_trace(go.Scatter(x = top['Deaths'], y = top['Recovered'],\n",
    "                         mode = 'markers+text',\n",
    "                         text = top['translate'],\n",
    "                         textposition = 'middle right',\n",
    "                         marker_color = 'rgba(255,0,0,1)',\n",
    "                         name = 'Top-10'\n",
    "                        ))\n",
    "\n",
    "fig.add_trace(go.Scatter(x = others['Deaths'], y = others['Recovered'],\n",
    "                         mode = 'markers',\n",
    "                         text = others['translate'],\n",
    "                         marker_color = 'rgba(200,200,200, 1)',\n",
    "                         name = 'Other world'\n",
    "                        ))\n",
    "\n",
    "fig.add_trace(go.Scatter(x = russia['Deaths'], y = russia['Recovered'],\n",
    "                         mode = 'markers+text',\n",
    "                         text = russia['translate'],\n",
    "                         textposition = 'middle right',\n",
    "                         marker_color = 'rgba(0,0,255,1)',\n",
    "                         name = 'Russia'\n",
    "                        ))\n",
    "\n",
    "fig.update_layout(\n",
    "    template = 'plotly_white',\n",
    "    font = {'family': 'Navigo',\n",
    "            'color': 'rgb(0,0,0)',\n",
    "            'size': 12\n",
    "           },\n",
    "    width=800, height=800,\n",
    "    xaxis=dict(\n",
    "        autorange=False,\n",
    "        range=[0, 20000],\n",
    "        type='linear'\n",
    "    ),\n",
    "        yaxis=dict(\n",
    "        autorange=False,\n",
    "        range=[0, 80000],\n",
    "        type='linear'\n",
    "    ),\n",
    "    title={\n",
    "    'text': \"Количество умерших и выздоровевших от COVID-19\",        \n",
    "    'y':.955,        \n",
    "    'x':.03,        \n",
    "    'font':{\n",
    "            'family': 'Navigo',\n",
    "            'size': 28,\n",
    "            'color': 'rgb(0,0,0)'},\n",
    "        'xanchor': 'left',\n",
    "        'yanchor': 'top'},\n",
    "    xaxis_title=\"Умершие (тыс.чел.)\",\n",
    "    yaxis_title=\"Выздоровевшие (тыс.чел.)\",\n",
    "    showlegend=False,\n",
    "    margin=dict(\n",
    "        b=120,\n",
    "        l=70,\n",
    "        t=100,\n",
    "        r=70\n",
    "    ),\n",
    "    paper_bgcolor = 'white',\n",
    "    annotations=[dict(\n",
    "            showarrow=False,\n",
    "            x=0,\n",
    "            y=0,\n",
    "            text=\"© Алексей Новичков, dataviz.ru. Источник: Johns Hopkins CSSE. Дата: \" + date,\n",
    "            xanchor=\"left\",\n",
    "            xshift=-50,\n",
    "            yshift=-70,        \n",
    "            )]\n",
    ")\n",
    "\n",
    "fig.update_xaxes(\n",
    "    ticktext=['0','5', '10', '15', '20'],\n",
    "    tickvals=[0, 5000, 10000, 15000, 20000],\n",
    "    tickfont=dict(color='rgba(100,100,100,1)', \n",
    "                  size=12,\n",
    "                 ),\n",
    "    ticks=\"outside\",\n",
    "    tickcolor='rgba(200,200,200,1)',\n",
    "    showline=True, \n",
    "    linewidth=1, \n",
    "    linecolor='rgba(200,200,200,1)',\n",
    "    showgrid=True,\n",
    "    title_standoff = 5,\n",
    "    gridcolor='rgba(230,230,230,1)'\n",
    ")\n",
    "\n",
    "fig.update_yaxes(\n",
    "    ticktext=['0', '20', '40', '60', '80'],\n",
    "    tickvals=[0, 20000, 40000, 60000, 80000],\n",
    "    tickfont=dict(color='rgba(100,100,100,1)', \n",
    "                  size=12),    \n",
    "    ticks=\"outside\",\n",
    "    tickcolor= 'rgba(200,200,200,1)',    \n",
    "    showline=True, \n",
    "    linewidth=1, \n",
    "    linecolor='rgba(200,200,200,1)',\n",
    "    showgrid=True,\n",
    "    title_standoff = 5,\n",
    "    gridcolor='rgba(230,230,230,1)'\n",
    ")\n",
    "\n",
    "fig.show()"
   ]
  },
  {
   "cell_type": "code",
   "execution_count": 29,
   "metadata": {},
   "outputs": [
    {
     "data": {
      "image/png": "[encoded data removed]",
      "text/plain": [
       "<IPython.core.display.Image object>"
      ]
     },
     "execution_count": 29,
     "metadata": {},
     "output_type": "execute_result"
    }
   ],
   "source": [
    "fig.write_image(\"images/covid19-Confirmedanddeath-\"+ date2 +\".png\", scale = 3)\n",
    "img_bytes = fig.to_image(format=\"png\")\n",
    "from IPython.display import Image\n",
    "Image(img_bytes)"
   ]
  },
  {
   "cell_type": "code",
   "execution_count": null,
   "metadata": {},
   "outputs": [],
   "source": []
  }
 ],
 "metadata": {
  "kernelspec": {
   "display_name": "Python 3",
   "language": "python",
   "name": "python3"
  },
  "language_info": {
   "codemirror_mode": {
    "name": "ipython",
    "version": 3
   },
   "file_extension": ".py",
   "mimetype": "text/x-python",
   "name": "python",
   "nbconvert_exporter": "python",
   "pygments_lexer": "ipython3",
   "version": "3.7.4"
  }
 },
 "nbformat": 4,
 "nbformat_minor": 2
}
